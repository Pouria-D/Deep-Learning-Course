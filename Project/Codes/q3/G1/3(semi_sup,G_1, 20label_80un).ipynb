{
 "cells": [
  {
   "cell_type": "markdown",
   "id": "90285b29-ce2d-4d62-9e94-02848617aaec",
   "metadata": {},
   "source": [
    "# Data preprocessing"
   ]
  },
  {
   "cell_type": "code",
   "execution_count": 1,
   "id": "9e390bc7-5150-42d8-b065-f777bce50f1c",
   "metadata": {},
   "outputs": [],
   "source": [
    "import pandas as pd\n",
    "import json\n",
    "import random"
   ]
  },
  {
   "cell_type": "markdown",
   "id": "26d1e0f8-45a5-4e56-83a1-0cf85f0c3b69",
   "metadata": {},
   "source": [
    "make unlabeled tsv file from jsonl with 2 column(% 80 for unlabeled)"
   ]
  },
  {
   "cell_type": "code",
   "execution_count": 2,
   "id": "eb516500-32e7-4c9a-b60e-dc82e000432b",
   "metadata": {},
   "outputs": [
    {
     "name": "stdout",
     "output_type": "stream",
     "text": [
      "      model                                               text\n",
      "0       UNK  Riho Iida (born 1974) is a Japanese voice acto...\n",
      "1       UNK  A differentially rotating force-free magnetosp...\n",
      "2       UNK  Blue Hills Reservation is a state park located...\n",
      "3       UNK  We present the results of our numerical simula...\n",
      "4       UNK   This is usually a multiple of 100 (most often...\n",
      "...     ...                                                ...\n",
      "56816   UNK   Deborah Pratt (born Deborah Lee Howell; Augus...\n",
      "56817   UNK  \\n\\nHow to Make Strawberry Cheesecake\\n\\nMakin...\n",
      "56818   UNK  \\n\\nWe consider the Lieb-Oxford bound on the e...\n",
      "56819   UNK  If you're using an older version of Microsoft ...\n",
      "56820   UNK  The Carter constant, a proportionality constan...\n",
      "\n",
      "[56821 rows x 2 columns]\n"
     ]
    }
   ],
   "source": [
    "# Load the JSON file line by line\n",
    "json_file_path = \"E:/subtaskB_train.jsonl\"\n",
    "data = []\n",
    "with open(json_file_path, 'r') as file:\n",
    "    for line in file:\n",
    "        data.append(json.loads(line))\n",
    "# Randomly sample 50% of the rows\n",
    "sampled_data = random.sample(data, k=int(len(data) * 0.8))\n",
    "# Create a DataFrame from the sampled data\n",
    "df = pd.DataFrame(sampled_data)\n",
    "# Create a new DataFrame with the desired format\n",
    "result_df = pd.DataFrame({\n",
    "    'model': ['UNK'] * len(df),\n",
    "    'text': df['text']\n",
    "})\n",
    "# Save the result DataFrame to a TSV file without column names and index\n",
    "tsv_output_path = 'unlabel.tsv'\n",
    "result_df.to_csv(tsv_output_path, sep='\\t', index=False, header=False)\n",
    "# Print the result DataFrame\n",
    "print(result_df)"
   ]
  },
  {
   "cell_type": "markdown",
   "id": "18039a12-e8c8-4470-8912-950203564c03",
   "metadata": {},
   "source": [
    "make labeled tsv file from jsonl with 2 column(% 20 for labeled)"
   ]
  },
  {
   "cell_type": "code",
   "execution_count": 3,
   "id": "f3b7aab3-ce6e-4507-a82f-a2891c7a8ee5",
   "metadata": {},
   "outputs": [
    {
     "name": "stdout",
     "output_type": "stream",
     "text": [
      "         model                                               text\n",
      "0       cohere  \\n\\nHow to Play Howrse\\nHowrse is a fun, brows...\n",
      "1       bloomz  We present results on semi-inclusive deep-inel...\n",
      "2      chatGPT  In this study, we investigate the abundance of...\n",
      "3       cohere   Marcus Crassus was a Roman general and states...\n",
      "4      chatGPT  Madonna of the Candelabra is a painting create...\n",
      "...        ...                                                ...\n",
      "14200    dolly  Lyady, Vitebsk Region is a town in southwester...\n",
      "14201    human  The Mount Gretna Narrow Gauge Railway was a  n...\n",
      "14202   cohere  \\nWe study the Casimir effect in a 6D warped f...\n",
      "14203    dolly  Direct burial of cable under soil is the most ...\n",
      "14204  davinci   Toribio Losoya (1810 – March 6, 1836) was a S...\n",
      "\n",
      "[14205 rows x 2 columns]\n"
     ]
    }
   ],
   "source": [
    "# Load the JSON file line by line\n",
    "json_file_path = \"E:/subtaskB_train.jsonl\"\n",
    "data = []\n",
    "with open(json_file_path, 'r') as file:\n",
    "    for line in file:\n",
    "        data.append(json.loads(line))\n",
    "# Randomly sample 50% of the rows\n",
    "sampled_data = random.sample(data, k=int(len(data) * 0.2))\n",
    "# Create a DataFrame from the loaded data\n",
    "df = pd.DataFrame(sampled_data)\n",
    "# Create a new DataFrame with the desired format\n",
    "result_df = pd.DataFrame({\n",
    "    'model': df['model'].apply(lambda x: f'{x}'),\n",
    "    'text': df['text']\n",
    "})\n",
    "# Save the result DataFrame to a TSV file without column names and index\n",
    "tsv_output_path = 'label.tsv'\n",
    "result_df.to_csv(tsv_output_path, sep='\\t', index=False, header=False)\n",
    "# Print the result DataFrame\n",
    "print(result_df)"
   ]
  },
  {
   "cell_type": "markdown",
   "id": "98925ed5-265a-4912-aa36-e7ed9d43c3d2",
   "metadata": {},
   "source": [
    "make test tsv file from jsonl with 2 column"
   ]
  },
  {
   "cell_type": "code",
   "execution_count": 4,
   "id": "022a3126-e4b2-4dad-803e-2a5c1c1179cc",
   "metadata": {},
   "outputs": [
    {
     "name": "stdout",
     "output_type": "stream",
     "text": [
      "        model                                               text\n",
      "0     chatGPT  Overall, I found the paper \"Machine Comprehens...\n",
      "1     chatGPT  This paper \"Machine Comprehension Using Match-...\n",
      "2     chatGPT  The paper presents an end-to-end neural archit...\n",
      "3     chatGPT  This paper proposes an end-to-end neural archi...\n",
      "4     chatGPT  Title: Incorporating long-range consistency in...\n",
      "...       ...                                                ...\n",
      "2995    dolly  The paper Energy-Based Spherical Sparse Coding...\n",
      "2996    dolly  Dear Author, I have reviewed your submitted pa...\n",
      "2997    dolly  Denoising Auto-Encoders (DAE) have been used i...\n",
      "2998    dolly  The paper Revisiting Denoising Auto-Encoders, ...\n",
      "2999    dolly  This paper Revisiting Denoising Auto-Encoders ...\n",
      "\n",
      "[3000 rows x 2 columns]\n"
     ]
    }
   ],
   "source": [
    "# Load the JSON file line by line\n",
    "json_file_path = \"E:/subtaskB_dev.jsonl\"\n",
    "data = []\n",
    "with open(json_file_path, 'r') as file:\n",
    "    for line in file:\n",
    "        data.append(json.loads(line))\n",
    "# Create a DataFrame from the loaded data\n",
    "df = pd.DataFrame(data)\n",
    "# Create a new DataFrame with the desired format\n",
    "result_df = pd.DataFrame({\n",
    "    'model': df['model'].apply(lambda x: f'{x}'),\n",
    "    'text': df['text']\n",
    "})\n",
    "# Save the result DataFrame to a TSV file without column names and index\n",
    "tsv_output_path = 'test.tsv'\n",
    "result_df.to_csv(tsv_output_path, sep='\\t', index=False, header=False)\n",
    "# Print the result DataFrame\n",
    "print(result_df)"
   ]
  },
  {
   "cell_type": "markdown",
   "id": "1bef2ebb-167e-4872-b1eb-fa48b0cdad87",
   "metadata": {},
   "source": [
    "set column names to 'model' and 'text' for labeled tsv file"
   ]
  },
  {
   "cell_type": "code",
   "execution_count": 5,
   "id": "b0692eaa-0c44-4aac-a301-ae1da54fa7e1",
   "metadata": {},
   "outputs": [
    {
     "name": "stdout",
     "output_type": "stream",
     "text": [
      "         model                                               text\n",
      "0       cohere  \\n\\nHow to Play Howrse\\nHowrse is a fun, brows...\n",
      "1       bloomz  We present results on semi-inclusive deep-inel...\n",
      "2      chatGPT  In this study, we investigate the abundance of...\n",
      "3       cohere   Marcus Crassus was a Roman general and states...\n",
      "4      chatGPT  Madonna of the Candelabra is a painting create...\n",
      "...        ...                                                ...\n",
      "14200    dolly  Lyady, Vitebsk Region is a town in southwester...\n",
      "14201    human  The Mount Gretna Narrow Gauge Railway was a  n...\n",
      "14202   cohere  \\nWe study the Casimir effect in a 6D warped f...\n",
      "14203    dolly  Direct burial of cable under soil is the most ...\n",
      "14204  davinci   Toribio Losoya (1810 – March 6, 1836) was a S...\n",
      "\n",
      "[14205 rows x 2 columns]\n"
     ]
    }
   ],
   "source": [
    "file_path = 'label.tsv'\n",
    "# Read the TSV file and explicitly set column names to 'model' and 'text'\n",
    "df = pd.read_csv(file_path, delimiter='\\t', names=['model', 'text'])\n",
    "# Print the updated DataFrame\n",
    "print(df)\n",
    "# Save the DataFrame to a new TSV file with the updated column names\n",
    "output_file_path = 'label_1.tsv'\n",
    "df.to_csv(output_file_path, sep='\\t', index=False)"
   ]
  },
  {
   "cell_type": "markdown",
   "id": "6c214852-a8d2-45d1-9c22-1d4d8da2d1b2",
   "metadata": {},
   "source": [
    "set column names to 'model' and 'text' for unlabeled tsv file"
   ]
  },
  {
   "cell_type": "code",
   "execution_count": 6,
   "id": "b1bd90f3-1aa0-4372-8e73-7cfd9ff1dfe0",
   "metadata": {},
   "outputs": [
    {
     "name": "stdout",
     "output_type": "stream",
     "text": [
      "      model                                               text\n",
      "0       UNK  Riho Iida (born 1974) is a Japanese voice acto...\n",
      "1       UNK  A differentially rotating force-free magnetosp...\n",
      "2       UNK  Blue Hills Reservation is a state park located...\n",
      "3       UNK  We present the results of our numerical simula...\n",
      "4       UNK   This is usually a multiple of 100 (most often...\n",
      "...     ...                                                ...\n",
      "56816   UNK   Deborah Pratt (born Deborah Lee Howell; Augus...\n",
      "56817   UNK  \\n\\nHow to Make Strawberry Cheesecake\\n\\nMakin...\n",
      "56818   UNK  \\n\\nWe consider the Lieb-Oxford bound on the e...\n",
      "56819   UNK  If you're using an older version of Microsoft ...\n",
      "56820   UNK  The Carter constant, a proportionality constan...\n",
      "\n",
      "[56821 rows x 2 columns]\n"
     ]
    }
   ],
   "source": [
    "file_path = 'unlabel.tsv'\n",
    "# Read the TSV file and explicitly set column names to 'model' and 'text'\n",
    "df = pd.read_csv(file_path, delimiter='\\t', names=['model', 'text'])\n",
    "# Print the updated DataFrame\n",
    "print(df)\n",
    "# Save the DataFrame to a new TSV file with the updated column names\n",
    "output_file_path = 'unlabel_1.tsv'\n",
    "df.to_csv(output_file_path, sep='\\t', index=False)"
   ]
  },
  {
   "cell_type": "markdown",
   "id": "09725ae2-8a30-450a-b333-71a6734c84f9",
   "metadata": {},
   "source": [
    "set column names to 'model' and 'text' for test tsv file"
   ]
  },
  {
   "cell_type": "code",
   "execution_count": 7,
   "id": "9c6827ae-e5fc-41da-90b6-0313bc81ec99",
   "metadata": {},
   "outputs": [
    {
     "name": "stdout",
     "output_type": "stream",
     "text": [
      "        model                                               text\n",
      "0     chatGPT  Overall, I found the paper \"Machine Comprehens...\n",
      "1     chatGPT  This paper \"Machine Comprehension Using Match-...\n",
      "2     chatGPT  The paper presents an end-to-end neural archit...\n",
      "3     chatGPT  This paper proposes an end-to-end neural archi...\n",
      "4     chatGPT  Title: Incorporating long-range consistency in...\n",
      "...       ...                                                ...\n",
      "2995    dolly  The paper Energy-Based Spherical Sparse Coding...\n",
      "2996    dolly  Dear Author, I have reviewed your submitted pa...\n",
      "2997    dolly  Denoising Auto-Encoders (DAE) have been used i...\n",
      "2998    dolly  The paper Revisiting Denoising Auto-Encoders, ...\n",
      "2999    dolly  This paper Revisiting Denoising Auto-Encoders ...\n",
      "\n",
      "[3000 rows x 2 columns]\n"
     ]
    }
   ],
   "source": [
    "file_path = 'test.tsv'\n",
    "# Read the TSV file and explicitly set column names to 'model' and 'text'\n",
    "df = pd.read_csv(file_path, delimiter='\\t', names=['model', 'text'])\n",
    "# Print the updated DataFrame\n",
    "print(df)\n",
    "# Save the DataFrame to a new TSV file with the updated column names\n",
    "output_file_path = 'test_1.tsv'\n",
    "df.to_csv(output_file_path, sep='\\t', index=False)"
   ]
  },
  {
   "cell_type": "markdown",
   "id": "d57d83b0-d947-448c-bf93-fb6f6b83ccae",
   "metadata": {},
   "source": [
    "Merge \"model\" and \"text\" columns with a space in between for test tsv file"
   ]
  },
  {
   "cell_type": "code",
   "execution_count": 8,
   "id": "8a0f3933-f400-4c2a-ad47-0768bfeb03a4",
   "metadata": {},
   "outputs": [
    {
     "name": "stdout",
     "output_type": "stream",
     "text": [
      "                                                 merged\n",
      "0     chatGPT Overall, I found the paper \"Machine Co...\n",
      "1     chatGPT This paper \"Machine Comprehension Usin...\n",
      "2     chatGPT The paper presents an end-to-end neura...\n",
      "3     chatGPT This paper proposes an end-to-end neur...\n",
      "4     chatGPT Title: Incorporating long-range consis...\n",
      "...                                                 ...\n",
      "2995  dolly The paper Energy-Based Spherical Sparse ...\n",
      "2996  dolly Dear Author, I have reviewed your submit...\n",
      "2997  dolly Denoising Auto-Encoders (DAE) have been ...\n",
      "2998  dolly The paper Revisiting Denoising Auto-Enco...\n",
      "2999  dolly This paper Revisiting Denoising Auto-Enc...\n",
      "\n",
      "[3000 rows x 1 columns]\n"
     ]
    }
   ],
   "source": [
    "# Read the TSV file into a DataFrame\n",
    "file_path = 'test_1.tsv'  \n",
    "df = pd.read_csv(file_path, sep='\\t')\n",
    "# Merge \"model\" and \"text\" columns with a space in between\n",
    "df['merged'] = df['model'] + ' ' + df['text']\n",
    "# Drop the original \"model\" and \"text\" columns\n",
    "df = df.drop(['model', 'text'], axis=1)\n",
    "# Save the modified DataFrame to a new TSV file\n",
    "output_file_path = 'test_2.tsv'  # Replace 'output_file.tsv' with the desired output file path\n",
    "df.to_csv(output_file_path, sep='\\t', index=False)\n",
    "# Print or use the modified DataFrame as needed\n",
    "print(df)"
   ]
  },
  {
   "cell_type": "markdown",
   "id": "5e54c5c3-2840-4ef5-b836-7e4cc481ec87",
   "metadata": {},
   "source": [
    "Merge \"model\" and \"text\" columns with a space in between for labeled tsv file"
   ]
  },
  {
   "cell_type": "code",
   "execution_count": 9,
   "id": "4ff7e9c6-40be-4221-942a-89ef76227250",
   "metadata": {},
   "outputs": [
    {
     "name": "stdout",
     "output_type": "stream",
     "text": [
      "                                                  merged\n",
      "0      cohere \\n\\nHow to Play Howrse\\nHowrse is a fun...\n",
      "1      bloomz We present results on semi-inclusive de...\n",
      "2      chatGPT In this study, we investigate the abun...\n",
      "3      cohere  Marcus Crassus was a Roman general and...\n",
      "4      chatGPT Madonna of the Candelabra is a paintin...\n",
      "...                                                  ...\n",
      "14200  dolly Lyady, Vitebsk Region is a town in south...\n",
      "14201  human The Mount Gretna Narrow Gauge Railway wa...\n",
      "14202  cohere \\nWe study the Casimir effect in a 6D w...\n",
      "14203  dolly Direct burial of cable under soil is the...\n",
      "14204  davinci  Toribio Losoya (1810 – March 6, 1836)...\n",
      "\n",
      "[14205 rows x 1 columns]\n"
     ]
    }
   ],
   "source": [
    "# Read the TSV file into a DataFrame\n",
    "file_path = 'label_1.tsv'  \n",
    "df = pd.read_csv(file_path, sep='\\t')\n",
    "# Merge \"model\" and \"text\" columns with a space in between\n",
    "df['merged'] = df['model'] + ' ' + df['text']\n",
    "# Drop the original \"model\" and \"text\" columns\n",
    "df = df.drop(['model', 'text'], axis=1)\n",
    "# Save the modified DataFrame to a new TSV file\n",
    "output_file_path = 'label_2.tsv'  # Replace 'output_file.tsv' with the desired output file path\n",
    "df.to_csv(output_file_path, sep='\\t', index=False)\n",
    "# Print or use the modified DataFrame as needed\n",
    "print(df)"
   ]
  },
  {
   "cell_type": "markdown",
   "id": "f25f87bf-0930-49aa-8be4-c86006761e66",
   "metadata": {},
   "source": [
    "Merge \"model\" and \"text\" columns with a space in between for unlabeled tsv file"
   ]
  },
  {
   "cell_type": "code",
   "execution_count": 10,
   "id": "e9bfcb05-274d-4b08-aaab-498a2e9743cc",
   "metadata": {},
   "outputs": [
    {
     "name": "stdout",
     "output_type": "stream",
     "text": [
      "                                                  merged\n",
      "0      UNK Riho Iida (born 1974) is a Japanese voice ...\n",
      "1      UNK A differentially rotating force-free magne...\n",
      "2      UNK Blue Hills Reservation is a state park loc...\n",
      "3      UNK We present the results of our numerical si...\n",
      "4      UNK  This is usually a multiple of 100 (most o...\n",
      "...                                                  ...\n",
      "56816  UNK  Deborah Pratt (born Deborah Lee Howell; A...\n",
      "56817  UNK \\n\\nHow to Make Strawberry Cheesecake\\n\\nM...\n",
      "56818  UNK \\n\\nWe consider the Lieb-Oxford bound on t...\n",
      "56819  UNK If you're using an older version of Micros...\n",
      "56820  UNK The Carter constant, a proportionality con...\n",
      "\n",
      "[56821 rows x 1 columns]\n"
     ]
    }
   ],
   "source": [
    "# Read the TSV file into a DataFrame\n",
    "file_path = 'unlabel_1.tsv'  \n",
    "df = pd.read_csv(file_path, sep='\\t')\n",
    "# Merge \"model\" and \"text\" columns with a space in between\n",
    "df['merged'] = df['model'] + ' ' + df['text']\n",
    "# Drop the original \"model\" and \"text\" columns\n",
    "df = df.drop(['model', 'text'], axis=1)\n",
    "# Save the modified DataFrame to a new TSV file\n",
    "output_file_path = 'unlabel_2.tsv'  # Replace 'output_file.tsv' with the desired output file path\n",
    "df.to_csv(output_file_path, sep='\\t', index=False)\n",
    "# Print or use the modified DataFrame as needed\n",
    "print(df)"
   ]
  },
  {
   "cell_type": "markdown",
   "id": "33f8a572-1227-49b1-abed-d67e7259188b",
   "metadata": {},
   "source": [
    "remove extra space of labeled tsv file to handle in a best way"
   ]
  },
  {
   "cell_type": "code",
   "execution_count": 11,
   "id": "eaa1f802-b275-41d9-87cb-8f2f29c9e901",
   "metadata": {},
   "outputs": [],
   "source": [
    "with open('label_2.tsv', 'rb') as file:\n",
    "    lines = file.readlines()\n",
    "# Remove newlines within each row, remove double quotes at the beginning and end\n",
    "modified_lines = [line.strip(b'\"\\n').replace(b'\"', b'') for line in lines]\n",
    "with open('label_3.tsv', 'wb') as output_file:\n",
    "    output_file.writelines(modified_lines)"
   ]
  },
  {
   "cell_type": "markdown",
   "id": "75732429-876a-4f04-8508-b3b47ad4d940",
   "metadata": {},
   "source": [
    "remove extra space of unlabeled tsv file to handle in a best way"
   ]
  },
  {
   "cell_type": "code",
   "execution_count": 12,
   "id": "08d91dc2-fed8-4e6c-95ee-54ed1fc01913",
   "metadata": {},
   "outputs": [],
   "source": [
    "with open('unlabel_2.tsv', 'rb') as file:\n",
    "    lines = file.readlines()\n",
    "# Remove newlines within each row, remove double quotes at the beginning and end\n",
    "modified_lines = [line.strip(b'\"\\n').replace(b'\"', b'') for line in lines]\n",
    "with open('unlabel_3.tsv', 'wb') as output_file:\n",
    "    output_file.writelines(modified_lines)"
   ]
  },
  {
   "cell_type": "markdown",
   "id": "92035ac1-1e7c-4a68-b637-d46a94366abd",
   "metadata": {},
   "source": [
    "remove extra space of test tsv file to handle in a best way"
   ]
  },
  {
   "cell_type": "code",
   "execution_count": 13,
   "id": "3a846b9b-f689-4234-9b54-73322b562025",
   "metadata": {},
   "outputs": [],
   "source": [
    "with open('test_2.tsv', 'rb') as file:\n",
    "    lines = file.readlines()\n",
    "# Remove newlines within each row, remove double quotes at the beginning and end\n",
    "modified_lines = [line.strip(b'\"\\n').replace(b'\"', b'') for line in lines]\n",
    "with open('test_3.tsv', 'wb') as output_file:\n",
    "    output_file.writelines(modified_lines)"
   ]
  },
  {
   "cell_type": "markdown",
   "id": "af7a8cbc-4cf6-43bc-9a46-7727150a777f",
   "metadata": {},
   "source": [
    "# Import required packages"
   ]
  },
  {
   "cell_type": "code",
   "execution_count": 14,
   "id": "615edb6b-8b46-4f2d-ba3d-c2cb04a04aaf",
   "metadata": {},
   "outputs": [
    {
     "name": "stderr",
     "output_type": "stream",
     "text": [
      "D:\\Anaconda\\Lib\\site-packages\\transformers\\generation_utils.py:24: FutureWarning: Importing `GenerationMixin` from `src/transformers/generation_utils.py` is deprecated and will be removed in Transformers v5. Import as `from transformers import GenerationMixin` instead.\n",
      "  warnings.warn(\n",
      "Xformers is not installed correctly. If you want to use memory_efficient_attention to accelerate training use the following command to install Xformers\n",
      "pip install xformers.\n"
     ]
    }
   ],
   "source": [
    "import torch\n",
    "import io\n",
    "import matplotlib.pyplot as plt\n",
    "import torch.nn.functional as F\n",
    "import numpy as np\n",
    "import time\n",
    "import math\n",
    "import sklearn\n",
    "from sklearn.metrics import f1_score\n",
    "import datetime\n",
    "import torch.nn as nn\n",
    "from transformers import *\n",
    "from torch.utils.data import TensorDataset, DataLoader, RandomSampler, SequentialSampler\n",
    "##Set random values\n",
    "seed_val = 42\n",
    "random.seed(seed_val)\n",
    "np.random.seed(seed_val)\n",
    "torch.manual_seed(seed_val)\n",
    "if torch.cuda.is_available():\n",
    "  torch.cuda.manual_seed_all(seed_val)"
   ]
  },
  {
   "cell_type": "markdown",
   "id": "24d0ec3d-02d3-41dd-958a-5fc061bbfce3",
   "metadata": {},
   "source": [
    "# GPU or CPU"
   ]
  },
  {
   "cell_type": "code",
   "execution_count": 15,
   "id": "ae1cbd67-e4fa-4377-9fb2-b0f9714f852c",
   "metadata": {},
   "outputs": [
    {
     "name": "stdout",
     "output_type": "stream",
     "text": [
      "There are 1 GPU(s) available.\n",
      "We will use the GPU: NVIDIA GeForce RTX 3070 Laptop GPU\n"
     ]
    }
   ],
   "source": [
    "# If there's a GPU available...\n",
    "if torch.cuda.is_available():    \n",
    "    # Tell PyTorch to use the GPU.    \n",
    "    device = torch.device(\"cuda\")\n",
    "    print('There are %d GPU(s) available.' % torch.cuda.device_count())\n",
    "    print('We will use the GPU:', torch.cuda.get_device_name(0))\n",
    "# If not...\n",
    "else:\n",
    "    print('No GPU available, using the CPU instead.')\n",
    "    device = torch.device(\"cpu\")"
   ]
  },
  {
   "cell_type": "code",
   "execution_count": 16,
   "id": "635419bb-680e-45a9-bc6a-666a92aceb4d",
   "metadata": {},
   "outputs": [],
   "source": [
    "# Transformer parameters\n",
    "max_seq_length = 64\n",
    "batch_size = 64\n",
    "# GAN-BERT specific parameters\n",
    "# number of hidden layers in the generator, each of the size of the output space\n",
    "num_hidden_layers_g = 1; \n",
    "# number of hidden layers in the discriminator, each of the size of the input space\n",
    "num_hidden_layers_d = 1; \n",
    "# size of the generator's input noisy vectors\n",
    "noise_size = 100\n",
    "# dropout to be applied to discriminator's input vectors\n",
    "out_dropout_rate = 0.2\n",
    "# Replicate labeled data to balance poorly represented datasets, e.g., less than 1% of labeled material\n",
    "apply_balance = True\n",
    "# Optimization parameters\n",
    "learning_rate_discriminator = 5e-5\n",
    "learning_rate_generator = 5e-5\n",
    "epsilon = 1e-8\n",
    "num_train_epochs = 3\n",
    "multi_gpu = True\n",
    "# Scheduler\n",
    "apply_scheduler = False\n",
    "warmup_proportion = 0.1\n",
    "# Print\n",
    "print_each_n_step = 200"
   ]
  },
  {
   "cell_type": "markdown",
   "id": "db00cd61-6571-4f6f-aad0-7566bb5b0afc",
   "metadata": {},
   "source": [
    "# Load the Tranformer Model"
   ]
  },
  {
   "cell_type": "code",
   "execution_count": 17,
   "id": "eb1f0a8a-99e5-4f4a-92a9-13ce7e3d1def",
   "metadata": {},
   "outputs": [
    {
     "name": "stderr",
     "output_type": "stream",
     "text": [
      "loading configuration file config.json from cache at C:\\Users\\ASUS/.cache\\huggingface\\hub\\models--bert-base-cased\\snapshots\\5532cc56f74641d4bb33641f5c76a55d11f846e0\\config.json\n",
      "Model config BertConfig {\n",
      "  \"_name_or_path\": \"bert-base-cased\",\n",
      "  \"architectures\": [\n",
      "    \"BertForMaskedLM\"\n",
      "  ],\n",
      "  \"attention_probs_dropout_prob\": 0.1,\n",
      "  \"classifier_dropout\": null,\n",
      "  \"gradient_checkpointing\": false,\n",
      "  \"hidden_act\": \"gelu\",\n",
      "  \"hidden_dropout_prob\": 0.1,\n",
      "  \"hidden_size\": 768,\n",
      "  \"initializer_range\": 0.02,\n",
      "  \"intermediate_size\": 3072,\n",
      "  \"layer_norm_eps\": 1e-12,\n",
      "  \"max_position_embeddings\": 512,\n",
      "  \"model_type\": \"bert\",\n",
      "  \"num_attention_heads\": 12,\n",
      "  \"num_hidden_layers\": 12,\n",
      "  \"pad_token_id\": 0,\n",
      "  \"position_embedding_type\": \"absolute\",\n",
      "  \"transformers_version\": \"4.32.1\",\n",
      "  \"type_vocab_size\": 2,\n",
      "  \"use_cache\": true,\n",
      "  \"vocab_size\": 28996\n",
      "}\n",
      "\n",
      "loading weights file model.safetensors from cache at C:\\Users\\ASUS/.cache\\huggingface\\hub\\models--bert-base-cased\\snapshots\\5532cc56f74641d4bb33641f5c76a55d11f846e0\\model.safetensors\n",
      "Some weights of the model checkpoint at bert-base-cased were not used when initializing BertModel: ['cls.predictions.transform.dense.weight', 'cls.seq_relationship.bias', 'cls.predictions.transform.LayerNorm.bias', 'cls.seq_relationship.weight', 'cls.predictions.bias', 'cls.predictions.transform.LayerNorm.weight', 'cls.predictions.transform.dense.bias']\n",
      "- This IS expected if you are initializing BertModel from the checkpoint of a model trained on another task or with another architecture (e.g. initializing a BertForSequenceClassification model from a BertForPreTraining model).\n",
      "- This IS NOT expected if you are initializing BertModel from the checkpoint of a model that you expect to be exactly identical (initializing a BertForSequenceClassification model from a BertForSequenceClassification model).\n",
      "All the weights of BertModel were initialized from the model checkpoint at bert-base-cased.\n",
      "If your task is similar to the task the model of the checkpoint was trained on, you can already use BertModel for predictions without further training.\n",
      "loading configuration file config.json from cache at C:\\Users\\ASUS/.cache\\huggingface\\hub\\models--bert-base-cased\\snapshots\\5532cc56f74641d4bb33641f5c76a55d11f846e0\\config.json\n",
      "Model config BertConfig {\n",
      "  \"_name_or_path\": \"bert-base-cased\",\n",
      "  \"architectures\": [\n",
      "    \"BertForMaskedLM\"\n",
      "  ],\n",
      "  \"attention_probs_dropout_prob\": 0.1,\n",
      "  \"classifier_dropout\": null,\n",
      "  \"gradient_checkpointing\": false,\n",
      "  \"hidden_act\": \"gelu\",\n",
      "  \"hidden_dropout_prob\": 0.1,\n",
      "  \"hidden_size\": 768,\n",
      "  \"initializer_range\": 0.02,\n",
      "  \"intermediate_size\": 3072,\n",
      "  \"layer_norm_eps\": 1e-12,\n",
      "  \"max_position_embeddings\": 512,\n",
      "  \"model_type\": \"bert\",\n",
      "  \"num_attention_heads\": 12,\n",
      "  \"num_hidden_layers\": 12,\n",
      "  \"pad_token_id\": 0,\n",
      "  \"position_embedding_type\": \"absolute\",\n",
      "  \"transformers_version\": \"4.32.1\",\n",
      "  \"type_vocab_size\": 2,\n",
      "  \"use_cache\": true,\n",
      "  \"vocab_size\": 28996\n",
      "}\n",
      "\n",
      "loading file vocab.txt from cache at C:\\Users\\ASUS/.cache\\huggingface\\hub\\models--bert-base-cased\\snapshots\\5532cc56f74641d4bb33641f5c76a55d11f846e0\\vocab.txt\n",
      "loading file tokenizer.json from cache at C:\\Users\\ASUS/.cache\\huggingface\\hub\\models--bert-base-cased\\snapshots\\5532cc56f74641d4bb33641f5c76a55d11f846e0\\tokenizer.json\n",
      "loading file added_tokens.json from cache at None\n",
      "loading file special_tokens_map.json from cache at None\n",
      "loading file tokenizer_config.json from cache at C:\\Users\\ASUS/.cache\\huggingface\\hub\\models--bert-base-cased\\snapshots\\5532cc56f74641d4bb33641f5c76a55d11f846e0\\tokenizer_config.json\n",
      "loading configuration file config.json from cache at C:\\Users\\ASUS/.cache\\huggingface\\hub\\models--bert-base-cased\\snapshots\\5532cc56f74641d4bb33641f5c76a55d11f846e0\\config.json\n",
      "Model config BertConfig {\n",
      "  \"_name_or_path\": \"bert-base-cased\",\n",
      "  \"architectures\": [\n",
      "    \"BertForMaskedLM\"\n",
      "  ],\n",
      "  \"attention_probs_dropout_prob\": 0.1,\n",
      "  \"classifier_dropout\": null,\n",
      "  \"gradient_checkpointing\": false,\n",
      "  \"hidden_act\": \"gelu\",\n",
      "  \"hidden_dropout_prob\": 0.1,\n",
      "  \"hidden_size\": 768,\n",
      "  \"initializer_range\": 0.02,\n",
      "  \"intermediate_size\": 3072,\n",
      "  \"layer_norm_eps\": 1e-12,\n",
      "  \"max_position_embeddings\": 512,\n",
      "  \"model_type\": \"bert\",\n",
      "  \"num_attention_heads\": 12,\n",
      "  \"num_hidden_layers\": 12,\n",
      "  \"pad_token_id\": 0,\n",
      "  \"position_embedding_type\": \"absolute\",\n",
      "  \"transformers_version\": \"4.32.1\",\n",
      "  \"type_vocab_size\": 2,\n",
      "  \"use_cache\": true,\n",
      "  \"vocab_size\": 28996\n",
      "}\n",
      "\n"
     ]
    }
   ],
   "source": [
    "model_name = \"bert-base-cased\"\n",
    "transformer = AutoModel.from_pretrained(model_name)\n",
    "tokenizer = AutoTokenizer.from_pretrained(model_name)"
   ]
  },
  {
   "cell_type": "code",
   "execution_count": 18,
   "id": "645cb295-ed44-43af-b88f-0ab361733d2b",
   "metadata": {},
   "outputs": [],
   "source": [
    "# NOTE: in this setting 7 classes are involved\n",
    "labeled_file = \"label_3.tsv\"\n",
    "unlabeled_file = \"unlabel_3.tsv\"\n",
    "test_filename = \"test_3.tsv\"\n",
    "label_list = {\"human\", \"UNK\", \"bloomz\", \"dolly\",  \"cohere\", \"chatGPT\", \"davinci\"} # UNK for unlabeled"
   ]
  },
  {
   "cell_type": "markdown",
   "id": "d1242a97-c964-4c10-9354-17248ba23f4a",
   "metadata": {},
   "source": [
    "# Function required to load the dataset"
   ]
  },
  {
   "cell_type": "code",
   "execution_count": 19,
   "id": "c4ffa2b1-6a67-46c6-b2e9-edc3e6d64c07",
   "metadata": {},
   "outputs": [],
   "source": [
    "def get_qc_examples(input_file, label_list):\n",
    "    \"\"\"Creates examples for the training and dev sets.\"\"\"\n",
    "    examples = []\n",
    "    with open(input_file, 'r', encoding='utf-8') as f:\n",
    "        for line in f:\n",
    "            line = line.strip()\n",
    "            if not line:\n",
    "                continue  # Skip empty lines\n",
    "            # Split label and text\n",
    "            split = line.split(\" \", 1)          \n",
    "            # Ensure there are at least two elements (label and text)\n",
    "            if len(split) >= 2:\n",
    "                label, text_a = split[0], split[1]              \n",
    "                # Check if the label is in the predefined label_list\n",
    "                if label in label_list:\n",
    "                    examples.append((text_a, label))\n",
    "    return examples"
   ]
  },
  {
   "cell_type": "markdown",
   "id": "7d4039cf-043d-422b-8ce7-5f10ab1aa52f",
   "metadata": {},
   "source": [
    "# Load the input dataset "
   ]
  },
  {
   "cell_type": "code",
   "execution_count": 20,
   "id": "cb2900ff-658b-4b0d-9635-199b92646cec",
   "metadata": {},
   "outputs": [],
   "source": [
    "#Load the examples\n",
    "labeled_examples = get_qc_examples(labeled_file, label_list)\n",
    "unlabeled_examples = get_qc_examples(unlabeled_file, label_list)\n",
    "test_examples = get_qc_examples(test_filename, label_list)"
   ]
  },
  {
   "cell_type": "markdown",
   "id": "e4e1436d-312d-4823-90f1-a975d1115c47",
   "metadata": {},
   "source": [
    "# Checking examples"
   ]
  },
  {
   "cell_type": "code",
   "execution_count": 21,
   "id": "bbcdf35b-73db-4937-abad-1b91206a5705",
   "metadata": {},
   "outputs": [
    {
     "name": "stdout",
     "output_type": "stream",
     "text": [
      "Size of labeled_examples: 14205\n"
     ]
    }
   ],
   "source": [
    "# size of labeled_examples\n",
    "size_of_labeled_examples = len(labeled_examples)\n",
    "print(\"Size of labeled_examples:\", size_of_labeled_examples)"
   ]
  },
  {
   "cell_type": "code",
   "execution_count": 22,
   "id": "7bce9578-d06c-441a-8ccf-c0d2c3d0ef34",
   "metadata": {},
   "outputs": [
    {
     "name": "stdout",
     "output_type": "stream",
     "text": [
      "Size of unlabeled_examples: 56821\n"
     ]
    }
   ],
   "source": [
    "# size of unlabeled_examples\n",
    "size_of_unlabeled_examples = len(unlabeled_examples)\n",
    "print(\"Size of unlabeled_examples:\", size_of_unlabeled_examples)"
   ]
  },
  {
   "cell_type": "code",
   "execution_count": 23,
   "id": "db75ff98-56f4-4411-a8c1-31248b0b0e22",
   "metadata": {},
   "outputs": [
    {
     "name": "stdout",
     "output_type": "stream",
     "text": [
      "Size of test_examples: 3000\n"
     ]
    }
   ],
   "source": [
    "# size of labeled_examples\n",
    "size_of_test_examples = len(test_examples)\n",
    "print(\"Size of test_examples:\", size_of_test_examples)"
   ]
  },
  {
   "cell_type": "code",
   "execution_count": 24,
   "id": "055cfa4d-b48e-4a29-bace-9d8015495421",
   "metadata": {},
   "outputs": [
    {
     "name": "stdout",
     "output_type": "stream",
     "text": [
      "['cohere', 'human', 'dolly', 'bloomz', 'chatGPT', 'davinci']\n"
     ]
    }
   ],
   "source": [
    "# Extracting unique label names of labeled_examples\n",
    "unique_labels = set(label for _, label in labeled_examples)\n",
    "# Converting the set to a list if needed\n",
    "unique_labels_list = list(unique_labels)\n",
    "print(unique_labels_list)"
   ]
  },
  {
   "cell_type": "code",
   "execution_count": 25,
   "id": "b0bbf16b-9544-4828-9a61-a76cbece42a3",
   "metadata": {},
   "outputs": [
    {
     "name": "stdout",
     "output_type": "stream",
     "text": [
      "['UNK']\n"
     ]
    }
   ],
   "source": [
    "# Extracting unique label names of unlabeled_examples\n",
    "unique_labels = set(label for _, label in unlabeled_examples)\n",
    "# Converting the set to a list if needed\n",
    "unique_labels_list = list(unique_labels)\n",
    "print(unique_labels_list)"
   ]
  },
  {
   "cell_type": "code",
   "execution_count": 26,
   "id": "5b665ffc-d07e-4004-980a-5615d740b7c9",
   "metadata": {},
   "outputs": [
    {
     "name": "stdout",
     "output_type": "stream",
     "text": [
      "['cohere', 'human', 'dolly', 'bloomz', 'chatGPT', 'davinci']\n"
     ]
    }
   ],
   "source": [
    "# Extracting unique label names of test_examples\n",
    "unique_labels = set(label for _, label in test_examples)\n",
    "# Converting the set to a list if needed\n",
    "unique_labels_list = list(unique_labels)\n",
    "print(unique_labels_list)"
   ]
  },
  {
   "cell_type": "markdown",
   "id": "48ad217f-ec04-4d6d-9ac2-0b58bd703166",
   "metadata": {},
   "source": [
    "# Functions required to convert examples into Dataloader"
   ]
  },
  {
   "cell_type": "code",
   "execution_count": 27,
   "id": "b85c6dec-5db0-452c-b8d6-da1ee67a809a",
   "metadata": {},
   "outputs": [],
   "source": [
    "def generate_data_loader(input_examples, label_masks, label_map, do_shuffle = False, balance_label_examples = False):\n",
    "  '''\n",
    "  Generate a Dataloader given the input examples, eventually masked if they are \n",
    "  to be considered NOT labeled.\n",
    "  '''\n",
    "  examples = []\n",
    "  # Count the percentage of labeled examples  \n",
    "  num_labeled_examples = 0\n",
    "  for label_mask in label_masks:\n",
    "    if label_mask: \n",
    "      num_labeled_examples += 1\n",
    "  label_mask_rate = num_labeled_examples/len(input_examples)\n",
    "  # if required it applies the balance\n",
    "  for index, ex in enumerate(input_examples): \n",
    "    if label_mask_rate == 1 or not balance_label_examples:\n",
    "      examples.append((ex, label_masks[index]))\n",
    "    else:\n",
    "      # IT SIMULATE A LABELED EXAMPLE\n",
    "      if label_masks[index]:\n",
    "        balance = int(1/label_mask_rate)\n",
    "        balance = int(math.log(balance,2))\n",
    "        if balance < 1:\n",
    "          balance = 1\n",
    "        for b in range(0, int(balance)):\n",
    "          examples.append((ex, label_masks[index]))\n",
    "      else:\n",
    "        examples.append((ex, label_masks[index]))  \n",
    "  # Generate input examples to the Transformer\n",
    "  input_ids = []\n",
    "  input_mask_array = []\n",
    "  label_mask_array = []\n",
    "  label_id_array = []\n",
    "  # Tokenization \n",
    "  for (text, label_mask) in examples:\n",
    "    encoded_sent = tokenizer.encode(text[0], add_special_tokens=True, max_length=max_seq_length, padding=\"max_length\", truncation=True)\n",
    "    input_ids.append(encoded_sent)\n",
    "    label_id_array.append(label_map[text[1]])\n",
    "    label_mask_array.append(label_mask)\n",
    "  # Attention to token (to ignore padded input wordpieces)\n",
    "  for sent in input_ids:\n",
    "    att_mask = [int(token_id > 0) for token_id in sent]                          \n",
    "    input_mask_array.append(att_mask)\n",
    "  # Convertion to Tensor\n",
    "  input_ids = torch.tensor(input_ids) \n",
    "  input_mask_array = torch.tensor(input_mask_array)\n",
    "  label_id_array = torch.tensor(label_id_array, dtype=torch.long)\n",
    "  label_mask_array = torch.tensor(label_mask_array)\n",
    "  # Building the TensorDataset\n",
    "  dataset = TensorDataset(input_ids, input_mask_array, label_id_array, label_mask_array)\n",
    "  if do_shuffle:\n",
    "    sampler = RandomSampler\n",
    "  else:\n",
    "    sampler = SequentialSampler\n",
    "  # Building the DataLoader\n",
    "  return DataLoader(\n",
    "              dataset,  # The training samples.\n",
    "              sampler = sampler(dataset), \n",
    "              batch_size = batch_size) # Trains with this batch size.\n",
    "def format_time(elapsed):\n",
    "    '''\n",
    "    Takes a time in seconds and returns a string hh:mm:ss\n",
    "    '''\n",
    "    # Round to the nearest second.\n",
    "    elapsed_rounded = int(round((elapsed)))\n",
    "    # Format as hh:mm:ss\n",
    "    return str(datetime.timedelta(seconds=elapsed_rounded))   "
   ]
  },
  {
   "cell_type": "markdown",
   "id": "20e9c59b-602e-4575-bbe4-430539e9e675",
   "metadata": {},
   "source": [
    "# Convert the input examples into DataLoader"
   ]
  },
  {
   "cell_type": "code",
   "execution_count": 28,
   "id": "c65d6abd-43c3-476d-8c39-6c06971a0de4",
   "metadata": {},
   "outputs": [
    {
     "name": "stderr",
     "output_type": "stream",
     "text": [
      "C:\\Users\\ASUS\\AppData\\Local\\Temp\\ipykernel_13568\\1439926804.py:47: DeprecationWarning: In future, it will be an error for 'np.bool_' scalars to be interpreted as an index\n",
      "  label_mask_array = torch.tensor(label_mask_array)\n"
     ]
    }
   ],
   "source": [
    "label_map = {}\n",
    "for (i, label) in enumerate(label_list):\n",
    "  label_map[label] = i\n",
    "#  Load the train dataset\n",
    "train_examples = labeled_examples\n",
    "#The labeled (train) dataset is assigned with a mask set to True\n",
    "train_label_masks = np.ones(len(labeled_examples), dtype=bool)\n",
    "# If unlabel examples are available\n",
    "if unlabeled_examples:\n",
    "  train_examples = train_examples + unlabeled_examples\n",
    "  #The unlabeled (train) dataset is assigned with a mask set to False\n",
    "  tmp_masks = np.zeros(len(unlabeled_examples), dtype=bool)\n",
    "  train_label_masks = np.concatenate([train_label_masks,tmp_masks])\n",
    "train_dataloader = generate_data_loader(train_examples, train_label_masks, label_map, do_shuffle = True, balance_label_examples = apply_balance)\n",
    "#   Load the test dataset\n",
    "#The labeled (test) dataset is assigned with a mask set to True\n",
    "test_label_masks = np.ones(len(test_examples), dtype=bool)\n",
    "test_dataloader = generate_data_loader(test_examples, test_label_masks, label_map, do_shuffle = False, balance_label_examples = False)    "
   ]
  },
  {
   "cell_type": "markdown",
   "id": "2334257a-1555-4426-8f40-9376159557da",
   "metadata": {},
   "source": [
    "# Generator"
   ]
  },
  {
   "cell_type": "code",
   "execution_count": 29,
   "id": "412b46de-cf9b-4298-a039-32e900098a8f",
   "metadata": {},
   "outputs": [],
   "source": [
    "class Generator(nn.Module):\n",
    "    def __init__(self, noise_size=100, output_size=768, hidden_sizes=[768], dropout_rate=0.1):\n",
    "        super(Generator, self).__init__()\n",
    "        layers = []\n",
    "        hidden_sizes = [noise_size] + hidden_sizes\n",
    "        for i in range(len(hidden_sizes)-1):\n",
    "            layers.extend([nn.Linear(hidden_sizes[i], hidden_sizes[i+1]), nn.LeakyReLU(0.2, inplace=True), nn.Dropout(dropout_rate)])\n",
    "        layers.append(nn.Linear(hidden_sizes[-1],output_size))\n",
    "        self.layers = nn.Sequential(*layers)\n",
    "    def forward(self, noise):\n",
    "        output_rep = self.layers(noise)\n",
    "        return output_rep"
   ]
  },
  {
   "cell_type": "markdown",
   "id": "d0d69c58-7c6c-4d53-a307-aa20aae9d74a",
   "metadata": {},
   "source": [
    "# Discriminator"
   ]
  },
  {
   "cell_type": "code",
   "execution_count": 30,
   "id": "a7553325-8544-4bd0-9e12-8438447790b9",
   "metadata": {},
   "outputs": [],
   "source": [
    "class Discriminator(nn.Module):\n",
    "    def __init__(self, input_size=768, hidden_sizes=[768], num_labels=2, dropout_rate=0.1):\n",
    "        super(Discriminator, self).__init__()\n",
    "        self.input_dropout = nn.Dropout(p=dropout_rate)\n",
    "        layers = []\n",
    "        hidden_sizes = [input_size] + hidden_sizes\n",
    "        for i in range(len(hidden_sizes)-1):\n",
    "            layers.extend([nn.Linear(hidden_sizes[i], hidden_sizes[i+1]), nn.LeakyReLU(0.2, inplace=True), nn.Dropout(dropout_rate)])\n",
    "        self.layers = nn.Sequential(*layers) #per il flatten\n",
    "        self.logit = nn.Linear(hidden_sizes[-1],num_labels+1) # +1 for the probability of this sample being fake/real.\n",
    "        self.softmax = nn.Softmax(dim=-1)\n",
    "    def forward(self, input_rep):\n",
    "        input_rep = self.input_dropout(input_rep)\n",
    "        last_rep = self.layers(input_rep)\n",
    "        logits = self.logit(last_rep)\n",
    "        probs = self.softmax(logits)\n",
    "        return last_rep, logits, probs"
   ]
  },
  {
   "cell_type": "markdown",
   "id": "eee8fa59-e691-4d07-a0a4-c2251959515a",
   "metadata": {},
   "source": [
    "# We instantiate the Discriminator and Generator"
   ]
  },
  {
   "cell_type": "code",
   "execution_count": 31,
   "id": "6975b3e1-aa27-4595-8e77-3c8cc50d8d29",
   "metadata": {},
   "outputs": [
    {
     "name": "stderr",
     "output_type": "stream",
     "text": [
      "loading configuration file config.json from cache at C:\\Users\\ASUS/.cache\\huggingface\\hub\\models--bert-base-cased\\snapshots\\5532cc56f74641d4bb33641f5c76a55d11f846e0\\config.json\n",
      "Model config BertConfig {\n",
      "  \"_name_or_path\": \"bert-base-cased\",\n",
      "  \"architectures\": [\n",
      "    \"BertForMaskedLM\"\n",
      "  ],\n",
      "  \"attention_probs_dropout_prob\": 0.1,\n",
      "  \"classifier_dropout\": null,\n",
      "  \"gradient_checkpointing\": false,\n",
      "  \"hidden_act\": \"gelu\",\n",
      "  \"hidden_dropout_prob\": 0.1,\n",
      "  \"hidden_size\": 768,\n",
      "  \"initializer_range\": 0.02,\n",
      "  \"intermediate_size\": 3072,\n",
      "  \"layer_norm_eps\": 1e-12,\n",
      "  \"max_position_embeddings\": 512,\n",
      "  \"model_type\": \"bert\",\n",
      "  \"num_attention_heads\": 12,\n",
      "  \"num_hidden_layers\": 12,\n",
      "  \"pad_token_id\": 0,\n",
      "  \"position_embedding_type\": \"absolute\",\n",
      "  \"transformers_version\": \"4.32.1\",\n",
      "  \"type_vocab_size\": 2,\n",
      "  \"use_cache\": true,\n",
      "  \"vocab_size\": 28996\n",
      "}\n",
      "\n"
     ]
    }
   ],
   "source": [
    "# The config file is required to get the dimension of the vector produced by \n",
    "# the underlying transformer\n",
    "config = AutoConfig.from_pretrained(model_name)\n",
    "hidden_size = int(config.hidden_size)\n",
    "# Define the number and width of hidden layers\n",
    "hidden_levels_g = [hidden_size for i in range(0, num_hidden_layers_g)]\n",
    "hidden_levels_d = [hidden_size for i in range(0, num_hidden_layers_d)]\n",
    "#   Instantiate the Generator and Discriminator\n",
    "generator = Generator(noise_size=noise_size, output_size=hidden_size, hidden_sizes=hidden_levels_g, dropout_rate=out_dropout_rate)\n",
    "discriminator = Discriminator(input_size=hidden_size, hidden_sizes=hidden_levels_d, num_labels=len(label_list), dropout_rate=out_dropout_rate)\n",
    "# Put everything in the GPU if available\n",
    "if torch.cuda.is_available():    \n",
    "  generator.cuda()\n",
    "  discriminator.cuda()\n",
    "  transformer.cuda()\n",
    "  if multi_gpu:\n",
    "    transformer = torch.nn.DataParallel(transformer)\n",
    "# print(config)"
   ]
  },
  {
   "cell_type": "markdown",
   "id": "2db2275c-83e0-4c01-af8f-d9d41bb22102",
   "metadata": {},
   "source": [
    "# Training..."
   ]
  },
  {
   "cell_type": "code",
   "execution_count": 32,
   "id": "6c841390-602f-4ed4-9171-5908cc247df2",
   "metadata": {},
   "outputs": [
    {
     "name": "stdout",
     "output_type": "stream",
     "text": [
      "\n",
      "======== Epoch 1 / 3 ========\n",
      "Training...\n",
      "  Batch   200  of  1,332.    Elapsed: 0:02:16.\n",
      "  Batch   400  of  1,332.    Elapsed: 0:05:05.\n",
      "  Batch   600  of  1,332.    Elapsed: 0:07:56.\n",
      "  Batch   800  of  1,332.    Elapsed: 0:10:47.\n",
      "  Batch 1,000  of  1,332.    Elapsed: 0:13:39.\n",
      "  Batch 1,200  of  1,332.    Elapsed: 0:16:30.\n",
      "\n",
      "  Average training loss generetor: 0.706\n",
      "  Average training loss discriminator: 1.601\n",
      "  Training epcoh took: 0:18:23\n",
      "\n",
      "Running Test...\n",
      "  Accuracy: 0.419\n",
      "  F1 Score: 0.375\n",
      "  Test Loss: 1.887\n",
      "  Test took: 0:00:08\n",
      "\n",
      "======== Epoch 2 / 3 ========\n",
      "Training...\n",
      "  Batch   200  of  1,332.    Elapsed: 0:02:51.\n",
      "  Batch   400  of  1,332.    Elapsed: 0:05:43.\n",
      "  Batch   600  of  1,332.    Elapsed: 0:08:34.\n",
      "  Batch   800  of  1,332.    Elapsed: 0:11:25.\n",
      "  Batch 1,000  of  1,332.    Elapsed: 0:14:16.\n",
      "  Batch 1,200  of  1,332.    Elapsed: 0:17:07.\n",
      "\n",
      "  Average training loss generetor: 0.704\n",
      "  Average training loss discriminator: 1.028\n",
      "  Training epcoh took: 0:18:59\n",
      "\n",
      "Running Test...\n",
      "  Accuracy: 0.438\n",
      "  F1 Score: 0.397\n",
      "  Test Loss: 2.218\n",
      "  Test took: 0:00:08\n",
      "\n",
      "======== Epoch 3 / 3 ========\n",
      "Training...\n",
      "  Batch   200  of  1,332.    Elapsed: 0:02:51.\n",
      "  Batch   400  of  1,332.    Elapsed: 0:05:42.\n",
      "  Batch   600  of  1,332.    Elapsed: 0:08:33.\n",
      "  Batch   800  of  1,332.    Elapsed: 0:11:24.\n",
      "  Batch 1,000  of  1,332.    Elapsed: 0:14:15.\n",
      "  Batch 1,200  of  1,332.    Elapsed: 0:17:06.\n",
      "\n",
      "  Average training loss generetor: 0.703\n",
      "  Average training loss discriminator: 0.832\n",
      "  Training epcoh took: 0:18:59\n",
      "\n",
      "Running Test...\n",
      "  Accuracy: 0.436\n",
      "  F1 Score: 0.396\n",
      "  Test Loss: 3.080\n",
      "  Test took: 0:00:08\n"
     ]
    }
   ],
   "source": [
    "training_stats = []\n",
    "test_f1_scores = []\n",
    "# Measure the total training time for the whole run.\n",
    "total_t0 = time.time()\n",
    "#models parameters\n",
    "transformer_vars = [i for i in transformer.parameters()]\n",
    "d_vars = transformer_vars + [v for v in discriminator.parameters()]\n",
    "g_vars = [v for v in generator.parameters()]\n",
    "#optimizer\n",
    "dis_optimizer = torch.optim.AdamW(d_vars, lr=learning_rate_discriminator)\n",
    "gen_optimizer = torch.optim.AdamW(g_vars, lr=learning_rate_generator) \n",
    "#scheduler\n",
    "if apply_scheduler:\n",
    "  num_train_examples = len(train_examples)\n",
    "  num_train_steps = int(num_train_examples / batch_size * num_train_epochs)\n",
    "  num_warmup_steps = int(num_train_steps * warmup_proportion)\n",
    "  scheduler_d = get_constant_schedule_with_warmup(dis_optimizer, \n",
    "                                           num_warmup_steps = num_warmup_steps)\n",
    "  scheduler_g = get_constant_schedule_with_warmup(gen_optimizer, \n",
    "                                           num_warmup_steps = num_warmup_steps)\n",
    "# For each epoch...\n",
    "for epoch_i in range(0, num_train_epochs):\n",
    "    #               Training\n",
    "    # Perform one full pass over the training set.\n",
    "    print(\"\")\n",
    "    print('======== Epoch {:} / {:} ========'.format(epoch_i + 1, num_train_epochs))\n",
    "    print('Training...')\n",
    "    # Measure how long the training epoch takes.\n",
    "    t0 = time.time()\n",
    "    # Reset the total loss for this epoch.\n",
    "    tr_g_loss = 0\n",
    "    tr_d_loss = 0\n",
    "    # Put the model into training mode.\n",
    "    transformer.train() \n",
    "    generator.train()\n",
    "    discriminator.train()\n",
    "    # For each batch of training data...\n",
    "    for step, batch in enumerate(train_dataloader):\n",
    "        # Progress update every print_each_n_step batches.\n",
    "        if step % print_each_n_step == 0 and not step == 0:\n",
    "            # Calculate elapsed time in minutes.\n",
    "            elapsed = format_time(time.time() - t0)          \n",
    "            # Report progress.\n",
    "            print('  Batch {:>5,}  of  {:>5,}.    Elapsed: {:}.'.format(step, len(train_dataloader), elapsed))\n",
    "        # Unpack this training batch from our dataloader. \n",
    "        b_input_ids = batch[0].to(device)\n",
    "        b_input_mask = batch[1].to(device)\n",
    "        b_labels = batch[2].to(device)\n",
    "        b_label_mask = batch[3].to(device)\n",
    "        real_batch_size = b_input_ids.shape[0]    \n",
    "        # Encode real data in the Transformer\n",
    "        model_outputs = transformer(b_input_ids, attention_mask=b_input_mask)\n",
    "        hidden_states = model_outputs[-1]       \n",
    "        # Generate fake data that should have the same distribution of the ones\n",
    "        # encoded by the transformer. \n",
    "        # First noisy input are used in input to the Generator\n",
    "        noise = torch.zeros(real_batch_size, noise_size, device=device).uniform_(0, 1)\n",
    "        # Gnerate Fake data\n",
    "        gen_rep = generator(noise)\n",
    "        # Generate the output of the Discriminator for real and fake data.\n",
    "        # First, we put together the output of the tranformer and the generator\n",
    "        disciminator_input = torch.cat([hidden_states, gen_rep], dim=0)\n",
    "        # Then, we select the output of the disciminator\n",
    "        features, logits, probs = discriminator(disciminator_input)\n",
    "        # Finally, we separate the discriminator's output for the real and fake\n",
    "        # data\n",
    "        features_list = torch.split(features, real_batch_size)\n",
    "        D_real_features = features_list[0]\n",
    "        D_fake_features = features_list[1]\n",
    "        logits_list = torch.split(logits, real_batch_size)\n",
    "        D_real_logits = logits_list[0]\n",
    "        D_fake_logits = logits_list[1] \n",
    "        probs_list = torch.split(probs, real_batch_size)\n",
    "        D_real_probs = probs_list[0]\n",
    "        D_fake_probs = probs_list[1]\n",
    "        #  LOSS evaluation\n",
    "        # Generator's LOSS estimation\n",
    "        g_loss_d = -1 * torch.mean(torch.log(1 - D_fake_probs[:,-1] + epsilon))\n",
    "        g_feat_reg = torch.mean(torch.pow(torch.mean(D_real_features, dim=0) - torch.mean(D_fake_features, dim=0), 2))\n",
    "        g_loss = g_loss_d + g_feat_reg\n",
    "        # Disciminator's LOSS estimation\n",
    "        logits = D_real_logits[:,0:-1]\n",
    "        log_probs = F.log_softmax(logits, dim=-1)\n",
    "        # The discriminator provides an output for labeled and unlabeled real data\n",
    "        # so the loss evaluated for unlabeled data is ignored (masked)\n",
    "        label2one_hot = torch.nn.functional.one_hot(b_labels, len(label_list))\n",
    "        per_example_loss = -torch.sum(label2one_hot * log_probs, dim=-1)\n",
    "        per_example_loss = torch.masked_select(per_example_loss, b_label_mask.to(device))\n",
    "        labeled_example_count = per_example_loss.type(torch.float32).numel()\n",
    "        # It may be the case that a batch does not contain labeled examples, \n",
    "        # so the \"supervised loss\" in this case is not evaluated\n",
    "        if labeled_example_count == 0:\n",
    "          D_L_Supervised = 0\n",
    "        else:\n",
    "          D_L_Supervised = torch.div(torch.sum(per_example_loss.to(device)), labeled_example_count)            \n",
    "        D_L_unsupervised1U = -1 * torch.mean(torch.log(1 - D_real_probs[:, -1] + epsilon))\n",
    "        D_L_unsupervised2U = -1 * torch.mean(torch.log(D_fake_probs[:, -1] + epsilon))\n",
    "        d_loss = D_L_Supervised + D_L_unsupervised1U + D_L_unsupervised2U\n",
    "        #  OPTIMIZATION\n",
    "        # Avoid gradient accumulation\n",
    "        gen_optimizer.zero_grad()\n",
    "        dis_optimizer.zero_grad()\n",
    "        # Calculate weigth updates\n",
    "        # retain_graph=True is required since the underlying graph will be deleted after backward\n",
    "        g_loss.backward(retain_graph=True)\n",
    "        d_loss.backward()  \n",
    "        # Apply modifications\n",
    "        gen_optimizer.step()\n",
    "        dis_optimizer.step()\n",
    "        # A detail log of the individual losses\n",
    "        #print(\"{0:.4f}\\t{1:.4f}\\t{2:.4f}\\t{3:.4f}\\t{4:.4f}\".\n",
    "        #      format(D_L_Supervised, D_L_unsupervised1U, D_L_unsupervised2U,\n",
    "        #             g_loss_d, g_feat_reg))\n",
    "        # Save the losses to print them later\n",
    "        tr_g_loss += g_loss.item()\n",
    "        tr_d_loss += d_loss.item()\n",
    "        # Update the learning rate with the scheduler\n",
    "        if apply_scheduler:\n",
    "          scheduler_d.step()\n",
    "          scheduler_g.step()\n",
    "    # Calculate the average loss over all of the batches.\n",
    "    avg_train_loss_g = tr_g_loss / len(train_dataloader)\n",
    "    avg_train_loss_d = tr_d_loss / len(train_dataloader)             \n",
    "    # Measure how long this epoch took.\n",
    "    training_time = format_time(time.time() - t0)\n",
    "    print(\"\")\n",
    "    print(\"  Average training loss generetor: {0:.3f}\".format(avg_train_loss_g))\n",
    "    print(\"  Average training loss discriminator: {0:.3f}\".format(avg_train_loss_d))\n",
    "    print(\"  Training epcoh took: {:}\".format(training_time))\n",
    "    #     TEST ON THE EVALUATION DATASET\n",
    "    # After the completion of each training epoch, measure our performance on\n",
    "    # our test set.\n",
    "    print(\"\")\n",
    "    print(\"Running Test...\")\n",
    "    t0 = time.time()\n",
    "    # Put the model in evaluation mode--the dropout layers behave differently\n",
    "    # during evaluation.\n",
    "    transformer.eval() #maybe redundant\n",
    "    discriminator.eval()\n",
    "    generator.eval()\n",
    "    # Tracking variables \n",
    "    total_test_accuracy = 0\n",
    "    total_test_loss = 0\n",
    "    nb_test_steps = 0\n",
    "    all_preds = []\n",
    "    all_labels_ids = []\n",
    "    #loss\n",
    "    nll_loss = torch.nn.CrossEntropyLoss(ignore_index=-1)\n",
    "    # Evaluate data for one epoch\n",
    "    for batch in test_dataloader:      \n",
    "        # Unpack this training batch from our dataloader. \n",
    "        b_input_ids = batch[0].to(device)\n",
    "        b_input_mask = batch[1].to(device)\n",
    "        b_labels = batch[2].to(device)     \n",
    "        # Tell pytorch not to bother with constructing the compute graph during\n",
    "        # the forward pass, since this is only needed for backprop (training).\n",
    "        with torch.no_grad():        \n",
    "            model_outputs = transformer(b_input_ids, attention_mask=b_input_mask)\n",
    "            hidden_states = model_outputs[-1]\n",
    "            _, logits, probs = discriminator(hidden_states)\n",
    "            ###log_probs = F.log_softmax(probs[:,1:], dim=-1)\n",
    "            filtered_logits = logits[:,0:-1]\n",
    "            # Accumulate the test loss.\n",
    "            total_test_loss += nll_loss(filtered_logits, b_labels)      \n",
    "        # Accumulate the predictions and the input labels\n",
    "        _, preds = torch.max(filtered_logits, 1)\n",
    "        all_preds += preds.detach().cpu()\n",
    "        all_labels_ids += b_labels.detach().cpu()\n",
    "    # Report the final accuracy for this validation run.\n",
    "    all_preds = torch.stack(all_preds).numpy()\n",
    "    all_labels_ids = torch.stack(all_labels_ids).numpy()\n",
    "    test_accuracy = np.sum(all_preds == all_labels_ids) / len(all_preds)\n",
    "    print(\"  Accuracy: {0:.3f}\".format(test_accuracy))\n",
    "    # Calculate the F1 score\n",
    "    test_f1 = f1_score(all_labels_ids, all_preds, average='weighted')\n",
    "    test_f1_scores.append(test_f1)\n",
    "    print(\"  F1 Score: {0:.3f}\".format(test_f1))\n",
    "    # Calculate the average loss over all of the batches.\n",
    "    avg_test_loss = total_test_loss / len(test_dataloader)\n",
    "    avg_test_loss = avg_test_loss.item()\n",
    "    # Measure how long the validation run took.\n",
    "    test_time = format_time(time.time() - t0)\n",
    "    print(\"  Test Loss: {0:.3f}\".format(avg_test_loss))\n",
    "    print(\"  Test took: {:}\".format(test_time))\n",
    "    # Record all statistics from this epoch.\n",
    "    training_stats.append(\n",
    "        {\n",
    "            'epoch': epoch_i + 1,\n",
    "            'Training Loss generator': avg_train_loss_g,\n",
    "            'Training Loss discriminator': avg_train_loss_d,\n",
    "            'Valid. Accur.': test_accuracy,\n",
    "            'Training Time': training_time,\n",
    "            'Test Time': test_time\n",
    "        }\n",
    "    ) "
   ]
  },
  {
   "cell_type": "code",
   "execution_count": 33,
   "id": "1aab82a8-c094-4d8f-bcc5-a04f0312c8ec",
   "metadata": {},
   "outputs": [
    {
     "name": "stdout",
     "output_type": "stream",
     "text": [
      "{'epoch': 1, 'Training Loss generator': 0.705813556674633, 'Training Loss discriminator': 1.6014847709788933, 'Valid. Accur.': 0.419, 'Training Time': '0:18:23', 'Test Time': '0:00:08'}\n",
      "{'epoch': 2, 'Training Loss generator': 0.7039417649532581, 'Training Loss discriminator': 1.0283636525497064, 'Valid. Accur.': 0.43766666666666665, 'Training Time': '0:18:59', 'Test Time': '0:00:08'}\n",
      "{'epoch': 3, 'Training Loss generator': 0.7028558333446314, 'Training Loss discriminator': 0.8319098073261995, 'Valid. Accur.': 0.43633333333333335, 'Training Time': '0:18:59', 'Test Time': '0:00:08'}\n",
      "\n",
      "Training complete!\n",
      "Total training took 0:56:46 (h:mm:ss)\n"
     ]
    }
   ],
   "source": [
    "for stat in training_stats:\n",
    "  print(stat)\n",
    "print(\"\\nTraining complete!\")\n",
    "print(\"Total training took {:} (h:mm:ss)\".format(format_time(time.time()-total_t0)))"
   ]
  },
  {
   "cell_type": "code",
   "execution_count": 35,
   "id": "0e1ce74d-e508-4707-97db-2464fd43e861",
   "metadata": {},
   "outputs": [
    {
     "data": {
      "image/png": "[encoded data removed]",
      "text/plain": [
       "<Figure size 1200x600 with 1 Axes>"
      ]
     },
     "metadata": {},
     "output_type": "display_data"
    },
    {
     "data": {
      "image/png": "[encoded data removed]",
      "text/plain": [
       "<Figure size 1200x600 with 1 Axes>"
      ]
     },
     "metadata": {},
     "output_type": "display_data"
    },
    {
     "data": {
      "image/png": "[encoded data removed]",
      "text/plain": [
       "<Figure size 1000x500 with 1 Axes>"
      ]
     },
     "metadata": {},
     "output_type": "display_data"
    }
   ],
   "source": [
    "# Plotting training statistics\n",
    "epochs = [stat['epoch'] for stat in training_stats]\n",
    "gen_losses = [stat['Training Loss generator'] for stat in training_stats]\n",
    "dis_losses = [stat['Training Loss discriminator'] for stat in training_stats]\n",
    "valid_accuracies = [stat['Valid. Accur.'] for stat in training_stats]\n",
    "# Plot the training and validation losses\n",
    "plt.figure(figsize=(12, 6))\n",
    "plt.plot(epochs, gen_losses, label='Generator Training Loss')\n",
    "plt.plot(epochs, dis_losses, label='Discriminator Training Loss')\n",
    "plt.title('Training Loss Over Epochs')\n",
    "plt.xlabel('Epochs')\n",
    "plt.ylabel('Loss')\n",
    "plt.legend()\n",
    "plt.grid(True)  # Add this line to enable the grid\n",
    "plt.show()\n",
    "# Plot the validation accuracy\n",
    "plt.figure(figsize=(12, 6))\n",
    "plt.plot(epochs, valid_accuracies, label='Validation Accuracy')\n",
    "plt.title('Validation Accuracy Over Epochs')\n",
    "plt.xlabel('Epochs')\n",
    "plt.ylabel('Accuracy')\n",
    "plt.legend()\n",
    "plt.grid(True)  # Add this line to enable the grid\n",
    "plt.show()\n",
    "# Plot F1 scores\n",
    "plt.figure(figsize=(10, 5))\n",
    "plt.plot(range(1, num_train_epochs + 1), test_f1_scores, label='Test F1 Score')\n",
    "plt.xlabel('Epoch')\n",
    "plt.ylabel('F1 Score')\n",
    "plt.title('F1 Score Over Epochs')\n",
    "plt.legend()\n",
    "plt.grid(True)  # Add this line to enable the grid\n",
    "plt.show()"
   ]
  },
  {
   "cell_type": "code",
   "execution_count": null,
   "id": "c261313d-f3fa-4be6-92c8-515d3eb0c550",
   "metadata": {},
   "outputs": [],
   "source": []
  }
 ],
 "metadata": {
  "kernelspec": {
   "display_name": "Python 3 (ipykernel)",
   "language": "python",
   "name": "python3"
  },
  "language_info": {
   "codemirror_mode": {
    "name": "ipython",
    "version": 3
   },
   "file_extension": ".py",
   "mimetype": "text/x-python",
   "name": "python",
   "nbconvert_exporter": "python",
   "pygments_lexer": "ipython3",
   "version": "3.11.5"
  }
 },
 "nbformat": 4,
 "nbformat_minor": 5
}
