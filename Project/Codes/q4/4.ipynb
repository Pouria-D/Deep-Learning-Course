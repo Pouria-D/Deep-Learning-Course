{
 "cells": [
  {
   "cell_type": "markdown",
   "id": "38510ecd",
   "metadata": {
    "papermill": {
     "duration": 0.016363,
     "end_time": "2024-02-03T17:09:31.032230",
     "exception": false,
     "start_time": "2024-02-03T17:09:31.015867",
     "status": "completed"
    },
    "tags": []
   },
   "source": [
    "# Data preprocessing"
   ]
  },
  {
   "cell_type": "code",
   "execution_count": 2,
   "id": "8146e1cb",
   "metadata": {
    "papermill": {
     "duration": 0.884167,
     "end_time": "2024-02-03T17:10:03.256155",
     "exception": false,
     "start_time": "2024-02-03T17:10:02.371988",
     "status": "completed"
    },
    "tags": []
   },
   "outputs": [],
   "source": [
    "import pandas as pd\n",
    "import json\n",
    "import random"
   ]
  },
  {
   "cell_type": "markdown",
   "id": "992e3073",
   "metadata": {
    "papermill": {
     "duration": 0.017309,
     "end_time": "2024-02-03T17:10:03.290697",
     "exception": false,
     "start_time": "2024-02-03T17:10:03.273388",
     "status": "completed"
    },
    "tags": []
   },
   "source": [
    "make unlabeled tsv file from jsonl with 2 column(% 50 for unlabeled)"
   ]
  },
  {
   "cell_type": "code",
   "execution_count": 3,
   "id": "721140e4",
   "metadata": {
    "papermill": {
     "duration": 4.425995,
     "end_time": "2024-02-03T17:10:07.733650",
     "exception": false,
     "start_time": "2024-02-03T17:10:03.307655",
     "status": "completed"
    },
    "tags": []
   },
   "outputs": [
    {
     "name": "stdout",
     "output_type": "stream",
     "text": [
      "      model                                               text\n",
      "0       UNK  Cynthia Teague, also known as Cindy Teague, is...\n",
      "1       UNK  Sandy Kilpatrick is a Scottish singer-songwrit...\n",
      "2       UNK  Wet nursing is the practice of providing breas...\n",
      "3       UNK  Kathleen M. Adams is a cultural anthropologist...\n",
      "4       UNK  Andreas Heusler (October 29, 1865 – February 1...\n",
      "...     ...                                                ...\n",
      "35508   UNK  Microsoft had monopoly on operating systems an...\n",
      "35509   UNK  In a pressure cooker, put about 1/2 cup of coo...\n",
      "35510   UNK  In this work, we present a novel L-band imagin...\n",
      "35511   UNK  Singer tone is relative to the language you ar...\n",
      "35512   UNK  How to Set Up an Irrevocable Trust\\n\\nAn irrev...\n",
      "\n",
      "[35513 rows x 2 columns]\n"
     ]
    }
   ],
   "source": [
    "# Load the JSON file line by line\n",
    "json_file_path = \"E:/subtaskB_train.jsonl\"\n",
    "data = []\n",
    "with open(json_file_path, 'r') as file:\n",
    "    for line in file:\n",
    "        data.append(json.loads(line))\n",
    "# Randomly sample 50% of the rows\n",
    "sampled_data = random.sample(data, k=int(len(data) * 0.5))\n",
    "# Create a DataFrame from the sampled data\n",
    "df = pd.DataFrame(sampled_data)\n",
    "# Create a new DataFrame with the desired format\n",
    "result_df = pd.DataFrame({\n",
    "    'model': ['UNK'] * len(df),\n",
    "    'text': df['text']\n",
    "})\n",
    "# Save the result DataFrame to a TSV file without column names and index\n",
    "tsv_output_path = 'unlabel.tsv'\n",
    "result_df.to_csv(tsv_output_path, sep='\\t', index=False, header=False)\n",
    "# Print the result DataFrame\n",
    "print(result_df)"
   ]
  },
  {
   "cell_type": "markdown",
   "id": "b9013e0b",
   "metadata": {
    "papermill": {
     "duration": 0.016938,
     "end_time": "2024-02-03T17:10:07.767668",
     "exception": false,
     "start_time": "2024-02-03T17:10:07.750730",
     "status": "completed"
    },
    "tags": []
   },
   "source": [
    "make labeled tsv file from jsonl with 2 column(% 50 for labeled)"
   ]
  },
  {
   "cell_type": "code",
   "execution_count": 4,
   "id": "a4ae7e06",
   "metadata": {
    "papermill": {
     "duration": 4.538191,
     "end_time": "2024-02-03T17:10:12.322666",
     "exception": false,
     "start_time": "2024-02-03T17:10:07.784475",
     "status": "completed"
    },
    "tags": []
   },
   "outputs": [
    {
     "name": "stdout",
     "output_type": "stream",
     "text": [
      "         model                                               text\n",
      "0      chatGPT  In this work, we investigate the effect of qua...\n",
      "1      davinci  \\n\\nMaking a Caesar salad is simple, yet delic...\n",
      "2      chatGPT  In this study, we present the results of polar...\n",
      "3        dolly  Magnetic ordering in multiferroic materials ha...\n",
      "4       cohere   Millcreek Township, Union County, Ohio, is a ...\n",
      "...        ...                                                ...\n",
      "35508    human    A release of multicolor broad band (BVRI) ph...\n",
      "35509    dolly  Recently, the High Altitude Water Cherenkov (H...\n",
      "35510    dolly  Posthuman is a term coined in the early 21st c...\n",
      "35511    dolly  Līgatne is a village in Plungė district munici...\n",
      "35512  davinci  \\n\\nDefending your pro life beliefs can seem l...\n",
      "\n",
      "[35513 rows x 2 columns]\n"
     ]
    }
   ],
   "source": [
    "# Load the JSON file line by line\n",
    "json_file_path = \"E:/subtaskB_train.jsonl\"\n",
    "data = []\n",
    "with open(json_file_path, 'r') as file:\n",
    "    for line in file:\n",
    "        data.append(json.loads(line))\n",
    "# Randomly sample 50% of the rows\n",
    "sampled_data = random.sample(data, k=int(len(data) * 0.5))\n",
    "# Create a DataFrame from the loaded data\n",
    "df = pd.DataFrame(sampled_data)\n",
    "# Create a new DataFrame with the desired format\n",
    "result_df = pd.DataFrame({\n",
    "    'model': df['model'].apply(lambda x: f'{x}'),\n",
    "    'text': df['text']\n",
    "})\n",
    "# Save the result DataFrame to a TSV file without column names and index\n",
    "tsv_output_path = 'label.tsv'\n",
    "result_df.to_csv(tsv_output_path, sep='\\t', index=False, header=False)\n",
    "# Print the result DataFrame\n",
    "print(result_df)"
   ]
  },
  {
   "cell_type": "markdown",
   "id": "68e5c338",
   "metadata": {
    "papermill": {
     "duration": 0.017169,
     "end_time": "2024-02-03T17:10:12.358293",
     "exception": false,
     "start_time": "2024-02-03T17:10:12.341124",
     "status": "completed"
    },
    "tags": []
   },
   "source": [
    "make test tsv file from jsonl with 2 column"
   ]
  },
  {
   "cell_type": "code",
   "execution_count": 5,
   "id": "d16dc0be",
   "metadata": {
    "papermill": {
     "duration": 7.541781,
     "end_time": "2024-02-03T17:10:19.917510",
     "exception": false,
     "start_time": "2024-02-03T17:10:12.375729",
     "status": "completed"
    },
    "tags": []
   },
   "outputs": [
    {
     "name": "stdout",
     "output_type": "stream",
     "text": [
      "        model                                               text\n",
      "0     chatGPT  Overall, I found the paper \"Machine Comprehens...\n",
      "1     chatGPT  This paper \"Machine Comprehension Using Match-...\n",
      "2     chatGPT  The paper presents an end-to-end neural archit...\n",
      "3     chatGPT  This paper proposes an end-to-end neural archi...\n",
      "4     chatGPT  Title: Incorporating long-range consistency in...\n",
      "...       ...                                                ...\n",
      "2995    dolly  The paper Energy-Based Spherical Sparse Coding...\n",
      "2996    dolly  Dear Author, I have reviewed your submitted pa...\n",
      "2997    dolly  Denoising Auto-Encoders (DAE) have been used i...\n",
      "2998    dolly  The paper Revisiting Denoising Auto-Encoders, ...\n",
      "2999    dolly  This paper Revisiting Denoising Auto-Encoders ...\n",
      "\n",
      "[3000 rows x 2 columns]\n"
     ]
    }
   ],
   "source": [
    "# Load the JSON file line by line\n",
    "json_file_path = \"E:/subtaskB_dev.jsonl\"\n",
    "data = []\n",
    "with open(json_file_path, 'r') as file:\n",
    "    for line in file:\n",
    "        data.append(json.loads(line))\n",
    "# Create a DataFrame from the loaded data\n",
    "df = pd.DataFrame(data)\n",
    "# Create a new DataFrame with the desired format\n",
    "result_df = pd.DataFrame({\n",
    "    'model': df['model'].apply(lambda x: f'{x}'),\n",
    "    'text': df['text']\n",
    "})\n",
    "# Save the result DataFrame to a TSV file without column names and index\n",
    "tsv_output_path = 'test.tsv'\n",
    "result_df.to_csv(tsv_output_path, sep='\\t', index=False, header=False)\n",
    "# Print the result DataFrame\n",
    "print(result_df)"
   ]
  },
  {
   "cell_type": "markdown",
   "id": "c9f4a70f",
   "metadata": {
    "papermill": {
     "duration": 0.017677,
     "end_time": "2024-02-03T17:10:19.953618",
     "exception": false,
     "start_time": "2024-02-03T17:10:19.935941",
     "status": "completed"
    },
    "tags": []
   },
   "source": [
    "set column names to 'model' and 'text' for labeled tsv file"
   ]
  },
  {
   "cell_type": "code",
   "execution_count": 6,
   "id": "b805ba3c",
   "metadata": {
    "papermill": {
     "duration": 4.158147,
     "end_time": "2024-02-03T17:10:24.129497",
     "exception": false,
     "start_time": "2024-02-03T17:10:19.971350",
     "status": "completed"
    },
    "tags": []
   },
   "outputs": [
    {
     "name": "stdout",
     "output_type": "stream",
     "text": [
      "         model                                               text\n",
      "0      chatGPT  In this work, we investigate the effect of qua...\n",
      "1      davinci  \\n\\nMaking a Caesar salad is simple, yet delic...\n",
      "2      chatGPT  In this study, we present the results of polar...\n",
      "3        dolly  Magnetic ordering in multiferroic materials ha...\n",
      "4       cohere   Millcreek Township, Union County, Ohio, is a ...\n",
      "...        ...                                                ...\n",
      "35508    human    A release of multicolor broad band (BVRI) ph...\n",
      "35509    dolly  Recently, the High Altitude Water Cherenkov (H...\n",
      "35510    dolly  Posthuman is a term coined in the early 21st c...\n",
      "35511    dolly  Līgatne is a village in Plungė district munici...\n",
      "35512  davinci  \\n\\nDefending your pro life beliefs can seem l...\n",
      "\n",
      "[35513 rows x 2 columns]\n"
     ]
    }
   ],
   "source": [
    "file_path = 'label.tsv'\n",
    "# Read the TSV file and explicitly set column names to 'model' and 'text'\n",
    "df = pd.read_csv(file_path, delimiter='\\t', names=['model', 'text'])\n",
    "# Print the updated DataFrame\n",
    "print(df)\n",
    "# Save the DataFrame to a new TSV file with the updated column names\n",
    "output_file_path = 'label_1.tsv'\n",
    "df.to_csv(output_file_path, sep='\\t', index=False)"
   ]
  },
  {
   "cell_type": "markdown",
   "id": "1f94c30a",
   "metadata": {
    "papermill": {
     "duration": 0.017792,
     "end_time": "2024-02-03T17:10:24.165147",
     "exception": false,
     "start_time": "2024-02-03T17:10:24.147355",
     "status": "completed"
    },
    "tags": []
   },
   "source": [
    "set column names to 'model' and 'text' for unlabeled tsv file"
   ]
  },
  {
   "cell_type": "code",
   "execution_count": 7,
   "id": "c36f0217",
   "metadata": {
    "papermill": {
     "duration": 4.11116,
     "end_time": "2024-02-03T17:10:28.293713",
     "exception": false,
     "start_time": "2024-02-03T17:10:24.182553",
     "status": "completed"
    },
    "tags": []
   },
   "outputs": [
    {
     "name": "stdout",
     "output_type": "stream",
     "text": [
      "      model                                               text\n",
      "0       UNK  Cynthia Teague, also known as Cindy Teague, is...\n",
      "1       UNK  Sandy Kilpatrick is a Scottish singer-songwrit...\n",
      "2       UNK  Wet nursing is the practice of providing breas...\n",
      "3       UNK  Kathleen M. Adams is a cultural anthropologist...\n",
      "4       UNK  Andreas Heusler (October 29, 1865 – February 1...\n",
      "...     ...                                                ...\n",
      "35508   UNK  Microsoft had monopoly on operating systems an...\n",
      "35509   UNK  In a pressure cooker, put about 1/2 cup of coo...\n",
      "35510   UNK  In this work, we present a novel L-band imagin...\n",
      "35511   UNK  Singer tone is relative to the language you ar...\n",
      "35512   UNK  How to Set Up an Irrevocable Trust\\n\\nAn irrev...\n",
      "\n",
      "[35513 rows x 2 columns]\n"
     ]
    }
   ],
   "source": [
    "file_path = 'unlabel.tsv'\n",
    "# Read the TSV file and explicitly set column names to 'model' and 'text'\n",
    "df = pd.read_csv(file_path, delimiter='\\t', names=['model', 'text'])\n",
    "# Print the updated DataFrame\n",
    "print(df)\n",
    "# Save the DataFrame to a new TSV file with the updated column names\n",
    "output_file_path = 'unlabel_1.tsv'\n",
    "df.to_csv(output_file_path, sep='\\t', index=False)"
   ]
  },
  {
   "cell_type": "markdown",
   "id": "0eaab1a7",
   "metadata": {
    "papermill": {
     "duration": 0.017336,
     "end_time": "2024-02-03T17:10:28.328534",
     "exception": false,
     "start_time": "2024-02-03T17:10:28.311198",
     "status": "completed"
    },
    "tags": []
   },
   "source": [
    "set column names to 'model' and 'text' for test tsv file"
   ]
  },
  {
   "cell_type": "code",
   "execution_count": 8,
   "id": "7b97acd9",
   "metadata": {
    "papermill": {
     "duration": 7.942407,
     "end_time": "2024-02-03T17:10:36.288274",
     "exception": false,
     "start_time": "2024-02-03T17:10:28.345867",
     "status": "completed"
    },
    "tags": []
   },
   "outputs": [
    {
     "name": "stdout",
     "output_type": "stream",
     "text": [
      "        model                                               text\n",
      "0     chatGPT  Overall, I found the paper \"Machine Comprehens...\n",
      "1     chatGPT  This paper \"Machine Comprehension Using Match-...\n",
      "2     chatGPT  The paper presents an end-to-end neural archit...\n",
      "3     chatGPT  This paper proposes an end-to-end neural archi...\n",
      "4     chatGPT  Title: Incorporating long-range consistency in...\n",
      "...       ...                                                ...\n",
      "2995    dolly  The paper Energy-Based Spherical Sparse Coding...\n",
      "2996    dolly  Dear Author, I have reviewed your submitted pa...\n",
      "2997    dolly  Denoising Auto-Encoders (DAE) have been used i...\n",
      "2998    dolly  The paper Revisiting Denoising Auto-Encoders, ...\n",
      "2999    dolly  This paper Revisiting Denoising Auto-Encoders ...\n",
      "\n",
      "[3000 rows x 2 columns]\n"
     ]
    }
   ],
   "source": [
    "file_path = 'test.tsv'\n",
    "# Read the TSV file and explicitly set column names to 'model' and 'text'\n",
    "df = pd.read_csv(file_path, delimiter='\\t', names=['model', 'text'])\n",
    "# Print the updated DataFrame\n",
    "print(df)\n",
    "# Save the DataFrame to a new TSV file with the updated column names\n",
    "output_file_path = 'test_1.tsv'\n",
    "df.to_csv(output_file_path, sep='\\t', index=False)"
   ]
  },
  {
   "cell_type": "markdown",
   "id": "be823892",
   "metadata": {
    "papermill": {
     "duration": 0.017708,
     "end_time": "2024-02-03T17:10:36.323808",
     "exception": false,
     "start_time": "2024-02-03T17:10:36.306100",
     "status": "completed"
    },
    "tags": []
   },
   "source": [
    "Merge \"model\" and \"text\" columns with a space in between for test tsv file"
   ]
  },
  {
   "cell_type": "code",
   "execution_count": 9,
   "id": "d2f0a9c0",
   "metadata": {
    "papermill": {
     "duration": 8.034562,
     "end_time": "2024-02-03T17:10:44.376096",
     "exception": false,
     "start_time": "2024-02-03T17:10:36.341534",
     "status": "completed"
    },
    "tags": []
   },
   "outputs": [
    {
     "name": "stdout",
     "output_type": "stream",
     "text": [
      "                                                 merged\n",
      "0     chatGPT Overall, I found the paper \"Machine Co...\n",
      "1     chatGPT This paper \"Machine Comprehension Usin...\n",
      "2     chatGPT The paper presents an end-to-end neura...\n",
      "3     chatGPT This paper proposes an end-to-end neur...\n",
      "4     chatGPT Title: Incorporating long-range consis...\n",
      "...                                                 ...\n",
      "2995  dolly The paper Energy-Based Spherical Sparse ...\n",
      "2996  dolly Dear Author, I have reviewed your submit...\n",
      "2997  dolly Denoising Auto-Encoders (DAE) have been ...\n",
      "2998  dolly The paper Revisiting Denoising Auto-Enco...\n",
      "2999  dolly This paper Revisiting Denoising Auto-Enc...\n",
      "\n",
      "[3000 rows x 1 columns]\n"
     ]
    }
   ],
   "source": [
    "# Read the TSV file into a DataFrame\n",
    "file_path = 'test_1.tsv'  \n",
    "df = pd.read_csv(file_path, sep='\\t')\n",
    "# Merge \"model\" and \"text\" columns with a space in between\n",
    "df['merged'] = df['model'] + ' ' + df['text']\n",
    "# Drop the original \"model\" and \"text\" columns\n",
    "df = df.drop(['model', 'text'], axis=1)\n",
    "# Save the modified DataFrame to a new TSV file\n",
    "output_file_path = 'test_2.tsv'  # Replace 'output_file.tsv' with the desired output file path\n",
    "df.to_csv(output_file_path, sep='\\t', index=False)\n",
    "# Print or use the modified DataFrame as needed\n",
    "print(df)"
   ]
  },
  {
   "cell_type": "markdown",
   "id": "5547a6e3",
   "metadata": {
    "papermill": {
     "duration": 0.018482,
     "end_time": "2024-02-03T17:10:44.412754",
     "exception": false,
     "start_time": "2024-02-03T17:10:44.394272",
     "status": "completed"
    },
    "tags": []
   },
   "source": [
    "Merge \"model\" and \"text\" columns with a space in between for labeled tsv file"
   ]
  },
  {
   "cell_type": "code",
   "execution_count": 10,
   "id": "5caec954",
   "metadata": {
    "papermill": {
     "duration": 4.11178,
     "end_time": "2024-02-03T17:10:48.544943",
     "exception": false,
     "start_time": "2024-02-03T17:10:44.433163",
     "status": "completed"
    },
    "tags": []
   },
   "outputs": [
    {
     "name": "stdout",
     "output_type": "stream",
     "text": [
      "                                                  merged\n",
      "0      chatGPT In this work, we investigate the effec...\n",
      "1      davinci \\n\\nMaking a Caesar salad is simple, y...\n",
      "2      chatGPT In this study, we present the results ...\n",
      "3      dolly Magnetic ordering in multiferroic materi...\n",
      "4      cohere  Millcreek Township, Union County, Ohio...\n",
      "...                                                  ...\n",
      "35508  human   A release of multicolor broad band (BV...\n",
      "35509  dolly Recently, the High Altitude Water Cheren...\n",
      "35510  dolly Posthuman is a term coined in the early ...\n",
      "35511  dolly Līgatne is a village in Plungė district ...\n",
      "35512  davinci \\n\\nDefending your pro life beliefs ca...\n",
      "\n",
      "[35513 rows x 1 columns]\n"
     ]
    }
   ],
   "source": [
    "# Read the TSV file into a DataFrame\n",
    "file_path = 'label_1.tsv'  \n",
    "df = pd.read_csv(file_path, sep='\\t')\n",
    "# Merge \"model\" and \"text\" columns with a space in between\n",
    "df['merged'] = df['model'] + ' ' + df['text']\n",
    "# Drop the original \"model\" and \"text\" columns\n",
    "df = df.drop(['model', 'text'], axis=1)\n",
    "# Save the modified DataFrame to a new TSV file\n",
    "output_file_path = 'label_2.tsv'  # Replace 'output_file.tsv' with the desired output file path\n",
    "df.to_csv(output_file_path, sep='\\t', index=False)\n",
    "# Print or use the modified DataFrame as needed\n",
    "print(df)"
   ]
  },
  {
   "cell_type": "markdown",
   "id": "81111968",
   "metadata": {
    "papermill": {
     "duration": 0.017971,
     "end_time": "2024-02-03T17:10:48.580913",
     "exception": false,
     "start_time": "2024-02-03T17:10:48.562942",
     "status": "completed"
    },
    "tags": []
   },
   "source": [
    "Merge \"model\" and \"text\" columns with a space in between for unlabeled tsv file"
   ]
  },
  {
   "cell_type": "code",
   "execution_count": 11,
   "id": "06869207",
   "metadata": {
    "papermill": {
     "duration": 4.066694,
     "end_time": "2024-02-03T17:10:52.712561",
     "exception": false,
     "start_time": "2024-02-03T17:10:48.645867",
     "status": "completed"
    },
    "tags": []
   },
   "outputs": [
    {
     "name": "stdout",
     "output_type": "stream",
     "text": [
      "                                                  merged\n",
      "0      UNK Cynthia Teague, also known as Cindy Teague...\n",
      "1      UNK Sandy Kilpatrick is a Scottish singer-song...\n",
      "2      UNK Wet nursing is the practice of providing b...\n",
      "3      UNK Kathleen M. Adams is a cultural anthropolo...\n",
      "4      UNK Andreas Heusler (October 29, 1865 – Februa...\n",
      "...                                                  ...\n",
      "35508  UNK Microsoft had monopoly on operating system...\n",
      "35509  UNK In a pressure cooker, put about 1/2 cup of...\n",
      "35510  UNK In this work, we present a novel L-band im...\n",
      "35511  UNK Singer tone is relative to the language yo...\n",
      "35512  UNK How to Set Up an Irrevocable Trust\\n\\nAn i...\n",
      "\n",
      "[35513 rows x 1 columns]\n"
     ]
    }
   ],
   "source": [
    "# Read the TSV file into a DataFrame\n",
    "file_path = 'unlabel_1.tsv'  \n",
    "df = pd.read_csv(file_path, sep='\\t')\n",
    "# Merge \"model\" and \"text\" columns with a space in between\n",
    "df['merged'] = df['model'] + ' ' + df['text']\n",
    "# Drop the original \"model\" and \"text\" columns\n",
    "df = df.drop(['model', 'text'], axis=1)\n",
    "# Save the modified DataFrame to a new TSV file\n",
    "output_file_path = 'unlabel_2.tsv'  # Replace 'output_file.tsv' with the desired output file path\n",
    "df.to_csv(output_file_path, sep='\\t', index=False)\n",
    "# Print or use the modified DataFrame as needed\n",
    "print(df)"
   ]
  },
  {
   "cell_type": "markdown",
   "id": "ea6705f3",
   "metadata": {
    "papermill": {
     "duration": 0.018709,
     "end_time": "2024-02-03T17:10:52.750336",
     "exception": false,
     "start_time": "2024-02-03T17:10:52.731627",
     "status": "completed"
    },
    "tags": []
   },
   "source": [
    "remove extra space of labeled tsv file to handle in a best way"
   ]
  },
  {
   "cell_type": "code",
   "execution_count": 12,
   "id": "95bd3292",
   "metadata": {
    "papermill": {
     "duration": 0.559127,
     "end_time": "2024-02-03T17:10:53.328761",
     "exception": false,
     "start_time": "2024-02-03T17:10:52.769634",
     "status": "completed"
    },
    "tags": []
   },
   "outputs": [],
   "source": [
    "with open('label_2.tsv', 'rb') as file:\n",
    "    lines = file.readlines()\n",
    "# Remove newlines within each row, remove double quotes at the beginning and end\n",
    "modified_lines = [line.strip(b'\"\\n').replace(b'\"', b'') for line in lines]\n",
    "with open('label_3.tsv', 'wb') as output_file:\n",
    "    output_file.writelines(modified_lines)"
   ]
  },
  {
   "cell_type": "markdown",
   "id": "0fe144fe",
   "metadata": {
    "papermill": {
     "duration": 0.018258,
     "end_time": "2024-02-03T17:10:53.365947",
     "exception": false,
     "start_time": "2024-02-03T17:10:53.347689",
     "status": "completed"
    },
    "tags": []
   },
   "source": [
    "remove extra space of unlabeled tsv file to handle in a best way"
   ]
  },
  {
   "cell_type": "code",
   "execution_count": 13,
   "id": "3915c15b",
   "metadata": {
    "papermill": {
     "duration": 0.66286,
     "end_time": "2024-02-03T17:10:54.051891",
     "exception": false,
     "start_time": "2024-02-03T17:10:53.389031",
     "status": "completed"
    },
    "tags": []
   },
   "outputs": [],
   "source": [
    "with open('unlabel_2.tsv', 'rb') as file:\n",
    "    lines = file.readlines()\n",
    "# Remove newlines within each row, remove double quotes at the beginning and end\n",
    "modified_lines = [line.strip(b'\"\\n').replace(b'\"', b'') for line in lines]\n",
    "with open('unlabel_3.tsv', 'wb') as output_file:\n",
    "    output_file.writelines(modified_lines)"
   ]
  },
  {
   "cell_type": "markdown",
   "id": "834ec572",
   "metadata": {
    "papermill": {
     "duration": 0.017978,
     "end_time": "2024-02-03T17:10:54.092350",
     "exception": false,
     "start_time": "2024-02-03T17:10:54.074372",
     "status": "completed"
    },
    "tags": []
   },
   "source": [
    "remove extra space of test tsv file to handle in a best way"
   ]
  },
  {
   "cell_type": "code",
   "execution_count": 14,
   "id": "b53eb595",
   "metadata": {
    "papermill": {
     "duration": 1.14654,
     "end_time": "2024-02-03T17:10:55.257656",
     "exception": false,
     "start_time": "2024-02-03T17:10:54.111116",
     "status": "completed"
    },
    "tags": []
   },
   "outputs": [],
   "source": [
    "with open('test_2.tsv', 'rb') as file:\n",
    "    lines = file.readlines()\n",
    "# Remove newlines within each row, remove double quotes at the beginning and end\n",
    "modified_lines = [line.strip(b'\"\\n').replace(b'\"', b'') for line in lines]\n",
    "with open('test_3.tsv', 'wb') as output_file:\n",
    "    output_file.writelines(modified_lines)"
   ]
  },
  {
   "cell_type": "markdown",
   "id": "6494ae64",
   "metadata": {
    "papermill": {
     "duration": 0.017866,
     "end_time": "2024-02-03T17:10:55.294761",
     "exception": false,
     "start_time": "2024-02-03T17:10:55.276895",
     "status": "completed"
    },
    "tags": []
   },
   "source": [
    "# Import required packages"
   ]
  },
  {
   "cell_type": "code",
   "execution_count": 15,
   "id": "4e7deda1",
   "metadata": {
    "papermill": {
     "duration": 5.660287,
     "end_time": "2024-02-03T17:11:00.972710",
     "exception": false,
     "start_time": "2024-02-03T17:10:55.312423",
     "status": "completed"
    },
    "tags": []
   },
   "outputs": [],
   "source": [
    "import torch\n",
    "import io\n",
    "import matplotlib.pyplot as plt\n",
    "import torch.nn.functional as F\n",
    "import numpy as np\n",
    "import time\n",
    "import math\n",
    "import sklearn\n",
    "from sklearn.metrics import f1_score\n",
    "import datetime\n",
    "import torch.nn as nn\n",
    "from torch.utils.data import TensorDataset, DataLoader, RandomSampler, SequentialSampler"
   ]
  },
  {
   "cell_type": "code",
   "execution_count": 16,
   "id": "f6dca39c",
   "metadata": {
    "papermill": {
     "duration": 16.093724,
     "end_time": "2024-02-03T17:11:17.085025",
     "exception": false,
     "start_time": "2024-02-03T17:11:00.991301",
     "status": "completed"
    },
    "tags": []
   },
   "outputs": [],
   "source": [
    "from transformers import AutoTokenizer, BertForSequenceClassification, Trainer, TrainingArguments, DataCollatorWithPadding,AutoConfig, AutoModel"
   ]
  },
  {
   "cell_type": "code",
   "execution_count": 17,
   "id": "ad91502f",
   "metadata": {
    "papermill": {
     "duration": 0.104809,
     "end_time": "2024-02-03T17:11:17.207853",
     "exception": false,
     "start_time": "2024-02-03T17:11:17.103044",
     "status": "completed"
    },
    "tags": []
   },
   "outputs": [],
   "source": [
    "##Set random values\n",
    "seed_val = 42\n",
    "random.seed(seed_val)\n",
    "np.random.seed(seed_val)\n",
    "torch.manual_seed(seed_val)\n",
    "if torch.cuda.is_available():\n",
    "  torch.cuda.manual_seed_all(seed_val)"
   ]
  },
  {
   "cell_type": "markdown",
   "id": "4377ced3",
   "metadata": {
    "papermill": {
     "duration": 0.017534,
     "end_time": "2024-02-03T17:11:17.290048",
     "exception": false,
     "start_time": "2024-02-03T17:11:17.272514",
     "status": "completed"
    },
    "tags": []
   },
   "source": [
    "# GPU or CPU"
   ]
  },
  {
   "cell_type": "code",
   "execution_count": 18,
   "id": "dd850df1",
   "metadata": {
    "papermill": {
     "duration": 0.040256,
     "end_time": "2024-02-03T17:11:17.353689",
     "exception": false,
     "start_time": "2024-02-03T17:11:17.313433",
     "status": "completed"
    },
    "tags": []
   },
   "outputs": [
    {
     "name": "stdout",
     "output_type": "stream",
     "text": [
      "There are 1 GPU(s) available.\n",
      "We will use the GPU: NVIDIA GeForce RTX 3070 Laptop GPU\n"
     ]
    }
   ],
   "source": [
    "# If there's a GPU available...\n",
    "if torch.cuda.is_available():    \n",
    "    # Tell PyTorch to use the GPU.    \n",
    "    device = torch.device(\"cuda\")\n",
    "    print('There are %d GPU(s) available.' % torch.cuda.device_count())\n",
    "    print('We will use the GPU:', torch.cuda.get_device_name(0))\n",
    "# If not...\n",
    "else:\n",
    "    print('No GPU available, using the CPU instead.')\n",
    "    device = torch.device(\"cpu\")"
   ]
  },
  {
   "cell_type": "code",
   "execution_count": 19,
   "id": "0ab633a8",
   "metadata": {
    "papermill": {
     "duration": 0.027527,
     "end_time": "2024-02-03T17:11:17.399722",
     "exception": false,
     "start_time": "2024-02-03T17:11:17.372195",
     "status": "completed"
    },
    "tags": []
   },
   "outputs": [],
   "source": [
    "# Transformer parameters\n",
    "max_seq_length = 64\n",
    "batch_size = 8\n",
    "# GAN-BERT specific parameters\n",
    "# number of hidden layers in the generator, each of the size of the output space\n",
    "num_hidden_layers_g = 1; \n",
    "# number of hidden layers in the discriminator, each of the size of the input space\n",
    "num_hidden_layers_d = 1; \n",
    "# size of the generator's input noisy vectors\n",
    "noise_size = 100\n",
    "# dropout to be applied to discriminator's input vectors\n",
    "out_dropout_rate = 0.2\n",
    "# Replicate labeled data to balance poorly represented datasets, e.g., less than 1% of labeled material\n",
    "apply_balance = True\n",
    "# Optimization parameters\n",
    "learning_rate_discriminator = 5e-5\n",
    "learning_rate_generator = 5e-5\n",
    "epsilon = 1e-8\n",
    "num_train_epochs = 6\n",
    "multi_gpu = True\n",
    "# Scheduler\n",
    "apply_scheduler = False\n",
    "warmup_proportion = 0.1\n",
    "# Print\n",
    "print_each_n_step = 200"
   ]
  },
  {
   "cell_type": "markdown",
   "id": "b1e12666",
   "metadata": {
    "papermill": {
     "duration": 0.018123,
     "end_time": "2024-02-03T17:11:17.436566",
     "exception": false,
     "start_time": "2024-02-03T17:11:17.418443",
     "status": "completed"
    },
    "tags": []
   },
   "source": [
    "# Load the Tranformer Model"
   ]
  },
  {
   "cell_type": "code",
   "execution_count": 20,
   "id": "104f061b",
   "metadata": {
    "papermill": {
     "duration": 4.233502,
     "end_time": "2024-02-03T17:11:21.688413",
     "exception": false,
     "start_time": "2024-02-03T17:11:17.454911",
     "status": "completed"
    },
    "tags": []
   },
   "outputs": [],
   "source": [
    "model_name = \"bert-base-cased\"\n",
    "transformer = AutoModel.from_pretrained(model_name)\n",
    "tokenizer = AutoTokenizer.from_pretrained(model_name)"
   ]
  },
  {
   "cell_type": "code",
   "execution_count": 21,
   "id": "8e0c38f8",
   "metadata": {
    "papermill": {
     "duration": 0.028261,
     "end_time": "2024-02-03T17:11:21.736333",
     "exception": false,
     "start_time": "2024-02-03T17:11:21.708072",
     "status": "completed"
    },
    "tags": []
   },
   "outputs": [],
   "source": [
    "# NOTE: in this setting 7 classes are involved\n",
    "labeled_file = \"label_3.tsv\"\n",
    "unlabeled_file = \"unlabel_3.tsv\"\n",
    "test_filename = \"test_3.tsv\"\n",
    "label_list = {\"human\", \"UNK\", \"bloomz\", \"dolly\",  \"cohere\", \"chatGPT\", \"davinci\"} # UNK for unlabeled"
   ]
  },
  {
   "cell_type": "markdown",
   "id": "5f6b853a",
   "metadata": {
    "papermill": {
     "duration": 0.01978,
     "end_time": "2024-02-03T17:11:21.775919",
     "exception": false,
     "start_time": "2024-02-03T17:11:21.756139",
     "status": "completed"
    },
    "tags": []
   },
   "source": [
    "# Function required to load the dataset"
   ]
  },
  {
   "cell_type": "code",
   "execution_count": 22,
   "id": "a6be78e8",
   "metadata": {
    "papermill": {
     "duration": 0.029628,
     "end_time": "2024-02-03T17:11:21.824489",
     "exception": false,
     "start_time": "2024-02-03T17:11:21.794861",
     "status": "completed"
    },
    "tags": []
   },
   "outputs": [],
   "source": [
    "def get_qc_examples(input_file, label_list):\n",
    "    \"\"\"Creates examples for the training and dev sets.\"\"\"\n",
    "    examples = []\n",
    "    with open(input_file, 'r', encoding='utf-8') as f:\n",
    "        for line in f:\n",
    "            line = line.strip()\n",
    "            if not line:\n",
    "                continue  # Skip empty lines\n",
    "            # Split label and text\n",
    "            split = line.split(\" \", 1)          \n",
    "            # Ensure there are at least two elements (label and text)\n",
    "            if len(split) >= 2:\n",
    "                label, text_a = split[0], split[1]              \n",
    "                # Check if the label is in the predefined label_list\n",
    "                if label in label_list:\n",
    "                    examples.append((text_a, label))\n",
    "    return examples"
   ]
  },
  {
   "cell_type": "markdown",
   "id": "4d0b4602",
   "metadata": {
    "papermill": {
     "duration": 0.020013,
     "end_time": "2024-02-03T17:11:21.863901",
     "exception": false,
     "start_time": "2024-02-03T17:11:21.843888",
     "status": "completed"
    },
    "tags": []
   },
   "source": [
    "# Load the input dataset "
   ]
  },
  {
   "cell_type": "code",
   "execution_count": 23,
   "id": "f4fdacd2",
   "metadata": {
    "papermill": {
     "duration": 2.332193,
     "end_time": "2024-02-03T17:11:24.215906",
     "exception": false,
     "start_time": "2024-02-03T17:11:21.883713",
     "status": "completed"
    },
    "tags": []
   },
   "outputs": [],
   "source": [
    "#Load the examples\n",
    "labeled_examples = get_qc_examples(labeled_file, label_list)\n",
    "unlabeled_examples = get_qc_examples(unlabeled_file, label_list)\n",
    "test_examples = get_qc_examples(test_filename, label_list)"
   ]
  },
  {
   "cell_type": "markdown",
   "id": "1e4dc3cc",
   "metadata": {
    "papermill": {
     "duration": 0.018185,
     "end_time": "2024-02-03T17:11:24.253058",
     "exception": false,
     "start_time": "2024-02-03T17:11:24.234873",
     "status": "completed"
    },
    "tags": []
   },
   "source": [
    "# Checking examples"
   ]
  },
  {
   "cell_type": "code",
   "execution_count": 24,
   "id": "e96162c6",
   "metadata": {
    "papermill": {
     "duration": 0.027476,
     "end_time": "2024-02-03T17:11:24.298917",
     "exception": false,
     "start_time": "2024-02-03T17:11:24.271441",
     "status": "completed"
    },
    "tags": []
   },
   "outputs": [
    {
     "name": "stdout",
     "output_type": "stream",
     "text": [
      "Size of labeled_examples: 35513\n"
     ]
    }
   ],
   "source": [
    "# size of labeled_examples\n",
    "size_of_labeled_examples = len(labeled_examples)\n",
    "print(\"Size of labeled_examples:\", size_of_labeled_examples)"
   ]
  },
  {
   "cell_type": "code",
   "execution_count": 25,
   "id": "9b748141",
   "metadata": {
    "papermill": {
     "duration": 0.026947,
     "end_time": "2024-02-03T17:11:24.344814",
     "exception": false,
     "start_time": "2024-02-03T17:11:24.317867",
     "status": "completed"
    },
    "tags": []
   },
   "outputs": [
    {
     "name": "stdout",
     "output_type": "stream",
     "text": [
      "Size of unlabeled_examples: 35513\n"
     ]
    }
   ],
   "source": [
    "# size of unlabeled_examples\n",
    "size_of_unlabeled_examples = len(unlabeled_examples)\n",
    "print(\"Size of unlabeled_examples:\", size_of_unlabeled_examples)"
   ]
  },
  {
   "cell_type": "code",
   "execution_count": 26,
   "id": "75fb36a4",
   "metadata": {
    "papermill": {
     "duration": 0.026786,
     "end_time": "2024-02-03T17:11:24.390380",
     "exception": false,
     "start_time": "2024-02-03T17:11:24.363594",
     "status": "completed"
    },
    "tags": []
   },
   "outputs": [
    {
     "name": "stdout",
     "output_type": "stream",
     "text": [
      "Size of test_examples: 3000\n"
     ]
    }
   ],
   "source": [
    "# size of labeled_examples\n",
    "size_of_test_examples = len(test_examples)\n",
    "print(\"Size of test_examples:\", size_of_test_examples)"
   ]
  },
  {
   "cell_type": "code",
   "execution_count": 27,
   "id": "b2d969fb",
   "metadata": {
    "papermill": {
     "duration": 0.037956,
     "end_time": "2024-02-03T17:11:24.448261",
     "exception": false,
     "start_time": "2024-02-03T17:11:24.410305",
     "status": "completed"
    },
    "tags": []
   },
   "outputs": [
    {
     "name": "stdout",
     "output_type": "stream",
     "text": [
      "['dolly', 'bloomz', 'cohere', 'chatGPT', 'human', 'davinci']\n"
     ]
    }
   ],
   "source": [
    "# Extracting unique label names of labeled_examples\n",
    "unique_labels = set(label for _, label in labeled_examples)\n",
    "# Converting the set to a list if needed\n",
    "unique_labels_list = list(unique_labels)\n",
    "print(unique_labels_list)"
   ]
  },
  {
   "cell_type": "code",
   "execution_count": 28,
   "id": "7a26d2c9",
   "metadata": {
    "papermill": {
     "duration": 0.03033,
     "end_time": "2024-02-03T17:11:24.500178",
     "exception": false,
     "start_time": "2024-02-03T17:11:24.469848",
     "status": "completed"
    },
    "tags": []
   },
   "outputs": [
    {
     "name": "stdout",
     "output_type": "stream",
     "text": [
      "['UNK']\n"
     ]
    }
   ],
   "source": [
    "# Extracting unique label names of unlabeled_examples\n",
    "unique_labels = set(label for _, label in unlabeled_examples)\n",
    "# Converting the set to a list if needed\n",
    "unique_labels_list = list(unique_labels)\n",
    "print(unique_labels_list)"
   ]
  },
  {
   "cell_type": "code",
   "execution_count": 29,
   "id": "f59cc39b",
   "metadata": {
    "papermill": {
     "duration": 0.040312,
     "end_time": "2024-02-03T17:11:24.562788",
     "exception": false,
     "start_time": "2024-02-03T17:11:24.522476",
     "status": "completed"
    },
    "tags": []
   },
   "outputs": [
    {
     "name": "stdout",
     "output_type": "stream",
     "text": [
      "['dolly', 'bloomz', 'cohere', 'chatGPT', 'human', 'davinci']\n"
     ]
    }
   ],
   "source": [
    "# Extracting unique label names of test_examples\n",
    "unique_labels = set(label for _, label in test_examples)\n",
    "# Converting the set to a list if needed\n",
    "unique_labels_list = list(unique_labels)\n",
    "print(unique_labels_list)"
   ]
  },
  {
   "cell_type": "markdown",
   "id": "60c5dfa4",
   "metadata": {
    "papermill": {
     "duration": 0.028414,
     "end_time": "2024-02-03T17:11:24.615231",
     "exception": false,
     "start_time": "2024-02-03T17:11:24.586817",
     "status": "completed"
    },
    "tags": []
   },
   "source": [
    "# Functions required to convert examples into Dataloader"
   ]
  },
  {
   "cell_type": "code",
   "execution_count": 30,
   "id": "caf2a7e6",
   "metadata": {
    "papermill": {
     "duration": 0.045279,
     "end_time": "2024-02-03T17:11:24.691029",
     "exception": false,
     "start_time": "2024-02-03T17:11:24.645750",
     "status": "completed"
    },
    "tags": []
   },
   "outputs": [],
   "source": [
    "def generate_data_loader(input_examples, label_masks, label_map, do_shuffle = False, balance_label_examples = False):\n",
    "  '''\n",
    "  Generate a Dataloader given the input examples, eventually masked if they are \n",
    "  to be considered NOT labeled.\n",
    "  '''\n",
    "  examples = []\n",
    "  # Count the percentage of labeled examples  \n",
    "  num_labeled_examples = 0\n",
    "  for label_mask in label_masks:\n",
    "    if label_mask: \n",
    "      num_labeled_examples += 1\n",
    "  label_mask_rate = num_labeled_examples/len(input_examples)\n",
    "  # if required it applies the balance\n",
    "  for index, ex in enumerate(input_examples): \n",
    "    if label_mask_rate == 1 or not balance_label_examples:\n",
    "      examples.append((ex, label_masks[index]))\n",
    "    else:\n",
    "      # IT SIMULATE A LABELED EXAMPLE\n",
    "      if label_masks[index]:\n",
    "        balance = int(1/label_mask_rate)\n",
    "        balance = int(math.log(balance,2))\n",
    "        if balance < 1:\n",
    "          balance = 1\n",
    "        for b in range(0, int(balance)):\n",
    "          examples.append((ex, label_masks[index]))\n",
    "      else:\n",
    "        examples.append((ex, label_masks[index]))  \n",
    "  # Generate input examples to the Transformer\n",
    "  input_ids = []\n",
    "  input_mask_array = []\n",
    "  label_mask_array = []\n",
    "  label_id_array = []\n",
    "  # Tokenization \n",
    "  for (text, label_mask) in examples:\n",
    "    encoded_sent = tokenizer.encode(text[0], add_special_tokens=True, max_length=max_seq_length, padding=\"max_length\", truncation=True)\n",
    "    input_ids.append(encoded_sent)\n",
    "    label_id_array.append(label_map[text[1]])\n",
    "    label_mask_array.append(label_mask)\n",
    "  # Attention to token (to ignore padded input wordpieces)\n",
    "  for sent in input_ids:\n",
    "    att_mask = [int(token_id > 0) for token_id in sent]                          \n",
    "    input_mask_array.append(att_mask)\n",
    "  # Convertion to Tensor\n",
    "  input_ids = torch.tensor(input_ids) \n",
    "  input_mask_array = torch.tensor(input_mask_array)\n",
    "  label_id_array = torch.tensor(label_id_array, dtype=torch.long)\n",
    "  label_mask_array = torch.tensor(label_mask_array)\n",
    "  # Building the TensorDataset\n",
    "  dataset = TensorDataset(input_ids, input_mask_array, label_id_array, label_mask_array)\n",
    "  if do_shuffle:\n",
    "    sampler = RandomSampler\n",
    "  else:\n",
    "    sampler = SequentialSampler\n",
    "  # Building the DataLoader\n",
    "  return DataLoader(\n",
    "              dataset,  # The training samples.\n",
    "              sampler = sampler(dataset), \n",
    "              batch_size = batch_size) # Trains with this batch size.\n",
    "def format_time(elapsed):\n",
    "    '''\n",
    "    Takes a time in seconds and returns a string hh:mm:ss\n",
    "    '''\n",
    "    # Round to the nearest second.\n",
    "    elapsed_rounded = int(round((elapsed)))\n",
    "    # Format as hh:mm:ss\n",
    "    return str(datetime.timedelta(seconds=elapsed_rounded))   "
   ]
  },
  {
   "cell_type": "markdown",
   "id": "b9f62f0a",
   "metadata": {
    "papermill": {
     "duration": 0.019588,
     "end_time": "2024-02-03T17:11:24.731378",
     "exception": false,
     "start_time": "2024-02-03T17:11:24.711790",
     "status": "completed"
    },
    "tags": []
   },
   "source": [
    "# Convert the input examples into DataLoader"
   ]
  },
  {
   "cell_type": "code",
   "execution_count": null,
   "id": "9dc71203",
   "metadata": {
    "papermill": {
     "duration": 65.966569,
     "end_time": "2024-02-03T17:12:30.717458",
     "exception": false,
     "start_time": "2024-02-03T17:11:24.750889",
     "status": "completed"
    },
    "tags": []
   },
   "outputs": [],
   "source": [
    "label_map = {}\n",
    "for (i, label) in enumerate(label_list):\n",
    "  label_map[label] = i\n",
    "#  Load the train dataset\n",
    "train_examples = labeled_examples\n",
    "#The labeled (train) dataset is assigned with a mask set to True\n",
    "train_label_masks = np.ones(len(labeled_examples), dtype=bool)\n",
    "# If unlabel examples are available\n",
    "if unlabeled_examples:\n",
    "  train_examples = train_examples + unlabeled_examples\n",
    "  #The unlabeled (train) dataset is assigned with a mask set to False\n",
    "  tmp_masks = np.zeros(len(unlabeled_examples), dtype=bool)\n",
    "  train_label_masks = np.concatenate([train_label_masks,tmp_masks])\n",
    "train_dataloader = generate_data_loader(train_examples, train_label_masks, label_map, do_shuffle = True, balance_label_examples = apply_balance)\n",
    "#   Load the test dataset\n",
    "#The labeled (test) dataset is assigned with a mask set to True\n",
    "test_label_masks = np.ones(len(test_examples), dtype=bool)\n",
    "test_dataloader = generate_data_loader(test_examples, test_label_masks, label_map, do_shuffle = False, balance_label_examples = False)    "
   ]
  },
  {
   "cell_type": "markdown",
   "id": "7d1db63b",
   "metadata": {
    "papermill": {
     "duration": 0.019046,
     "end_time": "2024-02-03T17:12:30.756421",
     "exception": false,
     "start_time": "2024-02-03T17:12:30.737375",
     "status": "completed"
    },
    "tags": []
   },
   "source": [
    "# Generator"
   ]
  },
  {
   "cell_type": "code",
   "execution_count": null,
   "id": "2c8a0f7a",
   "metadata": {
    "papermill": {
     "duration": 0.030493,
     "end_time": "2024-02-03T17:12:30.805974",
     "exception": false,
     "start_time": "2024-02-03T17:12:30.775481",
     "status": "completed"
    },
    "tags": []
   },
   "outputs": [],
   "source": [
    "class Generator(nn.Module):\n",
    "    def __init__(self, noise_size=100, output_size=512, hidden_sizes=[512], dropout_rate=0.1):\n",
    "        dropout_rate = 0.02\n",
    "        super(Generator, self).__init__()\n",
    "        layers = []\n",
    "        hidden_sizes = [noise_size] + hidden_sizes\n",
    "        for i in range(len(hidden_sizes)-1):\n",
    "            layers.extend([nn.Linear(hidden_sizes[i], hidden_sizes[i+1]),\n",
    "                           nn.LeakyReLU(0.2, inplace=True),\n",
    "                           nn.BatchNorm1d(hidden_sizes[i+1]),\n",
    "\n",
    "                           nn.Dropout(dropout_rate)\n",
    "                          ])\n",
    "            \n",
    "        layers.append(nn.Linear(hidden_sizes[-1],output_size))\n",
    "        self.layers = nn.Sequential(*layers)\n",
    "    def forward(self, noise):\n",
    "        output_rep = self.layers(noise)\n",
    "        return output_rep\n"
   ]
  },
  {
   "cell_type": "markdown",
   "id": "7644cac6",
   "metadata": {
    "papermill": {
     "duration": 0.018941,
     "end_time": "2024-02-03T17:12:30.844441",
     "exception": false,
     "start_time": "2024-02-03T17:12:30.825500",
     "status": "completed"
    },
    "tags": []
   },
   "source": [
    "# Discriminator"
   ]
  },
  {
   "cell_type": "code",
   "execution_count": null,
   "id": "a0df6518",
   "metadata": {
    "papermill": {
     "duration": 0.032426,
     "end_time": "2024-02-03T17:12:30.896834",
     "exception": false,
     "start_time": "2024-02-03T17:12:30.864408",
     "status": "completed"
    },
    "tags": []
   },
   "outputs": [],
   "source": [
    "class Discriminator(nn.Module):\n",
    "    def __init__(self, input_size=768, hidden_sizes=[768], num_labels=2, dropout_rate=0.1):\n",
    "        super(Discriminator, self).__init__()\n",
    "        self.input_dropout = nn.Dropout(p=dropout_rate)\n",
    "        layers = []\n",
    "        hidden_sizes = [input_size] + hidden_sizes\n",
    "        for i in range(len(hidden_sizes)-1):\n",
    "            layers.extend([nn.Linear(hidden_sizes[i], hidden_sizes[i+1]), nn.LeakyReLU(0.2, inplace=True), nn.Dropout(dropout_rate)])\n",
    "        self.layers = nn.Sequential(*layers) #per il flatten\n",
    "        self.logit = nn.Linear(hidden_sizes[-1],num_labels+1) # +1 for the probability of this sample being fake/real.\n",
    "        self.softmax = nn.Softmax(dim=-1)\n",
    "    def forward(self, input_rep):\n",
    "        input_rep = self.input_dropout(input_rep)\n",
    "        last_rep = self.layers(input_rep)\n",
    "        logits = self.logit(last_rep)\n",
    "        probs = self.softmax(logits)\n",
    "        return last_rep, logits, probs"
   ]
  },
  {
   "cell_type": "markdown",
   "id": "ae283e0e",
   "metadata": {
    "papermill": {
     "duration": 0.019158,
     "end_time": "2024-02-03T17:12:30.936420",
     "exception": false,
     "start_time": "2024-02-03T17:12:30.917262",
     "status": "completed"
    },
    "tags": []
   },
   "source": [
    "# We instantiate the Discriminator and Generator"
   ]
  },
  {
   "cell_type": "code",
   "execution_count": null,
   "id": "e6b43458",
   "metadata": {
    "papermill": {
     "duration": 0.430426,
     "end_time": "2024-02-03T17:12:31.386004",
     "exception": false,
     "start_time": "2024-02-03T17:12:30.955578",
     "status": "completed"
    },
    "tags": []
   },
   "outputs": [],
   "source": [
    "# The config file is required to get the dimension of the vector produced by \n",
    "# the underlying transformer\n",
    "config = AutoConfig.from_pretrained(model_name)\n",
    "hidden_size = int(config.hidden_size)\n",
    "# Define the number and width of hidden layers\n",
    "hidden_levels_g = [hidden_size for i in range(0, num_hidden_layers_g)]\n",
    "\n",
    "hidden_levels_g = [200,450,900]\n",
    "# hidden_levels_g = [192,384,768]\n",
    "\n",
    "hidden_levels_d = [hidden_size for i in range(0, num_hidden_layers_d)]\n",
    "#   Instantiate the Generator and Discriminator\n",
    "generator = Generator(noise_size=noise_size, output_size=hidden_size, hidden_sizes=hidden_levels_g, dropout_rate=out_dropout_rate)\n",
    "discriminator = Discriminator(input_size=hidden_size, hidden_sizes=hidden_levels_d, num_labels=len(label_list), dropout_rate=out_dropout_rate)\n",
    "# Put everything in the GPU if available\n",
    "if torch.cuda.is_available():    \n",
    "  generator.cuda()\n",
    "  discriminator.cuda()\n",
    "  transformer.cuda()\n",
    "  if multi_gpu:\n",
    "    transformer = torch.nn.DataParallel(transformer)\n",
    "# print(config)"
   ]
  },
  {
   "cell_type": "markdown",
   "id": "d8889da9",
   "metadata": {
    "papermill": {
     "duration": 0.020008,
     "end_time": "2024-02-03T17:12:31.427246",
     "exception": false,
     "start_time": "2024-02-03T17:12:31.407238",
     "status": "completed"
    },
    "tags": []
   },
   "source": [
    "# Training..."
   ]
  },
  {
   "cell_type": "code",
   "execution_count": null,
   "id": "df6a2eb7",
   "metadata": {
    "papermill": {
     "duration": 4713.085755,
     "end_time": "2024-02-03T18:31:04.533006",
     "exception": false,
     "start_time": "2024-02-03T17:12:31.447251",
     "status": "completed"
    },
    "tags": []
   },
   "outputs": [],
   "source": [
    "training_stats = []\n",
    "test_f1_scores = []\n",
    "# Measure the total training time for the whole run.\n",
    "total_t0 = time.time()\n",
    "#models parameters\n",
    "transformer_vars = [i for i in transformer.parameters()]\n",
    "d_vars = transformer_vars + [v for v in discriminator.parameters()]\n",
    "g_vars = [v for v in generator.parameters()]\n",
    "#optimizer\n",
    "dis_optimizer = torch.optim.AdamW(d_vars, lr=learning_rate_discriminator)\n",
    "gen_optimizer = torch.optim.AdamW(g_vars, lr=learning_rate_generator) \n",
    "#scheduler\n",
    "if apply_scheduler:\n",
    "  num_train_examples = len(train_examples)\n",
    "  num_train_steps = int(num_train_examples / batch_size * num_train_epochs)\n",
    "  num_warmup_steps = int(num_train_steps * warmup_proportion)\n",
    "  scheduler_d = get_constant_schedule_with_warmup(dis_optimizer, \n",
    "                                           num_warmup_steps = num_warmup_steps)\n",
    "  scheduler_g = get_constant_schedule_with_warmup(gen_optimizer, \n",
    "                                           num_warmup_steps = num_warmup_steps)\n",
    "# For each epoch...\n",
    "for epoch_i in range(0, num_train_epochs):\n",
    "    #               Training\n",
    "    # Perform one full pass over the training set.\n",
    "    print(\"\")\n",
    "    print('======== Epoch {:} / {:} ========'.format(epoch_i + 1, num_train_epochs))\n",
    "    print('Training...')\n",
    "    # Measure how long the training epoch takes.\n",
    "    t0 = time.time()\n",
    "    # Reset the total loss for this epoch.\n",
    "    tr_g_loss = 0\n",
    "    tr_d_loss = 0\n",
    "    # Put the model into training mode.\n",
    "    transformer.train() \n",
    "    generator.train()\n",
    "    discriminator.train()\n",
    "    # For each batch of training data...\n",
    "    for step, batch in enumerate(train_dataloader):\n",
    "        # Progress update every print_each_n_step batches.\n",
    "        if step % print_each_n_step == 0 and not step == 0:\n",
    "            # Calculate elapsed time in minutes.\n",
    "            elapsed = format_time(time.time() - t0)          \n",
    "            # Report progress.\n",
    "            print('  Batch {:>5,}  of  {:>5,}.    Elapsed: {:}.'.format(step, len(train_dataloader), elapsed))\n",
    "        # Unpack this training batch from our dataloader. \n",
    "        b_input_ids = batch[0].to(device)\n",
    "        b_input_mask = batch[1].to(device)\n",
    "        b_labels = batch[2].to(device)\n",
    "        b_label_mask = batch[3].to(device)\n",
    "        real_batch_size = b_input_ids.shape[0]    \n",
    "        # Encode real data in the Transformer\n",
    "        model_outputs = transformer(b_input_ids, attention_mask=b_input_mask)\n",
    "        hidden_states = model_outputs[-1]       \n",
    "        # Generate fake data that should have the same distribution of the ones\n",
    "        # encoded by the transformer. \n",
    "        # First noisy input are used in input to the Generator\n",
    "        noise = torch.zeros(real_batch_size, noise_size, device=device).uniform_(0, 1)\n",
    "        # Gnerate Fake data\n",
    "        gen_rep = generator(noise)\n",
    "        # Generate the output of the Discriminator for real and fake data.\n",
    "        # First, we put together the output of the tranformer and the generator\n",
    "        disciminator_input = torch.cat([hidden_states, gen_rep], dim=0)\n",
    "        # Then, we select the output of the disciminator\n",
    "        features, logits, probs = discriminator(disciminator_input)\n",
    "        # Finally, we separate the discriminator's output for the real and fake\n",
    "        # data\n",
    "        features_list = torch.split(features, real_batch_size)\n",
    "        D_real_features = features_list[0]\n",
    "        D_fake_features = features_list[1]\n",
    "        logits_list = torch.split(logits, real_batch_size)\n",
    "        D_real_logits = logits_list[0]\n",
    "        D_fake_logits = logits_list[1] \n",
    "        probs_list = torch.split(probs, real_batch_size)\n",
    "        D_real_probs = probs_list[0]\n",
    "        D_fake_probs = probs_list[1]\n",
    "        #  LOSS evaluation\n",
    "        # Generator's LOSS estimation\n",
    "        g_loss_d = -1 * torch.mean(torch.log(1 - D_fake_probs[:,-1] + epsilon))\n",
    "        g_feat_reg = torch.mean(torch.pow(torch.mean(D_real_features, dim=0) - torch.mean(D_fake_features, dim=0), 2))\n",
    "        g_loss = g_loss_d + g_feat_reg\n",
    "        # Disciminator's LOSS estimation\n",
    "        logits = D_real_logits[:,0:-1]\n",
    "        log_probs = F.log_softmax(logits, dim=-1)\n",
    "        # The discriminator provides an output for labeled and unlabeled real data\n",
    "        # so the loss evaluated for unlabeled data is ignored (masked)\n",
    "        label2one_hot = torch.nn.functional.one_hot(b_labels, len(label_list))\n",
    "        per_example_loss = -torch.sum(label2one_hot * log_probs, dim=-1)\n",
    "        per_example_loss = torch.masked_select(per_example_loss, b_label_mask.to(device))\n",
    "        labeled_example_count = per_example_loss.type(torch.float32).numel()\n",
    "        # It may be the case that a batch does not contain labeled examples, \n",
    "        # so the \"supervised loss\" in this case is not evaluated\n",
    "#         if labeled_example_count == 0:\n",
    "#           D_L_Supervised = 0\n",
    "#         else:\n",
    "#           D_L_Supervised = torch.div(torch.sum(per_example_loss.to(device)), labeled_example_count) \n",
    "        \n",
    "        D_L_Supervised = torch.div(torch.sum(per_example_loss.to(device)), labeled_example_count)            \n",
    "\n",
    "        D_L_unsupervised1U = -1 * torch.mean(torch.log(1 - D_real_probs[:, -1] + epsilon))\n",
    "        D_L_unsupervised2U = -1 * torch.mean(torch.log(D_fake_probs[:, -1] + epsilon))\n",
    "        d_loss = D_L_Supervised + D_L_unsupervised1U + D_L_unsupervised2U\n",
    "        #  OPTIMIZATION\n",
    "        # Avoid gradient accumulation\n",
    "        gen_optimizer.zero_grad()\n",
    "        dis_optimizer.zero_grad()\n",
    "        # Calculate weigth updates\n",
    "        # retain_graph=True is required since the underlying graph will be deleted after backward\n",
    "        g_loss.backward(retain_graph=True)\n",
    "        d_loss.backward()  \n",
    "        # Apply modifications\n",
    "        gen_optimizer.step()\n",
    "        dis_optimizer.step()\n",
    "        # A detail log of the individual losses\n",
    "        #print(\"{0:.4f}\\t{1:.4f}\\t{2:.4f}\\t{3:.4f}\\t{4:.4f}\".\n",
    "        #      format(D_L_Supervised, D_L_unsupervised1U, D_L_unsupervised2U,\n",
    "        #             g_loss_d, g_feat_reg))\n",
    "        # Save the losses to print them later\n",
    "        tr_g_loss += g_loss.item()\n",
    "        tr_d_loss += d_loss.item()\n",
    "        # Update the learning rate with the scheduler\n",
    "        if apply_scheduler:\n",
    "          scheduler_d.step()\n",
    "          scheduler_g.step()\n",
    "    # Calculate the average loss over all of the batches.\n",
    "    avg_train_loss_g = tr_g_loss / len(train_dataloader)\n",
    "    avg_train_loss_d = tr_d_loss / len(train_dataloader)             \n",
    "    # Measure how long this epoch took.\n",
    "    training_time = format_time(time.time() - t0)\n",
    "    print(\"\")\n",
    "    print(\"  Average training loss generetor: {0:.3f}\".format(avg_train_loss_g))\n",
    "    print(\"  Average training loss discriminator: {0:.3f}\".format(avg_train_loss_d))\n",
    "    print(\"  Training epcoh took: {:}\".format(training_time))\n",
    "    #     TEST ON THE EVALUATION DATASET\n",
    "    # After the completion of each training epoch, measure our performance on\n",
    "    # our test set.\n",
    "    print(\"\")\n",
    "    print(\"Running Test...\")\n",
    "    t0 = time.time()\n",
    "    # Put the model in evaluation mode--the dropout layers behave differently\n",
    "    # during evaluation.\n",
    "    transformer.eval() #maybe redundant\n",
    "    discriminator.eval()\n",
    "    generator.eval()\n",
    "    # Tracking variables \n",
    "    total_test_accuracy = 0\n",
    "    total_test_loss = 0\n",
    "    nb_test_steps = 0\n",
    "    all_preds = []\n",
    "    all_labels_ids = []\n",
    "    #loss\n",
    "    nll_loss = torch.nn.CrossEntropyLoss(ignore_index=-1)\n",
    "    # Evaluate data for one epoch\n",
    "    for batch in test_dataloader:      \n",
    "        # Unpack this training batch from our dataloader. \n",
    "        b_input_ids = batch[0].to(device)\n",
    "        b_input_mask = batch[1].to(device)\n",
    "        b_labels = batch[2].to(device)     \n",
    "        # Tell pytorch not to bother with constructing the compute graph during\n",
    "        # the forward pass, since this is only needed for backprop (training).\n",
    "        with torch.no_grad():        \n",
    "            model_outputs = transformer(b_input_ids, attention_mask=b_input_mask)\n",
    "            hidden_states = model_outputs[-1]\n",
    "            _, logits, probs = discriminator(hidden_states)\n",
    "            ###log_probs = F.log_softmax(probs[:,1:], dim=-1)\n",
    "            filtered_logits = logits[:,0:-1]\n",
    "            # Accumulate the test loss.\n",
    "            total_test_loss += nll_loss(filtered_logits, b_labels)      \n",
    "        # Accumulate the predictions and the input labels\n",
    "        _, preds = torch.max(filtered_logits, 1)\n",
    "        all_preds += preds.detach().cpu()\n",
    "        all_labels_ids += b_labels.detach().cpu()\n",
    "    # Report the final accuracy for this validation run.\n",
    "    all_preds = torch.stack(all_preds).numpy()\n",
    "    all_labels_ids = torch.stack(all_labels_ids).numpy()\n",
    "    test_accuracy = np.sum(all_preds == all_labels_ids) / len(all_preds)\n",
    "    print(\"  Accuracy: {0:.3f}\".format(test_accuracy))\n",
    "    # Calculate the F1 score\n",
    "    test_f1 = f1_score(all_labels_ids, all_preds, average='weighted')\n",
    "    test_f1_scores.append(test_f1)\n",
    "    print(\"  F1 Score: {0:.3f}\".format(test_f1))\n",
    "    # Calculate the average loss over all of the batches.\n",
    "    avg_test_loss = total_test_loss / len(test_dataloader)\n",
    "    avg_test_loss = avg_test_loss.item()\n",
    "    # Measure how long the validation run took.\n",
    "    test_time = format_time(time.time() - t0)\n",
    "    print(\"  Test Loss: {0:.3f}\".format(avg_test_loss))\n",
    "    print(\"  Test took: {:}\".format(test_time))\n",
    "    # Record all statistics from this epoch.\n",
    "    training_stats.append(\n",
    "        {\n",
    "            'epoch': epoch_i + 1,\n",
    "            'Training Loss generator': avg_train_loss_g,\n",
    "            'Training Loss discriminator': avg_train_loss_d,\n",
    "            'Valid. Accur.': test_accuracy,\n",
    "            'Training Time': training_time,\n",
    "            'Test Time': test_time\n",
    "        }\n",
    "    ) "
   ]
  },
  {
   "cell_type": "code",
   "execution_count": null,
   "id": "7c9a9c91",
   "metadata": {
    "papermill": {
     "duration": 0.050209,
     "end_time": "2024-02-03T18:31:04.614076",
     "exception": false,
     "start_time": "2024-02-03T18:31:04.563867",
     "status": "completed"
    },
    "tags": []
   },
   "outputs": [],
   "source": [
    "for stat in training_stats:\n",
    "  print(stat)\n",
    "print(\"\\nTraining complete!\")\n",
    "print(\"Total training took {:} (h:mm:ss)\".format(format_time(time.time()-total_t0)))"
   ]
  },
  {
   "cell_type": "code",
   "execution_count": null,
   "id": "68ffdcfd",
   "metadata": {
    "papermill": {
     "duration": 0.820609,
     "end_time": "2024-02-03T18:31:05.463050",
     "exception": false,
     "start_time": "2024-02-03T18:31:04.642441",
     "status": "completed"
    },
    "tags": []
   },
   "outputs": [],
   "source": [
    "# Plotting training statistics\n",
    "epochs = [stat['epoch'] for stat in training_stats]\n",
    "gen_losses = [stat['Training Loss generator'] for stat in training_stats]\n",
    "dis_losses = [stat['Training Loss discriminator'] for stat in training_stats]\n",
    "valid_accuracies = [stat['Valid. Accur.'] for stat in training_stats]\n",
    "# Plot the training and validation losses\n",
    "plt.figure(figsize=(12, 6))\n",
    "plt.plot(epochs, gen_losses, label='Generator Training Loss')\n",
    "plt.plot(epochs, dis_losses, label='Discriminator Training Loss')\n",
    "plt.title('Training Loss Over Epochs')\n",
    "plt.xlabel('Epochs')\n",
    "plt.ylabel('Loss')\n",
    "plt.legend()\n",
    "plt.grid(True)  # Add this line to enable the grid\n",
    "plt.show()\n",
    "# Plot the Test accuracy\n",
    "plt.figure(figsize=(12, 6))\n",
    "plt.plot(epochs, valid_accuracies, label='Validation Accuracy')\n",
    "plt.title('Validation Accuracy Over Epochs')\n",
    "plt.xlabel('Epochs')\n",
    "plt.ylabel('Accuracy')\n",
    "plt.legend()\n",
    "plt.grid(True)  # Add this line to enable the grid\n",
    "plt.show()\n",
    "# Plot F1 scores\n",
    "plt.figure(figsize=(10, 5))\n",
    "plt.plot(range(1, num_train_epochs + 1), test_f1_scores, label='Test F1 Score')\n",
    "plt.xlabel('Epoch')\n",
    "plt.ylabel('F1 Score')\n",
    "plt.title('F1 Score Over Epochs')\n",
    "plt.legend()\n",
    "plt.grid(True)  # Add this line to enable the grid\n",
    "plt.show()"
   ]
  },
  {
   "cell_type": "code",
   "execution_count": null,
   "id": "c9e60977",
   "metadata": {
    "papermill": {
     "duration": 0.028042,
     "end_time": "2024-02-03T18:31:05.519896",
     "exception": false,
     "start_time": "2024-02-03T18:31:05.491854",
     "status": "completed"
    },
    "tags": []
   },
   "outputs": [],
   "source": []
  }
 ],
 "metadata": {
  "kaggle": {
   "accelerator": "nvidiaTeslaT4",
   "dataSources": [],
   "dockerImageVersionId": 30646,
   "isGpuEnabled": true,
   "isInternetEnabled": true,
   "language": "python",
   "sourceType": "notebook"
  },
  "kernelspec": {
   "display_name": "Python 3 (ipykernel)",
   "language": "python",
   "name": "python3"
  },
  "language_info": {
   "codemirror_mode": {
    "name": "ipython",
    "version": 3
   },
   "file_extension": ".py",
   "mimetype": "text/x-python",
   "name": "python",
   "nbconvert_exporter": "python",
   "pygments_lexer": "ipython3",
   "version": "3.11.5"
  },
  "papermill": {
   "default_parameters": {},
   "duration": 4900.624441,
   "end_time": "2024-02-03T18:31:08.570457",
   "environment_variables": {},
   "exception": null,
   "input_path": "__notebook__.ipynb",
   "output_path": "__notebook__.ipynb",
   "parameters": {},
   "start_time": "2024-02-03T17:09:27.946016",
   "version": "2.5.0"
  },
  "widgets": {
   "application/vnd.jupyter.widget-state+json": {
    "state": {
     "04665850111a44e1b7396cc8eee0ae9d": {
      "model_module": "@jupyter-widgets/controls",
      "model_module_version": "1.5.0",
      "model_name": "HBoxModel",
      "state": {
       "_dom_classes": [],
       "_model_module": "@jupyter-widgets/controls",
       "_model_module_version": "1.5.0",
       "_model_name": "HBoxModel",
       "_view_count": null,
       "_view_module": "@jupyter-widgets/controls",
       "_view_module_version": "1.5.0",
       "_view_name": "HBoxView",
       "box_style": "",
       "children": [
        "IPY_MODEL_33254329e07142f5ab18e7874320a11b",
        "IPY_MODEL_eb91792962c14fac9435af41bcc73590",
        "IPY_MODEL_6a82f63e6e3f4cb197edb66d538bc212"
       ],
       "layout": "IPY_MODEL_14252940ec314eb59741caef39ec2680"
      }
     },
     "0f4cc34cadf548a2a6ff43e97c5a4432": {
      "model_module": "@jupyter-widgets/base",
      "model_module_version": "1.2.0",
      "model_name": "LayoutModel",
      "state": {
       "_model_module": "@jupyter-widgets/base",
       "_model_module_version": "1.2.0",
       "_model_name": "LayoutModel",
       "_view_count": null,
       "_view_module": "@jupyter-widgets/base",
       "_view_module_version": "1.2.0",
       "_view_name": "LayoutView",
       "align_content": null,
       "align_items": null,
       "align_self": null,
       "border": null,
       "bottom": null,
       "display": null,
       "flex": null,
       "flex_flow": null,
       "grid_area": null,
       "grid_auto_columns": null,
       "grid_auto_flow": null,
       "grid_auto_rows": null,
       "grid_column": null,
       "grid_gap": null,
       "grid_row": null,
       "grid_template_areas": null,
       "grid_template_columns": null,
       "grid_template_rows": null,
       "height": null,
       "justify_content": null,
       "justify_items": null,
       "left": null,
       "margin": null,
       "max_height": null,
       "max_width": null,
       "min_height": null,
       "min_width": null,
       "object_fit": null,
       "object_position": null,
       "order": null,
       "overflow": null,
       "overflow_x": null,
       "overflow_y": null,
       "padding": null,
       "right": null,
       "top": null,
       "visibility": null,
       "width": null
      }
     },
     "120ce7d3cb914993be3ab0b01923e7e7": {
      "model_module": "@jupyter-widgets/controls",
      "model_module_version": "1.5.0",
      "model_name": "ProgressStyleModel",
      "state": {
       "_model_module": "@jupyter-widgets/controls",
       "_model_module_version": "1.5.0",
       "_model_name": "ProgressStyleModel",
       "_view_count": null,
       "_view_module": "@jupyter-widgets/base",
       "_view_module_version": "1.2.0",
       "_view_name": "StyleView",
       "bar_color": null,
       "description_width": ""
      }
     },
     "1291c4f431c24dd383a341569ccf068f": {
      "model_module": "@jupyter-widgets/base",
      "model_module_version": "1.2.0",
      "model_name": "LayoutModel",
      "state": {
       "_model_module": "@jupyter-widgets/base",
       "_model_module_version": "1.2.0",
       "_model_name": "LayoutModel",
       "_view_count": null,
       "_view_module": "@jupyter-widgets/base",
       "_view_module_version": "1.2.0",
       "_view_name": "LayoutView",
       "align_content": null,
       "align_items": null,
       "align_self": null,
       "border": null,
       "bottom": null,
       "display": null,
       "flex": null,
       "flex_flow": null,
       "grid_area": null,
       "grid_auto_columns": null,
       "grid_auto_flow": null,
       "grid_auto_rows": null,
       "grid_column": null,
       "grid_gap": null,
       "grid_row": null,
       "grid_template_areas": null,
       "grid_template_columns": null,
       "grid_template_rows": null,
       "height": null,
       "justify_content": null,
       "justify_items": null,
       "left": null,
       "margin": null,
       "max_height": null,
       "max_width": null,
       "min_height": null,
       "min_width": null,
       "object_fit": null,
       "object_position": null,
       "order": null,
       "overflow": null,
       "overflow_x": null,
       "overflow_y": null,
       "padding": null,
       "right": null,
       "top": null,
       "visibility": null,
       "width": null
      }
     },
     "131509b3b2f844cb87ed95c7ab58b5da": {
      "model_module": "@jupyter-widgets/controls",
      "model_module_version": "1.5.0",
      "model_name": "DescriptionStyleModel",
      "state": {
       "_model_module": "@jupyter-widgets/controls",
       "_model_module_version": "1.5.0",
       "_model_name": "DescriptionStyleModel",
       "_view_count": null,
       "_view_module": "@jupyter-widgets/base",
       "_view_module_version": "1.2.0",
       "_view_name": "StyleView",
       "description_width": ""
      }
     },
     "14252940ec314eb59741caef39ec2680": {
      "model_module": "@jupyter-widgets/base",
      "model_module_version": "1.2.0",
      "model_name": "LayoutModel",
      "state": {
       "_model_module": "@jupyter-widgets/base",
       "_model_module_version": "1.2.0",
       "_model_name": "LayoutModel",
       "_view_count": null,
       "_view_module": "@jupyter-widgets/base",
       "_view_module_version": "1.2.0",
       "_view_name": "LayoutView",
       "align_content": null,
       "align_items": null,
       "align_self": null,
       "border": null,
       "bottom": null,
       "display": null,
       "flex": null,
       "flex_flow": null,
       "grid_area": null,
       "grid_auto_columns": null,
       "grid_auto_flow": null,
       "grid_auto_rows": null,
       "grid_column": null,
       "grid_gap": null,
       "grid_row": null,
       "grid_template_areas": null,
       "grid_template_columns": null,
       "grid_template_rows": null,
       "height": null,
       "justify_content": null,
       "justify_items": null,
       "left": null,
       "margin": null,
       "max_height": null,
       "max_width": null,
       "min_height": null,
       "min_width": null,
       "object_fit": null,
       "object_position": null,
       "order": null,
       "overflow": null,
       "overflow_x": null,
       "overflow_y": null,
       "padding": null,
       "right": null,
       "top": null,
       "visibility": null,
       "width": null
      }
     },
     "145ba00163ef40cc85a6152480f929c0": {
      "model_module": "@jupyter-widgets/controls",
      "model_module_version": "1.5.0",
      "model_name": "DescriptionStyleModel",
      "state": {
       "_model_module": "@jupyter-widgets/controls",
       "_model_module_version": "1.5.0",
       "_model_name": "DescriptionStyleModel",
       "_view_count": null,
       "_view_module": "@jupyter-widgets/base",
       "_view_module_version": "1.2.0",
       "_view_name": "StyleView",
       "description_width": ""
      }
     },
     "1832de611a10457083602ab75dc8babd": {
      "model_module": "@jupyter-widgets/controls",
      "model_module_version": "1.5.0",
      "model_name": "HTMLModel",
      "state": {
       "_dom_classes": [],
       "_model_module": "@jupyter-widgets/controls",
       "_model_module_version": "1.5.0",
       "_model_name": "HTMLModel",
       "_view_count": null,
       "_view_module": "@jupyter-widgets/controls",
       "_view_module_version": "1.5.0",
       "_view_name": "HTMLView",
       "description": "",
       "description_tooltip": null,
       "layout": "IPY_MODEL_1291c4f431c24dd383a341569ccf068f",
       "placeholder": "​",
       "style": "IPY_MODEL_e681241a4e7d4b659573660e4d84513c",
       "value": " 436M/436M [00:02&lt;00:00, 202MB/s]"
      }
     },
     "1ea23a883bb54f87bf87cfdd4a831753": {
      "model_module": "@jupyter-widgets/controls",
      "model_module_version": "1.5.0",
      "model_name": "FloatProgressModel",
      "state": {
       "_dom_classes": [],
       "_model_module": "@jupyter-widgets/controls",
       "_model_module_version": "1.5.0",
       "_model_name": "FloatProgressModel",
       "_view_count": null,
       "_view_module": "@jupyter-widgets/controls",
       "_view_module_version": "1.5.0",
       "_view_name": "ProgressView",
       "bar_style": "success",
       "description": "",
       "description_tooltip": null,
       "layout": "IPY_MODEL_f652d9862707411495f5ad0839926621",
       "max": 213450,
       "min": 0,
       "orientation": "horizontal",
       "style": "IPY_MODEL_f33ef35a6c2b4575b8d80de9c644fcf7",
       "value": 213450
      }
     },
     "284bd89f23ed45ae83cbed15a3f4c12f": {
      "model_module": "@jupyter-widgets/base",
      "model_module_version": "1.2.0",
      "model_name": "LayoutModel",
      "state": {
       "_model_module": "@jupyter-widgets/base",
       "_model_module_version": "1.2.0",
       "_model_name": "LayoutModel",
       "_view_count": null,
       "_view_module": "@jupyter-widgets/base",
       "_view_module_version": "1.2.0",
       "_view_name": "LayoutView",
       "align_content": null,
       "align_items": null,
       "align_self": null,
       "border": null,
       "bottom": null,
       "display": null,
       "flex": null,
       "flex_flow": null,
       "grid_area": null,
       "grid_auto_columns": null,
       "grid_auto_flow": null,
       "grid_auto_rows": null,
       "grid_column": null,
       "grid_gap": null,
       "grid_row": null,
       "grid_template_areas": null,
       "grid_template_columns": null,
       "grid_template_rows": null,
       "height": null,
       "justify_content": null,
       "justify_items": null,
       "left": null,
       "margin": null,
       "max_height": null,
       "max_width": null,
       "min_height": null,
       "min_width": null,
       "object_fit": null,
       "object_position": null,
       "order": null,
       "overflow": null,
       "overflow_x": null,
       "overflow_y": null,
       "padding": null,
       "right": null,
       "top": null,
       "visibility": null,
       "width": null
      }
     },
     "289e7069ec12466a89df858d5ba804d3": {
      "model_module": "@jupyter-widgets/controls",
      "model_module_version": "1.5.0",
      "model_name": "DescriptionStyleModel",
      "state": {
       "_model_module": "@jupyter-widgets/controls",
       "_model_module_version": "1.5.0",
       "_model_name": "DescriptionStyleModel",
       "_view_count": null,
       "_view_module": "@jupyter-widgets/base",
       "_view_module_version": "1.2.0",
       "_view_name": "StyleView",
       "description_width": ""
      }
     },
     "2da7e3305fe648fd95df286c7c2bd1bf": {
      "model_module": "@jupyter-widgets/controls",
      "model_module_version": "1.5.0",
      "model_name": "HTMLModel",
      "state": {
       "_dom_classes": [],
       "_model_module": "@jupyter-widgets/controls",
       "_model_module_version": "1.5.0",
       "_model_name": "HTMLModel",
       "_view_count": null,
       "_view_module": "@jupyter-widgets/controls",
       "_view_module_version": "1.5.0",
       "_view_name": "HTMLView",
       "description": "",
       "description_tooltip": null,
       "layout": "IPY_MODEL_3e4ba6fbeb2e43acb70dabfe76a7b7f1",
       "placeholder": "​",
       "style": "IPY_MODEL_69e3d5b149d54f37821cb1d803fc5075",
       "value": " 213k/213k [00:00&lt;00:00, 5.17MB/s]"
      }
     },
     "2ef72c693d924152b4d2655ac8ac178a": {
      "model_module": "@jupyter-widgets/base",
      "model_module_version": "1.2.0",
      "model_name": "LayoutModel",
      "state": {
       "_model_module": "@jupyter-widgets/base",
       "_model_module_version": "1.2.0",
       "_model_name": "LayoutModel",
       "_view_count": null,
       "_view_module": "@jupyter-widgets/base",
       "_view_module_version": "1.2.0",
       "_view_name": "LayoutView",
       "align_content": null,
       "align_items": null,
       "align_self": null,
       "border": null,
       "bottom": null,
       "display": null,
       "flex": null,
       "flex_flow": null,
       "grid_area": null,
       "grid_auto_columns": null,
       "grid_auto_flow": null,
       "grid_auto_rows": null,
       "grid_column": null,
       "grid_gap": null,
       "grid_row": null,
       "grid_template_areas": null,
       "grid_template_columns": null,
       "grid_template_rows": null,
       "height": null,
       "justify_content": null,
       "justify_items": null,
       "left": null,
       "margin": null,
       "max_height": null,
       "max_width": null,
       "min_height": null,
       "min_width": null,
       "object_fit": null,
       "object_position": null,
       "order": null,
       "overflow": null,
       "overflow_x": null,
       "overflow_y": null,
       "padding": null,
       "right": null,
       "top": null,
       "visibility": null,
       "width": null
      }
     },
     "33254329e07142f5ab18e7874320a11b": {
      "model_module": "@jupyter-widgets/controls",
      "model_module_version": "1.5.0",
      "model_name": "HTMLModel",
      "state": {
       "_dom_classes": [],
       "_model_module": "@jupyter-widgets/controls",
       "_model_module_version": "1.5.0",
       "_model_name": "HTMLModel",
       "_view_count": null,
       "_view_module": "@jupyter-widgets/controls",
       "_view_module_version": "1.5.0",
       "_view_name": "HTMLView",
       "description": "",
       "description_tooltip": null,
       "layout": "IPY_MODEL_0f4cc34cadf548a2a6ff43e97c5a4432",
       "placeholder": "​",
       "style": "IPY_MODEL_7d74dc2b90db4505a6471fda2d7f4db3",
       "value": "tokenizer_config.json: 100%"
      }
     },
     "38765786f9be40d7928b64efa870b879": {
      "model_module": "@jupyter-widgets/controls",
      "model_module_version": "1.5.0",
      "model_name": "ProgressStyleModel",
      "state": {
       "_model_module": "@jupyter-widgets/controls",
       "_model_module_version": "1.5.0",
       "_model_name": "ProgressStyleModel",
       "_view_count": null,
       "_view_module": "@jupyter-widgets/base",
       "_view_module_version": "1.2.0",
       "_view_name": "StyleView",
       "bar_color": null,
       "description_width": ""
      }
     },
     "3e4ba6fbeb2e43acb70dabfe76a7b7f1": {
      "model_module": "@jupyter-widgets/base",
      "model_module_version": "1.2.0",
      "model_name": "LayoutModel",
      "state": {
       "_model_module": "@jupyter-widgets/base",
       "_model_module_version": "1.2.0",
       "_model_name": "LayoutModel",
       "_view_count": null,
       "_view_module": "@jupyter-widgets/base",
       "_view_module_version": "1.2.0",
       "_view_name": "LayoutView",
       "align_content": null,
       "align_items": null,
       "align_self": null,
       "border": null,
       "bottom": null,
       "display": null,
       "flex": null,
       "flex_flow": null,
       "grid_area": null,
       "grid_auto_columns": null,
       "grid_auto_flow": null,
       "grid_auto_rows": null,
       "grid_column": null,
       "grid_gap": null,
       "grid_row": null,
       "grid_template_areas": null,
       "grid_template_columns": null,
       "grid_template_rows": null,
       "height": null,
       "justify_content": null,
       "justify_items": null,
       "left": null,
       "margin": null,
       "max_height": null,
       "max_width": null,
       "min_height": null,
       "min_width": null,
       "object_fit": null,
       "object_position": null,
       "order": null,
       "overflow": null,
       "overflow_x": null,
       "overflow_y": null,
       "padding": null,
       "right": null,
       "top": null,
       "visibility": null,
       "width": null
      }
     },
     "45ce98c2917d40dd93a3838797b9a675": {
      "model_module": "@jupyter-widgets/base",
      "model_module_version": "1.2.0",
      "model_name": "LayoutModel",
      "state": {
       "_model_module": "@jupyter-widgets/base",
       "_model_module_version": "1.2.0",
       "_model_name": "LayoutModel",
       "_view_count": null,
       "_view_module": "@jupyter-widgets/base",
       "_view_module_version": "1.2.0",
       "_view_name": "LayoutView",
       "align_content": null,
       "align_items": null,
       "align_self": null,
       "border": null,
       "bottom": null,
       "display": null,
       "flex": null,
       "flex_flow": null,
       "grid_area": null,
       "grid_auto_columns": null,
       "grid_auto_flow": null,
       "grid_auto_rows": null,
       "grid_column": null,
       "grid_gap": null,
       "grid_row": null,
       "grid_template_areas": null,
       "grid_template_columns": null,
       "grid_template_rows": null,
       "height": null,
       "justify_content": null,
       "justify_items": null,
       "left": null,
       "margin": null,
       "max_height": null,
       "max_width": null,
       "min_height": null,
       "min_width": null,
       "object_fit": null,
       "object_position": null,
       "order": null,
       "overflow": null,
       "overflow_x": null,
       "overflow_y": null,
       "padding": null,
       "right": null,
       "top": null,
       "visibility": null,
       "width": null
      }
     },
     "48f4349dbe514a408b7e93546f35c769": {
      "model_module": "@jupyter-widgets/base",
      "model_module_version": "1.2.0",
      "model_name": "LayoutModel",
      "state": {
       "_model_module": "@jupyter-widgets/base",
       "_model_module_version": "1.2.0",
       "_model_name": "LayoutModel",
       "_view_count": null,
       "_view_module": "@jupyter-widgets/base",
       "_view_module_version": "1.2.0",
       "_view_name": "LayoutView",
       "align_content": null,
       "align_items": null,
       "align_self": null,
       "border": null,
       "bottom": null,
       "display": null,
       "flex": null,
       "flex_flow": null,
       "grid_area": null,
       "grid_auto_columns": null,
       "grid_auto_flow": null,
       "grid_auto_rows": null,
       "grid_column": null,
       "grid_gap": null,
       "grid_row": null,
       "grid_template_areas": null,
       "grid_template_columns": null,
       "grid_template_rows": null,
       "height": null,
       "justify_content": null,
       "justify_items": null,
       "left": null,
       "margin": null,
       "max_height": null,
       "max_width": null,
       "min_height": null,
       "min_width": null,
       "object_fit": null,
       "object_position": null,
       "order": null,
       "overflow": null,
       "overflow_x": null,
       "overflow_y": null,
       "padding": null,
       "right": null,
       "top": null,
       "visibility": null,
       "width": null
      }
     },
     "4ee1f4f7e556483ebadfb6fd5068aa4d": {
      "model_module": "@jupyter-widgets/base",
      "model_module_version": "1.2.0",
      "model_name": "LayoutModel",
      "state": {
       "_model_module": "@jupyter-widgets/base",
       "_model_module_version": "1.2.0",
       "_model_name": "LayoutModel",
       "_view_count": null,
       "_view_module": "@jupyter-widgets/base",
       "_view_module_version": "1.2.0",
       "_view_name": "LayoutView",
       "align_content": null,
       "align_items": null,
       "align_self": null,
       "border": null,
       "bottom": null,
       "display": null,
       "flex": null,
       "flex_flow": null,
       "grid_area": null,
       "grid_auto_columns": null,
       "grid_auto_flow": null,
       "grid_auto_rows": null,
       "grid_column": null,
       "grid_gap": null,
       "grid_row": null,
       "grid_template_areas": null,
       "grid_template_columns": null,
       "grid_template_rows": null,
       "height": null,
       "justify_content": null,
       "justify_items": null,
       "left": null,
       "margin": null,
       "max_height": null,
       "max_width": null,
       "min_height": null,
       "min_width": null,
       "object_fit": null,
       "object_position": null,
       "order": null,
       "overflow": null,
       "overflow_x": null,
       "overflow_y": null,
       "padding": null,
       "right": null,
       "top": null,
       "visibility": null,
       "width": null
      }
     },
     "51f6400864384ca5a508d06c8b68b0ba": {
      "model_module": "@jupyter-widgets/base",
      "model_module_version": "1.2.0",
      "model_name": "LayoutModel",
      "state": {
       "_model_module": "@jupyter-widgets/base",
       "_model_module_version": "1.2.0",
       "_model_name": "LayoutModel",
       "_view_count": null,
       "_view_module": "@jupyter-widgets/base",
       "_view_module_version": "1.2.0",
       "_view_name": "LayoutView",
       "align_content": null,
       "align_items": null,
       "align_self": null,
       "border": null,
       "bottom": null,
       "display": null,
       "flex": null,
       "flex_flow": null,
       "grid_area": null,
       "grid_auto_columns": null,
       "grid_auto_flow": null,
       "grid_auto_rows": null,
       "grid_column": null,
       "grid_gap": null,
       "grid_row": null,
       "grid_template_areas": null,
       "grid_template_columns": null,
       "grid_template_rows": null,
       "height": null,
       "justify_content": null,
       "justify_items": null,
       "left": null,
       "margin": null,
       "max_height": null,
       "max_width": null,
       "min_height": null,
       "min_width": null,
       "object_fit": null,
       "object_position": null,
       "order": null,
       "overflow": null,
       "overflow_x": null,
       "overflow_y": null,
       "padding": null,
       "right": null,
       "top": null,
       "visibility": null,
       "width": null
      }
     },
     "52120e34b0e9478ca9093df2bd64a59b": {
      "model_module": "@jupyter-widgets/base",
      "model_module_version": "1.2.0",
      "model_name": "LayoutModel",
      "state": {
       "_model_module": "@jupyter-widgets/base",
       "_model_module_version": "1.2.0",
       "_model_name": "LayoutModel",
       "_view_count": null,
       "_view_module": "@jupyter-widgets/base",
       "_view_module_version": "1.2.0",
       "_view_name": "LayoutView",
       "align_content": null,
       "align_items": null,
       "align_self": null,
       "border": null,
       "bottom": null,
       "display": null,
       "flex": null,
       "flex_flow": null,
       "grid_area": null,
       "grid_auto_columns": null,
       "grid_auto_flow": null,
       "grid_auto_rows": null,
       "grid_column": null,
       "grid_gap": null,
       "grid_row": null,
       "grid_template_areas": null,
       "grid_template_columns": null,
       "grid_template_rows": null,
       "height": null,
       "justify_content": null,
       "justify_items": null,
       "left": null,
       "margin": null,
       "max_height": null,
       "max_width": null,
       "min_height": null,
       "min_width": null,
       "object_fit": null,
       "object_position": null,
       "order": null,
       "overflow": null,
       "overflow_x": null,
       "overflow_y": null,
       "padding": null,
       "right": null,
       "top": null,
       "visibility": null,
       "width": null
      }
     },
     "58d358800b23412aa7120b9784c331b0": {
      "model_module": "@jupyter-widgets/controls",
      "model_module_version": "1.5.0",
      "model_name": "DescriptionStyleModel",
      "state": {
       "_model_module": "@jupyter-widgets/controls",
       "_model_module_version": "1.5.0",
       "_model_name": "DescriptionStyleModel",
       "_view_count": null,
       "_view_module": "@jupyter-widgets/base",
       "_view_module_version": "1.2.0",
       "_view_name": "StyleView",
       "description_width": ""
      }
     },
     "5a559b63f9ac45ed813e3ab69a410abb": {
      "model_module": "@jupyter-widgets/base",
      "model_module_version": "1.2.0",
      "model_name": "LayoutModel",
      "state": {
       "_model_module": "@jupyter-widgets/base",
       "_model_module_version": "1.2.0",
       "_model_name": "LayoutModel",
       "_view_count": null,
       "_view_module": "@jupyter-widgets/base",
       "_view_module_version": "1.2.0",
       "_view_name": "LayoutView",
       "align_content": null,
       "align_items": null,
       "align_self": null,
       "border": null,
       "bottom": null,
       "display": null,
       "flex": null,
       "flex_flow": null,
       "grid_area": null,
       "grid_auto_columns": null,
       "grid_auto_flow": null,
       "grid_auto_rows": null,
       "grid_column": null,
       "grid_gap": null,
       "grid_row": null,
       "grid_template_areas": null,
       "grid_template_columns": null,
       "grid_template_rows": null,
       "height": null,
       "justify_content": null,
       "justify_items": null,
       "left": null,
       "margin": null,
       "max_height": null,
       "max_width": null,
       "min_height": null,
       "min_width": null,
       "object_fit": null,
       "object_position": null,
       "order": null,
       "overflow": null,
       "overflow_x": null,
       "overflow_y": null,
       "padding": null,
       "right": null,
       "top": null,
       "visibility": null,
       "width": null
      }
     },
     "5f019fff6c0e47129f356ab06bd74d4f": {
      "model_module": "@jupyter-widgets/base",
      "model_module_version": "1.2.0",
      "model_name": "LayoutModel",
      "state": {
       "_model_module": "@jupyter-widgets/base",
       "_model_module_version": "1.2.0",
       "_model_name": "LayoutModel",
       "_view_count": null,
       "_view_module": "@jupyter-widgets/base",
       "_view_module_version": "1.2.0",
       "_view_name": "LayoutView",
       "align_content": null,
       "align_items": null,
       "align_self": null,
       "border": null,
       "bottom": null,
       "display": null,
       "flex": null,
       "flex_flow": null,
       "grid_area": null,
       "grid_auto_columns": null,
       "grid_auto_flow": null,
       "grid_auto_rows": null,
       "grid_column": null,
       "grid_gap": null,
       "grid_row": null,
       "grid_template_areas": null,
       "grid_template_columns": null,
       "grid_template_rows": null,
       "height": null,
       "justify_content": null,
       "justify_items": null,
       "left": null,
       "margin": null,
       "max_height": null,
       "max_width": null,
       "min_height": null,
       "min_width": null,
       "object_fit": null,
       "object_position": null,
       "order": null,
       "overflow": null,
       "overflow_x": null,
       "overflow_y": null,
       "padding": null,
       "right": null,
       "top": null,
       "visibility": null,
       "width": null
      }
     },
     "641c69856711464bac146d3ba883c921": {
      "model_module": "@jupyter-widgets/base",
      "model_module_version": "1.2.0",
      "model_name": "LayoutModel",
      "state": {
       "_model_module": "@jupyter-widgets/base",
       "_model_module_version": "1.2.0",
       "_model_name": "LayoutModel",
       "_view_count": null,
       "_view_module": "@jupyter-widgets/base",
       "_view_module_version": "1.2.0",
       "_view_name": "LayoutView",
       "align_content": null,
       "align_items": null,
       "align_self": null,
       "border": null,
       "bottom": null,
       "display": null,
       "flex": null,
       "flex_flow": null,
       "grid_area": null,
       "grid_auto_columns": null,
       "grid_auto_flow": null,
       "grid_auto_rows": null,
       "grid_column": null,
       "grid_gap": null,
       "grid_row": null,
       "grid_template_areas": null,
       "grid_template_columns": null,
       "grid_template_rows": null,
       "height": null,
       "justify_content": null,
       "justify_items": null,
       "left": null,
       "margin": null,
       "max_height": null,
       "max_width": null,
       "min_height": null,
       "min_width": null,
       "object_fit": null,
       "object_position": null,
       "order": null,
       "overflow": null,
       "overflow_x": null,
       "overflow_y": null,
       "padding": null,
       "right": null,
       "top": null,
       "visibility": null,
       "width": null
      }
     },
     "69e3d5b149d54f37821cb1d803fc5075": {
      "model_module": "@jupyter-widgets/controls",
      "model_module_version": "1.5.0",
      "model_name": "DescriptionStyleModel",
      "state": {
       "_model_module": "@jupyter-widgets/controls",
       "_model_module_version": "1.5.0",
       "_model_name": "DescriptionStyleModel",
       "_view_count": null,
       "_view_module": "@jupyter-widgets/base",
       "_view_module_version": "1.2.0",
       "_view_name": "StyleView",
       "description_width": ""
      }
     },
     "6a82f63e6e3f4cb197edb66d538bc212": {
      "model_module": "@jupyter-widgets/controls",
      "model_module_version": "1.5.0",
      "model_name": "HTMLModel",
      "state": {
       "_dom_classes": [],
       "_model_module": "@jupyter-widgets/controls",
       "_model_module_version": "1.5.0",
       "_model_name": "HTMLModel",
       "_view_count": null,
       "_view_module": "@jupyter-widgets/controls",
       "_view_module_version": "1.5.0",
       "_view_name": "HTMLView",
       "description": "",
       "description_tooltip": null,
       "layout": "IPY_MODEL_7edf7c2a634342fab1776c9a5660e04f",
       "placeholder": "​",
       "style": "IPY_MODEL_58d358800b23412aa7120b9784c331b0",
       "value": " 29.0/29.0 [00:00&lt;00:00, 2.51kB/s]"
      }
     },
     "6ff37d58bb31425c97488d07bd4c8afb": {
      "model_module": "@jupyter-widgets/controls",
      "model_module_version": "1.5.0",
      "model_name": "HTMLModel",
      "state": {
       "_dom_classes": [],
       "_model_module": "@jupyter-widgets/controls",
       "_model_module_version": "1.5.0",
       "_model_name": "HTMLModel",
       "_view_count": null,
       "_view_module": "@jupyter-widgets/controls",
       "_view_module_version": "1.5.0",
       "_view_name": "HTMLView",
       "description": "",
       "description_tooltip": null,
       "layout": "IPY_MODEL_e90a1e040d8f46e59514ac3862734dcb",
       "placeholder": "​",
       "style": "IPY_MODEL_f0742c6a4214448587b3902cd21cc566",
       "value": " 570/570 [00:00&lt;00:00, 45.7kB/s]"
      }
     },
     "735e2dcc71ec4816a52e8f9172f4f821": {
      "model_module": "@jupyter-widgets/controls",
      "model_module_version": "1.5.0",
      "model_name": "FloatProgressModel",
      "state": {
       "_dom_classes": [],
       "_model_module": "@jupyter-widgets/controls",
       "_model_module_version": "1.5.0",
       "_model_name": "FloatProgressModel",
       "_view_count": null,
       "_view_module": "@jupyter-widgets/controls",
       "_view_module_version": "1.5.0",
       "_view_name": "ProgressView",
       "bar_style": "success",
       "description": "",
       "description_tooltip": null,
       "layout": "IPY_MODEL_51f6400864384ca5a508d06c8b68b0ba",
       "max": 435755784,
       "min": 0,
       "orientation": "horizontal",
       "style": "IPY_MODEL_38765786f9be40d7928b64efa870b879",
       "value": 435755784
      }
     },
     "76acc3ef97a14e11aab160a5e96db794": {
      "model_module": "@jupyter-widgets/controls",
      "model_module_version": "1.5.0",
      "model_name": "ProgressStyleModel",
      "state": {
       "_model_module": "@jupyter-widgets/controls",
       "_model_module_version": "1.5.0",
       "_model_name": "ProgressStyleModel",
       "_view_count": null,
       "_view_module": "@jupyter-widgets/base",
       "_view_module_version": "1.2.0",
       "_view_name": "StyleView",
       "bar_color": null,
       "description_width": ""
      }
     },
     "7d74dc2b90db4505a6471fda2d7f4db3": {
      "model_module": "@jupyter-widgets/controls",
      "model_module_version": "1.5.0",
      "model_name": "DescriptionStyleModel",
      "state": {
       "_model_module": "@jupyter-widgets/controls",
       "_model_module_version": "1.5.0",
       "_model_name": "DescriptionStyleModel",
       "_view_count": null,
       "_view_module": "@jupyter-widgets/base",
       "_view_module_version": "1.2.0",
       "_view_name": "StyleView",
       "description_width": ""
      }
     },
     "7edf7c2a634342fab1776c9a5660e04f": {
      "model_module": "@jupyter-widgets/base",
      "model_module_version": "1.2.0",
      "model_name": "LayoutModel",
      "state": {
       "_model_module": "@jupyter-widgets/base",
       "_model_module_version": "1.2.0",
       "_model_name": "LayoutModel",
       "_view_count": null,
       "_view_module": "@jupyter-widgets/base",
       "_view_module_version": "1.2.0",
       "_view_name": "LayoutView",
       "align_content": null,
       "align_items": null,
       "align_self": null,
       "border": null,
       "bottom": null,
       "display": null,
       "flex": null,
       "flex_flow": null,
       "grid_area": null,
       "grid_auto_columns": null,
       "grid_auto_flow": null,
       "grid_auto_rows": null,
       "grid_column": null,
       "grid_gap": null,
       "grid_row": null,
       "grid_template_areas": null,
       "grid_template_columns": null,
       "grid_template_rows": null,
       "height": null,
       "justify_content": null,
       "justify_items": null,
       "left": null,
       "margin": null,
       "max_height": null,
       "max_width": null,
       "min_height": null,
       "min_width": null,
       "object_fit": null,
       "object_position": null,
       "order": null,
       "overflow": null,
       "overflow_x": null,
       "overflow_y": null,
       "padding": null,
       "right": null,
       "top": null,
       "visibility": null,
       "width": null
      }
     },
     "8aea961dbd2a4635bf25478e18b3bbab": {
      "model_module": "@jupyter-widgets/controls",
      "model_module_version": "1.5.0",
      "model_name": "FloatProgressModel",
      "state": {
       "_dom_classes": [],
       "_model_module": "@jupyter-widgets/controls",
       "_model_module_version": "1.5.0",
       "_model_name": "FloatProgressModel",
       "_view_count": null,
       "_view_module": "@jupyter-widgets/controls",
       "_view_module_version": "1.5.0",
       "_view_name": "ProgressView",
       "bar_style": "success",
       "description": "",
       "description_tooltip": null,
       "layout": "IPY_MODEL_5f019fff6c0e47129f356ab06bd74d4f",
       "max": 570,
       "min": 0,
       "orientation": "horizontal",
       "style": "IPY_MODEL_120ce7d3cb914993be3ab0b01923e7e7",
       "value": 570
      }
     },
     "923859fc30c444c5bc9751a6a5d33358": {
      "model_module": "@jupyter-widgets/controls",
      "model_module_version": "1.5.0",
      "model_name": "HTMLModel",
      "state": {
       "_dom_classes": [],
       "_model_module": "@jupyter-widgets/controls",
       "_model_module_version": "1.5.0",
       "_model_name": "HTMLModel",
       "_view_count": null,
       "_view_module": "@jupyter-widgets/controls",
       "_view_module_version": "1.5.0",
       "_view_name": "HTMLView",
       "description": "",
       "description_tooltip": null,
       "layout": "IPY_MODEL_52120e34b0e9478ca9093df2bd64a59b",
       "placeholder": "​",
       "style": "IPY_MODEL_289e7069ec12466a89df858d5ba804d3",
       "value": "tokenizer.json: 100%"
      }
     },
     "973886a91979456a8860274ee320c7a4": {
      "model_module": "@jupyter-widgets/controls",
      "model_module_version": "1.5.0",
      "model_name": "DescriptionStyleModel",
      "state": {
       "_model_module": "@jupyter-widgets/controls",
       "_model_module_version": "1.5.0",
       "_model_name": "DescriptionStyleModel",
       "_view_count": null,
       "_view_module": "@jupyter-widgets/base",
       "_view_module_version": "1.2.0",
       "_view_name": "StyleView",
       "description_width": ""
      }
     },
     "9c09fbe679144a76baa2583fdc81165e": {
      "model_module": "@jupyter-widgets/controls",
      "model_module_version": "1.5.0",
      "model_name": "HTMLModel",
      "state": {
       "_dom_classes": [],
       "_model_module": "@jupyter-widgets/controls",
       "_model_module_version": "1.5.0",
       "_model_name": "HTMLModel",
       "_view_count": null,
       "_view_module": "@jupyter-widgets/controls",
       "_view_module_version": "1.5.0",
       "_view_name": "HTMLView",
       "description": "",
       "description_tooltip": null,
       "layout": "IPY_MODEL_45ce98c2917d40dd93a3838797b9a675",
       "placeholder": "​",
       "style": "IPY_MODEL_131509b3b2f844cb87ed95c7ab58b5da",
       "value": "vocab.txt: 100%"
      }
     },
     "9fe4ee1dbf584ee4863a62d6a0ffad45": {
      "model_module": "@jupyter-widgets/controls",
      "model_module_version": "1.5.0",
      "model_name": "HTMLModel",
      "state": {
       "_dom_classes": [],
       "_model_module": "@jupyter-widgets/controls",
       "_model_module_version": "1.5.0",
       "_model_name": "HTMLModel",
       "_view_count": null,
       "_view_module": "@jupyter-widgets/controls",
       "_view_module_version": "1.5.0",
       "_view_name": "HTMLView",
       "description": "",
       "description_tooltip": null,
       "layout": "IPY_MODEL_2ef72c693d924152b4d2655ac8ac178a",
       "placeholder": "​",
       "style": "IPY_MODEL_cf23c250afb249d5ae789c41cef3011e",
       "value": "config.json: 100%"
      }
     },
     "a4c46adc2cea455384b552402ec906af": {
      "model_module": "@jupyter-widgets/controls",
      "model_module_version": "1.5.0",
      "model_name": "HTMLModel",
      "state": {
       "_dom_classes": [],
       "_model_module": "@jupyter-widgets/controls",
       "_model_module_version": "1.5.0",
       "_model_name": "HTMLModel",
       "_view_count": null,
       "_view_module": "@jupyter-widgets/controls",
       "_view_module_version": "1.5.0",
       "_view_name": "HTMLView",
       "description": "",
       "description_tooltip": null,
       "layout": "IPY_MODEL_b3c5b051272c4ccea5f8844ee78a2287",
       "placeholder": "​",
       "style": "IPY_MODEL_145ba00163ef40cc85a6152480f929c0",
       "value": "model.safetensors: 100%"
      }
     },
     "a6c06fafffb74fff8c6fdc04f0d0257e": {
      "model_module": "@jupyter-widgets/controls",
      "model_module_version": "1.5.0",
      "model_name": "HBoxModel",
      "state": {
       "_dom_classes": [],
       "_model_module": "@jupyter-widgets/controls",
       "_model_module_version": "1.5.0",
       "_model_name": "HBoxModel",
       "_view_count": null,
       "_view_module": "@jupyter-widgets/controls",
       "_view_module_version": "1.5.0",
       "_view_name": "HBoxView",
       "box_style": "",
       "children": [
        "IPY_MODEL_9fe4ee1dbf584ee4863a62d6a0ffad45",
        "IPY_MODEL_8aea961dbd2a4635bf25478e18b3bbab",
        "IPY_MODEL_6ff37d58bb31425c97488d07bd4c8afb"
       ],
       "layout": "IPY_MODEL_ac02173f9c774ab7bcab1c50993ece83"
      }
     },
     "ac02173f9c774ab7bcab1c50993ece83": {
      "model_module": "@jupyter-widgets/base",
      "model_module_version": "1.2.0",
      "model_name": "LayoutModel",
      "state": {
       "_model_module": "@jupyter-widgets/base",
       "_model_module_version": "1.2.0",
       "_model_name": "LayoutModel",
       "_view_count": null,
       "_view_module": "@jupyter-widgets/base",
       "_view_module_version": "1.2.0",
       "_view_name": "LayoutView",
       "align_content": null,
       "align_items": null,
       "align_self": null,
       "border": null,
       "bottom": null,
       "display": null,
       "flex": null,
       "flex_flow": null,
       "grid_area": null,
       "grid_auto_columns": null,
       "grid_auto_flow": null,
       "grid_auto_rows": null,
       "grid_column": null,
       "grid_gap": null,
       "grid_row": null,
       "grid_template_areas": null,
       "grid_template_columns": null,
       "grid_template_rows": null,
       "height": null,
       "justify_content": null,
       "justify_items": null,
       "left": null,
       "margin": null,
       "max_height": null,
       "max_width": null,
       "min_height": null,
       "min_width": null,
       "object_fit": null,
       "object_position": null,
       "order": null,
       "overflow": null,
       "overflow_x": null,
       "overflow_y": null,
       "padding": null,
       "right": null,
       "top": null,
       "visibility": null,
       "width": null
      }
     },
     "ac07801695804bffae4889275ed9aeb6": {
      "model_module": "@jupyter-widgets/controls",
      "model_module_version": "1.5.0",
      "model_name": "HBoxModel",
      "state": {
       "_dom_classes": [],
       "_model_module": "@jupyter-widgets/controls",
       "_model_module_version": "1.5.0",
       "_model_name": "HBoxModel",
       "_view_count": null,
       "_view_module": "@jupyter-widgets/controls",
       "_view_module_version": "1.5.0",
       "_view_name": "HBoxView",
       "box_style": "",
       "children": [
        "IPY_MODEL_923859fc30c444c5bc9751a6a5d33358",
        "IPY_MODEL_ef1600e928a24960aa80722faaac9273",
        "IPY_MODEL_d3249ffbdb934d89b3d08a5ba4b7bb23"
       ],
       "layout": "IPY_MODEL_4ee1f4f7e556483ebadfb6fd5068aa4d"
      }
     },
     "b3c5b051272c4ccea5f8844ee78a2287": {
      "model_module": "@jupyter-widgets/base",
      "model_module_version": "1.2.0",
      "model_name": "LayoutModel",
      "state": {
       "_model_module": "@jupyter-widgets/base",
       "_model_module_version": "1.2.0",
       "_model_name": "LayoutModel",
       "_view_count": null,
       "_view_module": "@jupyter-widgets/base",
       "_view_module_version": "1.2.0",
       "_view_name": "LayoutView",
       "align_content": null,
       "align_items": null,
       "align_self": null,
       "border": null,
       "bottom": null,
       "display": null,
       "flex": null,
       "flex_flow": null,
       "grid_area": null,
       "grid_auto_columns": null,
       "grid_auto_flow": null,
       "grid_auto_rows": null,
       "grid_column": null,
       "grid_gap": null,
       "grid_row": null,
       "grid_template_areas": null,
       "grid_template_columns": null,
       "grid_template_rows": null,
       "height": null,
       "justify_content": null,
       "justify_items": null,
       "left": null,
       "margin": null,
       "max_height": null,
       "max_width": null,
       "min_height": null,
       "min_width": null,
       "object_fit": null,
       "object_position": null,
       "order": null,
       "overflow": null,
       "overflow_x": null,
       "overflow_y": null,
       "padding": null,
       "right": null,
       "top": null,
       "visibility": null,
       "width": null
      }
     },
     "c7d2821588cb4bcfa503474070334335": {
      "model_module": "@jupyter-widgets/base",
      "model_module_version": "1.2.0",
      "model_name": "LayoutModel",
      "state": {
       "_model_module": "@jupyter-widgets/base",
       "_model_module_version": "1.2.0",
       "_model_name": "LayoutModel",
       "_view_count": null,
       "_view_module": "@jupyter-widgets/base",
       "_view_module_version": "1.2.0",
       "_view_name": "LayoutView",
       "align_content": null,
       "align_items": null,
       "align_self": null,
       "border": null,
       "bottom": null,
       "display": null,
       "flex": null,
       "flex_flow": null,
       "grid_area": null,
       "grid_auto_columns": null,
       "grid_auto_flow": null,
       "grid_auto_rows": null,
       "grid_column": null,
       "grid_gap": null,
       "grid_row": null,
       "grid_template_areas": null,
       "grid_template_columns": null,
       "grid_template_rows": null,
       "height": null,
       "justify_content": null,
       "justify_items": null,
       "left": null,
       "margin": null,
       "max_height": null,
       "max_width": null,
       "min_height": null,
       "min_width": null,
       "object_fit": null,
       "object_position": null,
       "order": null,
       "overflow": null,
       "overflow_x": null,
       "overflow_y": null,
       "padding": null,
       "right": null,
       "top": null,
       "visibility": null,
       "width": null
      }
     },
     "cf23c250afb249d5ae789c41cef3011e": {
      "model_module": "@jupyter-widgets/controls",
      "model_module_version": "1.5.0",
      "model_name": "DescriptionStyleModel",
      "state": {
       "_model_module": "@jupyter-widgets/controls",
       "_model_module_version": "1.5.0",
       "_model_name": "DescriptionStyleModel",
       "_view_count": null,
       "_view_module": "@jupyter-widgets/base",
       "_view_module_version": "1.2.0",
       "_view_name": "StyleView",
       "description_width": ""
      }
     },
     "d3249ffbdb934d89b3d08a5ba4b7bb23": {
      "model_module": "@jupyter-widgets/controls",
      "model_module_version": "1.5.0",
      "model_name": "HTMLModel",
      "state": {
       "_dom_classes": [],
       "_model_module": "@jupyter-widgets/controls",
       "_model_module_version": "1.5.0",
       "_model_name": "HTMLModel",
       "_view_count": null,
       "_view_module": "@jupyter-widgets/controls",
       "_view_module_version": "1.5.0",
       "_view_name": "HTMLView",
       "description": "",
       "description_tooltip": null,
       "layout": "IPY_MODEL_c7d2821588cb4bcfa503474070334335",
       "placeholder": "​",
       "style": "IPY_MODEL_973886a91979456a8860274ee320c7a4",
       "value": " 436k/436k [00:00&lt;00:00, 8.42MB/s]"
      }
     },
     "d349cfac884445f7b8ebc2803291af7d": {
      "model_module": "@jupyter-widgets/controls",
      "model_module_version": "1.5.0",
      "model_name": "HBoxModel",
      "state": {
       "_dom_classes": [],
       "_model_module": "@jupyter-widgets/controls",
       "_model_module_version": "1.5.0",
       "_model_name": "HBoxModel",
       "_view_count": null,
       "_view_module": "@jupyter-widgets/controls",
       "_view_module_version": "1.5.0",
       "_view_name": "HBoxView",
       "box_style": "",
       "children": [
        "IPY_MODEL_9c09fbe679144a76baa2583fdc81165e",
        "IPY_MODEL_1ea23a883bb54f87bf87cfdd4a831753",
        "IPY_MODEL_2da7e3305fe648fd95df286c7c2bd1bf"
       ],
       "layout": "IPY_MODEL_48f4349dbe514a408b7e93546f35c769"
      }
     },
     "db3f7098d2ad4991b8c8edb3a3b7aadd": {
      "model_module": "@jupyter-widgets/controls",
      "model_module_version": "1.5.0",
      "model_name": "HBoxModel",
      "state": {
       "_dom_classes": [],
       "_model_module": "@jupyter-widgets/controls",
       "_model_module_version": "1.5.0",
       "_model_name": "HBoxModel",
       "_view_count": null,
       "_view_module": "@jupyter-widgets/controls",
       "_view_module_version": "1.5.0",
       "_view_name": "HBoxView",
       "box_style": "",
       "children": [
        "IPY_MODEL_a4c46adc2cea455384b552402ec906af",
        "IPY_MODEL_735e2dcc71ec4816a52e8f9172f4f821",
        "IPY_MODEL_1832de611a10457083602ab75dc8babd"
       ],
       "layout": "IPY_MODEL_5a559b63f9ac45ed813e3ab69a410abb"
      }
     },
     "e013bc42453249e2ab011990b53968f9": {
      "model_module": "@jupyter-widgets/controls",
      "model_module_version": "1.5.0",
      "model_name": "ProgressStyleModel",
      "state": {
       "_model_module": "@jupyter-widgets/controls",
       "_model_module_version": "1.5.0",
       "_model_name": "ProgressStyleModel",
       "_view_count": null,
       "_view_module": "@jupyter-widgets/base",
       "_view_module_version": "1.2.0",
       "_view_name": "StyleView",
       "bar_color": null,
       "description_width": ""
      }
     },
     "e681241a4e7d4b659573660e4d84513c": {
      "model_module": "@jupyter-widgets/controls",
      "model_module_version": "1.5.0",
      "model_name": "DescriptionStyleModel",
      "state": {
       "_model_module": "@jupyter-widgets/controls",
       "_model_module_version": "1.5.0",
       "_model_name": "DescriptionStyleModel",
       "_view_count": null,
       "_view_module": "@jupyter-widgets/base",
       "_view_module_version": "1.2.0",
       "_view_name": "StyleView",
       "description_width": ""
      }
     },
     "e90a1e040d8f46e59514ac3862734dcb": {
      "model_module": "@jupyter-widgets/base",
      "model_module_version": "1.2.0",
      "model_name": "LayoutModel",
      "state": {
       "_model_module": "@jupyter-widgets/base",
       "_model_module_version": "1.2.0",
       "_model_name": "LayoutModel",
       "_view_count": null,
       "_view_module": "@jupyter-widgets/base",
       "_view_module_version": "1.2.0",
       "_view_name": "LayoutView",
       "align_content": null,
       "align_items": null,
       "align_self": null,
       "border": null,
       "bottom": null,
       "display": null,
       "flex": null,
       "flex_flow": null,
       "grid_area": null,
       "grid_auto_columns": null,
       "grid_auto_flow": null,
       "grid_auto_rows": null,
       "grid_column": null,
       "grid_gap": null,
       "grid_row": null,
       "grid_template_areas": null,
       "grid_template_columns": null,
       "grid_template_rows": null,
       "height": null,
       "justify_content": null,
       "justify_items": null,
       "left": null,
       "margin": null,
       "max_height": null,
       "max_width": null,
       "min_height": null,
       "min_width": null,
       "object_fit": null,
       "object_position": null,
       "order": null,
       "overflow": null,
       "overflow_x": null,
       "overflow_y": null,
       "padding": null,
       "right": null,
       "top": null,
       "visibility": null,
       "width": null
      }
     },
     "eb91792962c14fac9435af41bcc73590": {
      "model_module": "@jupyter-widgets/controls",
      "model_module_version": "1.5.0",
      "model_name": "FloatProgressModel",
      "state": {
       "_dom_classes": [],
       "_model_module": "@jupyter-widgets/controls",
       "_model_module_version": "1.5.0",
       "_model_name": "FloatProgressModel",
       "_view_count": null,
       "_view_module": "@jupyter-widgets/controls",
       "_view_module_version": "1.5.0",
       "_view_name": "ProgressView",
       "bar_style": "success",
       "description": "",
       "description_tooltip": null,
       "layout": "IPY_MODEL_284bd89f23ed45ae83cbed15a3f4c12f",
       "max": 29,
       "min": 0,
       "orientation": "horizontal",
       "style": "IPY_MODEL_76acc3ef97a14e11aab160a5e96db794",
       "value": 29
      }
     },
     "ef1600e928a24960aa80722faaac9273": {
      "model_module": "@jupyter-widgets/controls",
      "model_module_version": "1.5.0",
      "model_name": "FloatProgressModel",
      "state": {
       "_dom_classes": [],
       "_model_module": "@jupyter-widgets/controls",
       "_model_module_version": "1.5.0",
       "_model_name": "FloatProgressModel",
       "_view_count": null,
       "_view_module": "@jupyter-widgets/controls",
       "_view_module_version": "1.5.0",
       "_view_name": "ProgressView",
       "bar_style": "success",
       "description": "",
       "description_tooltip": null,
       "layout": "IPY_MODEL_641c69856711464bac146d3ba883c921",
       "max": 435797,
       "min": 0,
       "orientation": "horizontal",
       "style": "IPY_MODEL_e013bc42453249e2ab011990b53968f9",
       "value": 435797
      }
     },
     "f0742c6a4214448587b3902cd21cc566": {
      "model_module": "@jupyter-widgets/controls",
      "model_module_version": "1.5.0",
      "model_name": "DescriptionStyleModel",
      "state": {
       "_model_module": "@jupyter-widgets/controls",
       "_model_module_version": "1.5.0",
       "_model_name": "DescriptionStyleModel",
       "_view_count": null,
       "_view_module": "@jupyter-widgets/base",
       "_view_module_version": "1.2.0",
       "_view_name": "StyleView",
       "description_width": ""
      }
     },
     "f33ef35a6c2b4575b8d80de9c644fcf7": {
      "model_module": "@jupyter-widgets/controls",
      "model_module_version": "1.5.0",
      "model_name": "ProgressStyleModel",
      "state": {
       "_model_module": "@jupyter-widgets/controls",
       "_model_module_version": "1.5.0",
       "_model_name": "ProgressStyleModel",
       "_view_count": null,
       "_view_module": "@jupyter-widgets/base",
       "_view_module_version": "1.2.0",
       "_view_name": "StyleView",
       "bar_color": null,
       "description_width": ""
      }
     },
     "f652d9862707411495f5ad0839926621": {
      "model_module": "@jupyter-widgets/base",
      "model_module_version": "1.2.0",
      "model_name": "LayoutModel",
      "state": {
       "_model_module": "@jupyter-widgets/base",
       "_model_module_version": "1.2.0",
       "_model_name": "LayoutModel",
       "_view_count": null,
       "_view_module": "@jupyter-widgets/base",
       "_view_module_version": "1.2.0",
       "_view_name": "LayoutView",
       "align_content": null,
       "align_items": null,
       "align_self": null,
       "border": null,
       "bottom": null,
       "display": null,
       "flex": null,
       "flex_flow": null,
       "grid_area": null,
       "grid_auto_columns": null,
       "grid_auto_flow": null,
       "grid_auto_rows": null,
       "grid_column": null,
       "grid_gap": null,
       "grid_row": null,
       "grid_template_areas": null,
       "grid_template_columns": null,
       "grid_template_rows": null,
       "height": null,
       "justify_content": null,
       "justify_items": null,
       "left": null,
       "margin": null,
       "max_height": null,
       "max_width": null,
       "min_height": null,
       "min_width": null,
       "object_fit": null,
       "object_position": null,
       "order": null,
       "overflow": null,
       "overflow_x": null,
       "overflow_y": null,
       "padding": null,
       "right": null,
       "top": null,
       "visibility": null,
       "width": null
      }
     }
    },
    "version_major": 2,
    "version_minor": 0
   }
  }
 },
 "nbformat": 4,
 "nbformat_minor": 5
}
