{
 "cells": [
  {
   "cell_type": "markdown",
   "id": "4cd0b85d-8467-4b36-bbda-513ec1731545",
   "metadata": {},
   "source": [
    "# Import required packages"
   ]
  },
  {
   "cell_type": "code",
   "execution_count": 2,
   "id": "4a44f175-993a-4249-ab15-b87d2b8c31d0",
   "metadata": {},
   "outputs": [],
   "source": [
    "from datasets import Dataset\n",
    "import pandas as pd\n",
    "import numpy as np\n",
    "from transformers import AutoModelForSequenceClassification, TrainingArguments, Trainer, DataCollatorWithPadding, AutoTokenizer, set_seed\n",
    "import os\n",
    "from sklearn.model_selection import train_test_split\n",
    "from scipy.special import softmax\n",
    "import argparse\n",
    "import logging\n",
    "import sklearn\n",
    "from sklearn.metrics import f1_score\n",
    "from transformers import  BertForSequenceClassification\n",
    "from datasets import  load_metric\n",
    "from sklearn.metrics import classification_report\n",
    "import torch\n",
    "import random\n",
    "torch.cuda.empty_cache()\n",
    "import matplotlib.pyplot as plt\n",
    "##Set random values\n",
    "seed_val = 42\n",
    "random.seed(seed_val)\n",
    "np.random.seed(seed_val)\n",
    "torch.manual_seed(seed_val)\n",
    "if torch.cuda.is_available():\n",
    "  torch.cuda.manual_seed_all(seed_val)"
   ]
  },
  {
   "cell_type": "markdown",
   "id": "4091cd6a-d88a-4136-b6e5-8fd90efe7309",
   "metadata": {},
   "source": [
    "# GPU or CPU"
   ]
  },
  {
   "cell_type": "code",
   "execution_count": 2,
   "id": "c7028f91-7546-4650-b8ed-f07c04dc3b22",
   "metadata": {},
   "outputs": [
    {
     "name": "stdout",
     "output_type": "stream",
     "text": [
      "There are 1 GPU(s) available.\n",
      "We will use the GPU: NVIDIA GeForce RTX 3070 Laptop GPU\n"
     ]
    }
   ],
   "source": [
    "# If there's a GPU available...\n",
    "if torch.cuda.is_available():    \n",
    "    # Tell PyTorch to use the GPU.    \n",
    "    device = torch.device(\"cuda\")\n",
    "    print('There are %d GPU(s) available.' % torch.cuda.device_count())\n",
    "    print('We will use the GPU:', torch.cuda.get_device_name(0))\n",
    "# If not...\n",
    "else:\n",
    "    print('No GPU available, using the CPU instead.')\n",
    "    device = torch.device(\"cpu\")"
   ]
  },
  {
   "cell_type": "markdown",
   "id": "10d9e48e-61ba-4e88-baf0-b43552e174e9",
   "metadata": {},
   "source": [
    "# Datasets"
   ]
  },
  {
   "cell_type": "code",
   "execution_count": 3,
   "id": "fe6f595b-c55c-4724-8c94-5661f9fc974f",
   "metadata": {},
   "outputs": [],
   "source": [
    "train_df = pd.read_json(\"E:/subtaskB_train.jsonl\", lines=True)\n",
    "test_df = pd.read_json(\"E:/subtaskB_dev.jsonl\", lines=True)\n",
    "train_df, val_df = train_test_split(train_df, test_size=0.2, stratify=train_df['label'], random_state=42) # %80 train, %20 validation\n",
    "id2label = {0: 'human', 1: 'chatGPT', 2: 'cohere', 3: 'davinci', 4: 'bloomz', 5: 'dolly'}\n",
    "label2id = {'human': 0, 'chatGPT': 1,'cohere': 2, 'davinci': 3, 'bloomz': 4, 'dolly': 5}"
   ]
  },
  {
   "cell_type": "code",
   "execution_count": 4,
   "id": "eb55581b-5f8b-4205-852c-bd3429e46ae1",
   "metadata": {},
   "outputs": [
    {
     "data": {
      "text/html": [
       "<div>\n",
       "<style scoped>\n",
       "    .dataframe tbody tr th:only-of-type {\n",
       "        vertical-align: middle;\n",
       "    }\n",
       "\n",
       "    .dataframe tbody tr th {\n",
       "        vertical-align: top;\n",
       "    }\n",
       "\n",
       "    .dataframe thead th {\n",
       "        text-align: right;\n",
       "    }\n",
       "</style>\n",
       "<table border=\"1\" class=\"dataframe\">\n",
       "  <thead>\n",
       "    <tr style=\"text-align: right;\">\n",
       "      <th></th>\n",
       "      <th>text</th>\n",
       "      <th>model</th>\n",
       "      <th>source</th>\n",
       "      <th>label</th>\n",
       "      <th>id</th>\n",
       "    </tr>\n",
       "  </thead>\n",
       "  <tbody>\n",
       "    <tr>\n",
       "      <th>63795</th>\n",
       "      <td>We report on observations made with the Spitze...</td>\n",
       "      <td>bloomz</td>\n",
       "      <td>arxiv</td>\n",
       "      <td>4</td>\n",
       "      <td>63795</td>\n",
       "    </tr>\n",
       "    <tr>\n",
       "      <th>52761</th>\n",
       "      <td>The concept of dynamical 3-space is introduced...</td>\n",
       "      <td>bloomz</td>\n",
       "      <td>arxiv</td>\n",
       "      <td>4</td>\n",
       "      <td>52761</td>\n",
       "    </tr>\n",
       "    <tr>\n",
       "      <th>17690</th>\n",
       "      <td>The European Association for Digital Humaniti...</td>\n",
       "      <td>davinci</td>\n",
       "      <td>wikipedia</td>\n",
       "      <td>3</td>\n",
       "      <td>17690</td>\n",
       "    </tr>\n",
       "    <tr>\n",
       "      <th>38189</th>\n",
       "      <td>We study theoretically the emission and absorp...</td>\n",
       "      <td>bloomz</td>\n",
       "      <td>arxiv</td>\n",
       "      <td>4</td>\n",
       "      <td>38189</td>\n",
       "    </tr>\n",
       "    <tr>\n",
       "      <th>18742</th>\n",
       "      <td>Stranger in the City, also known as S.I.T.C, ...</td>\n",
       "      <td>davinci</td>\n",
       "      <td>wikipedia</td>\n",
       "      <td>3</td>\n",
       "      <td>18742</td>\n",
       "    </tr>\n",
       "    <tr>\n",
       "      <th>...</th>\n",
       "      <td>...</td>\n",
       "      <td>...</td>\n",
       "      <td>...</td>\n",
       "      <td>...</td>\n",
       "      <td>...</td>\n",
       "    </tr>\n",
       "    <tr>\n",
       "      <th>31671</th>\n",
       "      <td>The chiral condensate is an important order pa...</td>\n",
       "      <td>dolly</td>\n",
       "      <td>arxiv</td>\n",
       "      <td>5</td>\n",
       "      <td>31671</td>\n",
       "    </tr>\n",
       "    <tr>\n",
       "      <th>29500</th>\n",
       "      <td>Yes, mercenaries in the Middle Ages carried ba...</td>\n",
       "      <td>davinci</td>\n",
       "      <td>reddit</td>\n",
       "      <td>3</td>\n",
       "      <td>29500</td>\n",
       "    </tr>\n",
       "    <tr>\n",
       "      <th>25898</th>\n",
       "      <td>Well, that's an interesting question. Prester ...</td>\n",
       "      <td>chatGPT</td>\n",
       "      <td>reddit</td>\n",
       "      <td>1</td>\n",
       "      <td>25898</td>\n",
       "    </tr>\n",
       "    <tr>\n",
       "      <th>66736</th>\n",
       "      <td>Spend your time wisely. Stop comparing yoursel...</td>\n",
       "      <td>dolly</td>\n",
       "      <td>wikihow</td>\n",
       "      <td>5</td>\n",
       "      <td>66736</td>\n",
       "    </tr>\n",
       "    <tr>\n",
       "      <th>13891</th>\n",
       "      <td>Laboa (Basque pronunciation:[laβoβa]) is the n...</td>\n",
       "      <td>bloomz</td>\n",
       "      <td>wikipedia</td>\n",
       "      <td>4</td>\n",
       "      <td>13891</td>\n",
       "    </tr>\n",
       "  </tbody>\n",
       "</table>\n",
       "<p>56821 rows × 5 columns</p>\n",
       "</div>"
      ],
      "text/plain": [
       "                                                    text    model     source  \\\n",
       "63795  We report on observations made with the Spitze...   bloomz      arxiv   \n",
       "52761  The concept of dynamical 3-space is introduced...   bloomz      arxiv   \n",
       "17690   The European Association for Digital Humaniti...  davinci  wikipedia   \n",
       "38189  We study theoretically the emission and absorp...   bloomz      arxiv   \n",
       "18742   Stranger in the City, also known as S.I.T.C, ...  davinci  wikipedia   \n",
       "...                                                  ...      ...        ...   \n",
       "31671  The chiral condensate is an important order pa...    dolly      arxiv   \n",
       "29500  Yes, mercenaries in the Middle Ages carried ba...  davinci     reddit   \n",
       "25898  Well, that's an interesting question. Prester ...  chatGPT     reddit   \n",
       "66736  Spend your time wisely. Stop comparing yoursel...    dolly    wikihow   \n",
       "13891  Laboa (Basque pronunciation:[laβoβa]) is the n...   bloomz  wikipedia   \n",
       "\n",
       "       label     id  \n",
       "63795      4  63795  \n",
       "52761      4  52761  \n",
       "17690      3  17690  \n",
       "38189      4  38189  \n",
       "18742      3  18742  \n",
       "...      ...    ...  \n",
       "31671      5  31671  \n",
       "29500      3  29500  \n",
       "25898      1  25898  \n",
       "66736      5  66736  \n",
       "13891      4  13891  \n",
       "\n",
       "[56821 rows x 5 columns]"
      ]
     },
     "execution_count": 4,
     "metadata": {},
     "output_type": "execute_result"
    }
   ],
   "source": [
    "train_df"
   ]
  },
  {
   "cell_type": "code",
   "execution_count": 5,
   "id": "70c3c884-34c0-44ef-a928-b0447c8b7f51",
   "metadata": {},
   "outputs": [
    {
     "data": {
      "text/html": [
       "<div>\n",
       "<style scoped>\n",
       "    .dataframe tbody tr th:only-of-type {\n",
       "        vertical-align: middle;\n",
       "    }\n",
       "\n",
       "    .dataframe tbody tr th {\n",
       "        vertical-align: top;\n",
       "    }\n",
       "\n",
       "    .dataframe thead th {\n",
       "        text-align: right;\n",
       "    }\n",
       "</style>\n",
       "<table border=\"1\" class=\"dataframe\">\n",
       "  <thead>\n",
       "    <tr style=\"text-align: right;\">\n",
       "      <th></th>\n",
       "      <th>text</th>\n",
       "      <th>model</th>\n",
       "      <th>source</th>\n",
       "      <th>label</th>\n",
       "      <th>id</th>\n",
       "    </tr>\n",
       "  </thead>\n",
       "  <tbody>\n",
       "    <tr>\n",
       "      <th>0</th>\n",
       "      <td>Overall, I found the paper \"Machine Comprehens...</td>\n",
       "      <td>chatGPT</td>\n",
       "      <td>peerread</td>\n",
       "      <td>1</td>\n",
       "      <td>1844</td>\n",
       "    </tr>\n",
       "    <tr>\n",
       "      <th>1</th>\n",
       "      <td>This paper \"Machine Comprehension Using Match-...</td>\n",
       "      <td>chatGPT</td>\n",
       "      <td>peerread</td>\n",
       "      <td>1</td>\n",
       "      <td>1845</td>\n",
       "    </tr>\n",
       "    <tr>\n",
       "      <th>2</th>\n",
       "      <td>The paper presents an end-to-end neural archit...</td>\n",
       "      <td>chatGPT</td>\n",
       "      <td>peerread</td>\n",
       "      <td>1</td>\n",
       "      <td>1846</td>\n",
       "    </tr>\n",
       "    <tr>\n",
       "      <th>3</th>\n",
       "      <td>This paper proposes an end-to-end neural archi...</td>\n",
       "      <td>chatGPT</td>\n",
       "      <td>peerread</td>\n",
       "      <td>1</td>\n",
       "      <td>1847</td>\n",
       "    </tr>\n",
       "    <tr>\n",
       "      <th>4</th>\n",
       "      <td>Title: Incorporating long-range consistency in...</td>\n",
       "      <td>chatGPT</td>\n",
       "      <td>peerread</td>\n",
       "      <td>1</td>\n",
       "      <td>1848</td>\n",
       "    </tr>\n",
       "    <tr>\n",
       "      <th>...</th>\n",
       "      <td>...</td>\n",
       "      <td>...</td>\n",
       "      <td>...</td>\n",
       "      <td>...</td>\n",
       "      <td>...</td>\n",
       "    </tr>\n",
       "    <tr>\n",
       "      <th>2995</th>\n",
       "      <td>The paper Energy-Based Spherical Sparse Coding...</td>\n",
       "      <td>dolly</td>\n",
       "      <td>peerread</td>\n",
       "      <td>5</td>\n",
       "      <td>14560</td>\n",
       "    </tr>\n",
       "    <tr>\n",
       "      <th>2996</th>\n",
       "      <td>Dear Author, I have reviewed your submitted pa...</td>\n",
       "      <td>dolly</td>\n",
       "      <td>peerread</td>\n",
       "      <td>5</td>\n",
       "      <td>14561</td>\n",
       "    </tr>\n",
       "    <tr>\n",
       "      <th>2997</th>\n",
       "      <td>Denoising Auto-Encoders (DAE) have been used i...</td>\n",
       "      <td>dolly</td>\n",
       "      <td>peerread</td>\n",
       "      <td>5</td>\n",
       "      <td>14562</td>\n",
       "    </tr>\n",
       "    <tr>\n",
       "      <th>2998</th>\n",
       "      <td>The paper Revisiting Denoising Auto-Encoders, ...</td>\n",
       "      <td>dolly</td>\n",
       "      <td>peerread</td>\n",
       "      <td>5</td>\n",
       "      <td>14563</td>\n",
       "    </tr>\n",
       "    <tr>\n",
       "      <th>2999</th>\n",
       "      <td>This paper Revisiting Denoising Auto-Encoders ...</td>\n",
       "      <td>dolly</td>\n",
       "      <td>peerread</td>\n",
       "      <td>5</td>\n",
       "      <td>14564</td>\n",
       "    </tr>\n",
       "  </tbody>\n",
       "</table>\n",
       "<p>3000 rows × 5 columns</p>\n",
       "</div>"
      ],
      "text/plain": [
       "                                                   text    model    source  \\\n",
       "0     Overall, I found the paper \"Machine Comprehens...  chatGPT  peerread   \n",
       "1     This paper \"Machine Comprehension Using Match-...  chatGPT  peerread   \n",
       "2     The paper presents an end-to-end neural archit...  chatGPT  peerread   \n",
       "3     This paper proposes an end-to-end neural archi...  chatGPT  peerread   \n",
       "4     Title: Incorporating long-range consistency in...  chatGPT  peerread   \n",
       "...                                                 ...      ...       ...   \n",
       "2995  The paper Energy-Based Spherical Sparse Coding...    dolly  peerread   \n",
       "2996  Dear Author, I have reviewed your submitted pa...    dolly  peerread   \n",
       "2997  Denoising Auto-Encoders (DAE) have been used i...    dolly  peerread   \n",
       "2998  The paper Revisiting Denoising Auto-Encoders, ...    dolly  peerread   \n",
       "2999  This paper Revisiting Denoising Auto-Encoders ...    dolly  peerread   \n",
       "\n",
       "      label     id  \n",
       "0         1   1844  \n",
       "1         1   1845  \n",
       "2         1   1846  \n",
       "3         1   1847  \n",
       "4         1   1848  \n",
       "...     ...    ...  \n",
       "2995      5  14560  \n",
       "2996      5  14561  \n",
       "2997      5  14562  \n",
       "2998      5  14563  \n",
       "2999      5  14564  \n",
       "\n",
       "[3000 rows x 5 columns]"
      ]
     },
     "execution_count": 5,
     "metadata": {},
     "output_type": "execute_result"
    }
   ],
   "source": [
    "test_df"
   ]
  },
  {
   "cell_type": "code",
   "execution_count": 6,
   "id": "ff68d53d-2449-45df-98ff-0369960a9336",
   "metadata": {},
   "outputs": [
    {
     "data": {
      "text/html": [
       "<div>\n",
       "<style scoped>\n",
       "    .dataframe tbody tr th:only-of-type {\n",
       "        vertical-align: middle;\n",
       "    }\n",
       "\n",
       "    .dataframe tbody tr th {\n",
       "        vertical-align: top;\n",
       "    }\n",
       "\n",
       "    .dataframe thead th {\n",
       "        text-align: right;\n",
       "    }\n",
       "</style>\n",
       "<table border=\"1\" class=\"dataframe\">\n",
       "  <thead>\n",
       "    <tr style=\"text-align: right;\">\n",
       "      <th></th>\n",
       "      <th>text</th>\n",
       "      <th>model</th>\n",
       "      <th>source</th>\n",
       "      <th>label</th>\n",
       "      <th>id</th>\n",
       "    </tr>\n",
       "  </thead>\n",
       "  <tbody>\n",
       "    <tr>\n",
       "      <th>30773</th>\n",
       "      <td>It is really cool that there is no sound in a ...</td>\n",
       "      <td>davinci</td>\n",
       "      <td>reddit</td>\n",
       "      <td>3</td>\n",
       "      <td>30773</td>\n",
       "    </tr>\n",
       "    <tr>\n",
       "      <th>55574</th>\n",
       "      <td>\\n\\nChanging the water pump on a 2.0L, 4 Cylin...</td>\n",
       "      <td>davinci</td>\n",
       "      <td>wikihow</td>\n",
       "      <td>3</td>\n",
       "      <td>55574</td>\n",
       "    </tr>\n",
       "    <tr>\n",
       "      <th>39797</th>\n",
       "      <td>In our work titled \"Random Access Broadcast: S...</td>\n",
       "      <td>chatGPT</td>\n",
       "      <td>arxiv</td>\n",
       "      <td>1</td>\n",
       "      <td>39797</td>\n",
       "    </tr>\n",
       "    <tr>\n",
       "      <th>40784</th>\n",
       "      <td>In this work, we propose a scheme for continuo...</td>\n",
       "      <td>chatGPT</td>\n",
       "      <td>arxiv</td>\n",
       "      <td>1</td>\n",
       "      <td>40784</td>\n",
       "    </tr>\n",
       "    <tr>\n",
       "      <th>58487</th>\n",
       "      <td>Eeva-Kaarina Aronen (born July 6, 1961) is a F...</td>\n",
       "      <td>chatGPT</td>\n",
       "      <td>wikipedia</td>\n",
       "      <td>1</td>\n",
       "      <td>58487</td>\n",
       "    </tr>\n",
       "    <tr>\n",
       "      <th>...</th>\n",
       "      <td>...</td>\n",
       "      <td>...</td>\n",
       "      <td>...</td>\n",
       "      <td>...</td>\n",
       "      <td>...</td>\n",
       "    </tr>\n",
       "    <tr>\n",
       "      <th>14116</th>\n",
       "      <td>The X.28 was the first British jet aircraft to...</td>\n",
       "      <td>bloomz</td>\n",
       "      <td>wikipedia</td>\n",
       "      <td>4</td>\n",
       "      <td>14116</td>\n",
       "    </tr>\n",
       "    <tr>\n",
       "      <th>20596</th>\n",
       "      <td>The Crips is an alliance of street gangs which...</td>\n",
       "      <td>human</td>\n",
       "      <td>wikipedia</td>\n",
       "      <td>0</td>\n",
       "      <td>20596</td>\n",
       "    </tr>\n",
       "    <tr>\n",
       "      <th>54832</th>\n",
       "      <td>As with any illness, the more time you can gi...</td>\n",
       "      <td>human</td>\n",
       "      <td>wikihow</td>\n",
       "      <td>0</td>\n",
       "      <td>54832</td>\n",
       "    </tr>\n",
       "    <tr>\n",
       "      <th>13223</th>\n",
       "      <td>Nimbarkas are followers of the Nimbārka school...</td>\n",
       "      <td>bloomz</td>\n",
       "      <td>wikipedia</td>\n",
       "      <td>4</td>\n",
       "      <td>13223</td>\n",
       "    </tr>\n",
       "    <tr>\n",
       "      <th>67579</th>\n",
       "      <td>How to Tip Tips are passed along to service pr...</td>\n",
       "      <td>dolly</td>\n",
       "      <td>wikihow</td>\n",
       "      <td>5</td>\n",
       "      <td>67579</td>\n",
       "    </tr>\n",
       "  </tbody>\n",
       "</table>\n",
       "<p>14206 rows × 5 columns</p>\n",
       "</div>"
      ],
      "text/plain": [
       "                                                    text    model     source  \\\n",
       "30773  It is really cool that there is no sound in a ...  davinci     reddit   \n",
       "55574  \\n\\nChanging the water pump on a 2.0L, 4 Cylin...  davinci    wikihow   \n",
       "39797  In our work titled \"Random Access Broadcast: S...  chatGPT      arxiv   \n",
       "40784  In this work, we propose a scheme for continuo...  chatGPT      arxiv   \n",
       "58487  Eeva-Kaarina Aronen (born July 6, 1961) is a F...  chatGPT  wikipedia   \n",
       "...                                                  ...      ...        ...   \n",
       "14116  The X.28 was the first British jet aircraft to...   bloomz  wikipedia   \n",
       "20596  The Crips is an alliance of street gangs which...    human  wikipedia   \n",
       "54832   As with any illness, the more time you can gi...    human    wikihow   \n",
       "13223  Nimbarkas are followers of the Nimbārka school...   bloomz  wikipedia   \n",
       "67579  How to Tip Tips are passed along to service pr...    dolly    wikihow   \n",
       "\n",
       "       label     id  \n",
       "30773      3  30773  \n",
       "55574      3  55574  \n",
       "39797      1  39797  \n",
       "40784      1  40784  \n",
       "58487      1  58487  \n",
       "...      ...    ...  \n",
       "14116      4  14116  \n",
       "20596      0  20596  \n",
       "54832      0  54832  \n",
       "13223      4  13223  \n",
       "67579      5  67579  \n",
       "\n",
       "[14206 rows x 5 columns]"
      ]
     },
     "execution_count": 6,
     "metadata": {},
     "output_type": "execute_result"
    }
   ],
   "source": [
    "val_df"
   ]
  },
  {
   "cell_type": "markdown",
   "id": "227d5a54-e963-4ce7-b07a-9bc5f4aa6ecb",
   "metadata": {},
   "source": [
    "# Functions"
   ]
  },
  {
   "cell_type": "code",
   "execution_count": 7,
   "id": "949ec26d-5f22-4cfb-af63-7f3f02c461f2",
   "metadata": {},
   "outputs": [],
   "source": [
    "def preprocess_function(examples, tokenizer):\n",
    "    return tokenizer(examples[\"text\"], truncation=True)"
   ]
  },
  {
   "cell_type": "code",
   "execution_count": 8,
   "id": "bf1ca398-b07e-46c1-80b3-3fa30a35c68f",
   "metadata": {},
   "outputs": [],
   "source": [
    "def compute_metrics(eval_pred):\n",
    "    predictions, labels = eval_pred\n",
    "    predictions = np.argmax(predictions, axis=1)\n",
    "    # Compute F1 score\n",
    "    f1_micro = sklearn.metrics.f1_score(labels, predictions, average='micro')\n",
    "    results = {'f1_micro': f1_micro}    \n",
    "    return results"
   ]
  },
  {
   "cell_type": "code",
   "execution_count": 9,
   "id": "ecc4eaf3-39ec-4256-a1c0-5585423336ff",
   "metadata": {},
   "outputs": [],
   "source": [
    "def fine_tune(train_df, valid_df, checkpoints_path, id2label, label2id, max_steps=100):\n",
    "    # pandas dataframe to huggingface Dataset\n",
    "    train_dataset = Dataset.from_pandas(train_df)\n",
    "    valid_dataset = Dataset.from_pandas(valid_df)  \n",
    "    # Initialize tokenizer and model from huggingface\n",
    "    model_name = \"bert-base-uncased\"  \n",
    "    tokenizer = AutoTokenizer.from_pretrained(model_name)\n",
    "    model = BertForSequenceClassification.from_pretrained(\n",
    "        model_name, num_labels=len(label2id), id2label=id2label, label2id=label2id\n",
    "    )  \n",
    "    # Tokenize data for train/valid\n",
    "    tokenized_train_dataset = train_dataset.map(lambda examples: preprocess_function(examples, tokenizer), batched=True)\n",
    "    tokenized_valid_dataset = valid_dataset.map(lambda examples: preprocess_function(examples, tokenizer), batched=True)  \n",
    "    data_collator = DataCollatorWithPadding(tokenizer=tokenizer)\n",
    "    # Create Trainer \n",
    "    training_args = TrainingArguments(\n",
    "        output_dir=checkpoints_path,\n",
    "        learning_rate=2e-5,\n",
    "        per_device_train_batch_size=16,\n",
    "        per_device_eval_batch_size=16,\n",
    "        num_train_epochs=1,\n",
    "        weight_decay=0.01,\n",
    "        evaluation_strategy=\"epoch\",\n",
    "        save_strategy=\"epoch\",\n",
    "        load_best_model_at_end=True,\n",
    "        max_steps=max_steps,  # Set the maximum number of training steps\n",
    "    )\n",
    "    trainer = Trainer(\n",
    "        model=model,\n",
    "        args=training_args,\n",
    "        train_dataset=tokenized_train_dataset,\n",
    "        eval_dataset=tokenized_valid_dataset,\n",
    "        tokenizer=tokenizer,\n",
    "        data_collator=data_collator,\n",
    "        compute_metrics=compute_metrics,\n",
    "    )\n",
    "    trainer.train()\n",
    "    # Save best model\n",
    "    best_model_path = os.path.join(checkpoints_path, 'best')   \n",
    "    if not os.path.exists(best_model_path):\n",
    "        os.makedirs(best_model_path)   \n",
    "    trainer.save_model(best_model_path)"
   ]
  },
  {
   "cell_type": "code",
   "execution_count": 10,
   "id": "51ed7b3f-7736-4e2e-9d74-108f91b093f7",
   "metadata": {},
   "outputs": [],
   "source": [
    "def test(test_df, model_path, id2label, label2id):    \n",
    "    # Load tokenizer from the saved model \n",
    "    tokenizer = AutoTokenizer.from_pretrained(model_path)\n",
    "    # Load the best model\n",
    "    model = BertForSequenceClassification.from_pretrained(\n",
    "        model_path, num_labels=len(label2id), id2label=id2label, label2id=label2id\n",
    "    )            \n",
    "    test_dataset = Dataset.from_pandas(test_df)\n",
    "    tokenized_test_dataset = test_dataset.map(lambda examples: preprocess_function(examples, tokenizer), batched=True)\n",
    "    data_collator = DataCollatorWithPadding(tokenizer=tokenizer)\n",
    "    # Create Trainer\n",
    "    trainer = Trainer(\n",
    "        model=model,\n",
    "        tokenizer=tokenizer,\n",
    "        data_collator=data_collator,\n",
    "        compute_metrics=compute_metrics,\n",
    "    )\n",
    "    # Get logits from predictions\n",
    "    predictions = trainer.predict(tokenized_test_dataset)\n",
    "    prob_pred = softmax(predictions.predictions, axis=-1)\n",
    "    preds = np.argmax(predictions.predictions, axis=-1)\n",
    "    # Compute classification report\n",
    "    target_names = [id2label[i] for i in range(len(id2label))]\n",
    "    report = classification_report(predictions.label_ids, preds, target_names=target_names, output_dict=True, zero_division=1)\n",
    "    # Return classification report\n",
    "    return report, preds"
   ]
  },
  {
   "cell_type": "markdown",
   "id": "9d3602ed-ad37-4fb0-82fc-010992093e1c",
   "metadata": {},
   "source": [
    "# Train(only 1 epoch using max_steps = 100, GPU Ultimate mode)"
   ]
  },
  {
   "cell_type": "code",
   "execution_count": 11,
   "id": "3da7046c-bba4-40d6-a457-5d7b12def8e7",
   "metadata": {},
   "outputs": [
    {
     "name": "stderr",
     "output_type": "stream",
     "text": [
      "Some weights of BertForSequenceClassification were not initialized from the model checkpoint at bert-base-uncased and are newly initialized: ['classifier.weight', 'classifier.bias']\n",
      "You should probably TRAIN this model on a down-stream task to be able to use it for predictions and inference.\n"
     ]
    },
    {
     "data": {
      "application/vnd.jupyter.widget-view+json": {
       "model_id": "",
       "version_major": 2,
       "version_minor": 0
      },
      "text/plain": [
       "Map:   0%|          | 0/56821 [00:00<?, ? examples/s]"
      ]
     },
     "metadata": {},
     "output_type": "display_data"
    },
    {
     "data": {
      "application/vnd.jupyter.widget-view+json": {
       "model_id": "",
       "version_major": 2,
       "version_minor": 0
      },
      "text/plain": [
       "Map:   0%|          | 0/14206 [00:00<?, ? examples/s]"
      ]
     },
     "metadata": {},
     "output_type": "display_data"
    },
    {
     "name": "stderr",
     "output_type": "stream",
     "text": [
      "You're using a BertTokenizerFast tokenizer. Please note that with a fast tokenizer, using the `__call__` method is faster than using a method to encode the text followed by a call to the `pad` method to get a padded encoding.\n"
     ]
    },
    {
     "data": {
      "text/html": [
       "\n",
       "    <div>\n",
       "      \n",
       "      <progress value='100' max='100' style='width:300px; height:20px; vertical-align: middle;'></progress>\n",
       "      [100/100 24:10, Epoch 0/1]\n",
       "    </div>\n",
       "    <table border=\"1\" class=\"dataframe\">\n",
       "  <thead>\n",
       " <tr style=\"text-align: left;\">\n",
       "      <th>Epoch</th>\n",
       "      <th>Training Loss</th>\n",
       "      <th>Validation Loss</th>\n",
       "      <th>F1 Micro</th>\n",
       "    </tr>\n",
       "  </thead>\n",
       "  <tbody>\n",
       "    <tr>\n",
       "      <td>0</td>\n",
       "      <td>No log</td>\n",
       "      <td>1.480283</td>\n",
       "      <td>0.437632</td>\n",
       "    </tr>\n",
       "  </tbody>\n",
       "</table><p>"
      ],
      "text/plain": [
       "<IPython.core.display.HTML object>"
      ]
     },
     "metadata": {},
     "output_type": "display_data"
    }
   ],
   "source": [
    " fine_tune(train_df, val_df, f\"model\", id2label, label2id)"
   ]
  },
  {
   "cell_type": "markdown",
   "id": "3029dd42-aed9-4259-847b-7c7483d4a364",
   "metadata": {},
   "source": [
    "# Test"
   ]
  },
  {
   "cell_type": "code",
   "execution_count": 12,
   "id": "ccb8ad78-4ca3-4a8d-94de-d2cf3048ac6a",
   "metadata": {},
   "outputs": [
    {
     "data": {
      "application/vnd.jupyter.widget-view+json": {
       "model_id": "",
       "version_major": 2,
       "version_minor": 0
      },
      "text/plain": [
       "Map:   0%|          | 0/3000 [00:00<?, ? examples/s]"
      ]
     },
     "metadata": {},
     "output_type": "display_data"
    },
    {
     "name": "stderr",
     "output_type": "stream",
     "text": [
      "You're using a BertTokenizerFast tokenizer. Please note that with a fast tokenizer, using the `__call__` method is faster than using a method to encode the text followed by a call to the `pad` method to get a padded encoding.\n"
     ]
    },
    {
     "data": {
      "text/html": [],
      "text/plain": [
       "<IPython.core.display.HTML object>"
      ]
     },
     "metadata": {},
     "output_type": "display_data"
    }
   ],
   "source": [
    "# test detector model\n",
    "results, predictions = test(test_df, f\"model/best/\", id2label, label2id)"
   ]
  },
  {
   "cell_type": "markdown",
   "id": "ef8ddd98-c626-4e20-9ecf-50c8743ba66d",
   "metadata": {},
   "source": [
    "# Results"
   ]
  },
  {
   "cell_type": "code",
   "execution_count": 13,
   "id": "18295cfc-5e08-4fae-b397-9e544fb2e819",
   "metadata": {},
   "outputs": [
    {
     "name": "stdout",
     "output_type": "stream",
     "text": [
      "human: {'precision': 0.6927374301675978, 'recall': 0.248, 'f1-score': 0.3652430044182622, 'support': 500}\n",
      "chatGPT: {'precision': 0.3268398268398268, 'recall': 0.604, 'f1-score': 0.4241573033707865, 'support': 500}\n",
      "cohere: {'precision': 0.2512363996043521, 'recall': 0.508, 'f1-score': 0.33620119126406356, 'support': 500}\n",
      "davinci: {'precision': 0.0, 'recall': 0.0, 'f1-score': 0.0, 'support': 500}\n",
      "bloomz: {'precision': 0.639686684073107, 'recall': 0.98, 'f1-score': 0.7740916271721958, 'support': 500}\n",
      "dolly: {'precision': 0.3577981651376147, 'recall': 0.078, 'f1-score': 0.12807881773399016, 'support': 500}\n",
      "accuracy: 0.403\n",
      "macro avg: {'precision': 0.3780497509704164, 'recall': 0.40299999999999997, 'f1-score': 0.337961990659883, 'support': 3000}\n",
      "weighted avg: {'precision': 0.37804975097041643, 'recall': 0.403, 'f1-score': 0.33796199065988297, 'support': 3000}\n"
     ]
    }
   ],
   "source": [
    "# Log the results\n",
    "for key, value in results.items():\n",
    "    logging.info(f\"{key}: {value}\")\n",
    "# Create DataFrame with predictions\n",
    "predictions_df = pd.DataFrame({'id': test_df['id'], 'label': predictions})\n",
    "# Save predictions to JSON\n",
    "predictions_df.to_json(\"E:/subtaskB_predictions.jsonl\", lines=True, orient='records')\n",
    "# Print the results\n",
    "for key, value in results.items():\n",
    "    print(f\"{key}: {value}\")"
   ]
  },
  {
   "cell_type": "markdown",
   "id": "59897fa1-d535-448e-9fe4-1c98520e444e",
   "metadata": {},
   "source": [
    "# Plot Results"
   ]
  },
  {
   "cell_type": "code",
   "execution_count": 3,
   "id": "7c8fc072-0d49-4688-9623-7bf9250e834f",
   "metadata": {},
   "outputs": [
    {
     "data": {
      "image/png": "[encoded data removed]",
      "text/plain": [
       "<Figure size 1000x600 with 1 Axes>"
      ]
     },
     "metadata": {},
     "output_type": "display_data"
    }
   ],
   "source": [
    "# Results data\n",
    "classes = ['human', 'chatGPT', 'cohere', 'davinci', 'bloomz', 'dolly']\n",
    "precision = [0.6927374301675978, 0.3268398268398268, 0.2512363996043521, 0.0, 0.639686684073107, 0.3577981651376147]\n",
    "recall = [0.248, 0.604, 0.508, 0.0, 0.98, 0.078]\n",
    "f1_score = [0.3652430044182622, 0.4241573033707865, 0.33620119126406356, 0.0, 0.7740916271721958, 0.12807881773399016]\n",
    "accuracy = 0.403  \n",
    "# Bar plot\n",
    "fig, ax = plt.subplots(figsize=(10, 6))\n",
    "bar_width = 0.2\n",
    "bar_positions = np.arange(len(classes))\n",
    "ax.bar(bar_positions - bar_width, precision, width=bar_width, label='Precision')\n",
    "ax.bar(bar_positions, recall, width=bar_width, label='Recall')\n",
    "ax.bar(bar_positions + bar_width, f1_score, width=bar_width, label='F1-Score')\n",
    "# Add accuracy as a horizontal line\n",
    "ax.axhline(y=accuracy, color='black', linestyle='--', label='Accuracy')\n",
    "# Customize plot\n",
    "ax.set_xticks(bar_positions)\n",
    "ax.set_xticklabels(classes)\n",
    "ax.set_xlabel('Classes')\n",
    "ax.set_ylabel('Scores')\n",
    "ax.set_title('Classification Metrics for Each Class')\n",
    "ax.legend()\n",
    "# Show the plot\n",
    "plt.show()"
   ]
  },
  {
   "cell_type": "code",
   "execution_count": null,
   "id": "e8caf63b-0cc9-403c-9d03-00d84fcf65d1",
   "metadata": {},
   "outputs": [],
   "source": []
  }
 ],
 "metadata": {
  "kernelspec": {
   "display_name": "Python 3 (ipykernel)",
   "language": "python",
   "name": "python3"
  },
  "language_info": {
   "codemirror_mode": {
    "name": "ipython",
    "version": 3
   },
   "file_extension": ".py",
   "mimetype": "text/x-python",
   "name": "python",
   "nbconvert_exporter": "python",
   "pygments_lexer": "ipython3",
   "version": "3.11.5"
  }
 },
 "nbformat": 4,
 "nbformat_minor": 5
}
